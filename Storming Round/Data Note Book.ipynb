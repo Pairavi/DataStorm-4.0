{
 "cells": [
  {
   "cell_type": "code",
   "execution_count": 1220,
   "id": "4ac395a5",
   "metadata": {
    "_cell_guid": "b1076dfc-b9ad-4769-8c92-a6c4dae69d19",
    "_uuid": "8f2839f25d086af736a60e9eeb907d3b93b6e0e5",
    "execution": {
     "iopub.execute_input": "2023-04-27T11:49:22.586891Z",
     "iopub.status.busy": "2023-04-27T11:49:22.586467Z",
     "iopub.status.idle": "2023-04-27T11:49:22.605125Z",
     "shell.execute_reply": "2023-04-27T11:49:22.603628Z"
    },
    "papermill": {
     "duration": 0.04881,
     "end_time": "2023-04-27T11:49:22.608121",
     "exception": false,
     "start_time": "2023-04-27T11:49:22.559311",
     "status": "completed"
    },
    "tags": []
   },
   "outputs": [],
   "source": [
    "# This Python 3 environment comes with many helpful analytics libraries installed\n",
    "# It is defined by the kaggle/python Docker image: https://github.com/kaggle/docker-python\n",
    "# For example, here's several helpful packages to load\n",
    "\n",
    "import numpy as np # linear algebra\n",
    "import pandas as pd # data processing, CSV file I/O (e.g. pd.read_csv)\n",
    "\n",
    "# Input data files are available in the read-only \"../input/\" directory\n",
    "# For example, running this (by clicking run or pressing Shift+Enter) will list all files under the input directory\n",
    "\n",
    "import os\n",
    "for dirname, _, filenames in os.walk('/kaggle/input'):\n",
    "    for filename in filenames:\n",
    "        print(os.path.join(dirname, filename))\n",
    "\n",
    "# You can write up to 20GB to the current directory (/kaggle/working/) that gets preserved as output when you create a version using \"Save & Run All\" \n",
    "# You can also write temporary files to /kaggle/temp/, but they won't be saved outside of the current session"
   ]
  },
  {
   "cell_type": "code",
   "execution_count": 1221,
   "id": "a349da3c",
   "metadata": {
    "execution": {
     "iopub.execute_input": "2023-04-27T11:49:22.661383Z",
     "iopub.status.busy": "2023-04-27T11:49:22.660556Z",
     "iopub.status.idle": "2023-04-27T11:49:24.142602Z",
     "shell.execute_reply": "2023-04-27T11:49:24.141316Z"
    },
    "jupyter": {
     "source_hidden": true
    },
    "papermill": {
     "duration": 1.510379,
     "end_time": "2023-04-27T11:49:24.145512",
     "exception": false,
     "start_time": "2023-04-27T11:49:22.635133",
     "status": "completed"
    },
    "tags": []
   },
   "outputs": [],
   "source": [
    "import warnings\n",
    "warnings.filterwarnings('ignore')\n",
    "\n",
    "import pandas as pd\n",
    "import numpy as np\n",
    "import matplotlib.pyplot as plt\n",
    "import seaborn as sns\n"
   ]
  },
  {
   "cell_type": "code",
   "execution_count": 1222,
   "id": "7912e458",
   "metadata": {
    "execution": {
     "iopub.execute_input": "2023-04-27T11:49:24.194299Z",
     "iopub.status.busy": "2023-04-27T11:49:24.193171Z",
     "iopub.status.idle": "2023-04-27T11:49:25.290817Z",
     "shell.execute_reply": "2023-04-27T11:49:25.288806Z"
    },
    "papermill": {
     "duration": 1.126247,
     "end_time": "2023-04-27T11:49:25.294438",
     "exception": false,
     "start_time": "2023-04-27T11:49:24.168191",
     "status": "completed"
    },
    "tags": []
   },
   "outputs": [],
   "source": [
    "df_1 = pd.read_csv('Historical-transaction-data.csv')\n",
    "df_2 = pd.read_csv('Store-info.csv')\n",
    "df_3=pd.read_csv(\"Testing-data.csv\")\n"
   ]
  },
  {
   "cell_type": "code",
   "execution_count": 1223,
   "id": "12c2cd13",
   "metadata": {},
   "outputs": [
    {
     "data": {
      "image/png": "[encoded data removed]",
      "text/plain": [
       "<Figure size 200x200 with 2 Axes>"
      ]
     },
     "metadata": {},
     "output_type": "display_data"
    }
   ],
   "source": [
    "corr=df_1.corr()\n",
    "mask = np.triu(np.ones_like(corr, dtype=bool))\n",
    "# Add the mask to the heatmap\n",
    "fig, ax = plt.subplots(figsize=(2,2)) \n",
    "sns.heatmap(corr, mask=mask,  center=0, linewidths=1, annot=True, fmt=\".3f\", ax = ax)\n",
    "plt.show()"
   ]
  },
  {
   "cell_type": "code",
   "execution_count": null,
   "id": "0eda3c7a",
   "metadata": {},
   "outputs": [],
   "source": []
  },
  {
   "cell_type": "code",
   "execution_count": 1224,
   "id": "ecac0852",
   "metadata": {},
   "outputs": [
    {
     "name": "stdout",
     "output_type": "stream",
     "text": [
      "Total number of unique transactions by day of week:\n",
      " day_of_week\n",
      "Friday       9\n",
      "Monday       9\n",
      "Saturday     9\n",
      "Sunday       9\n",
      "Thursday     8\n",
      "Tuesday      9\n",
      "Wednesday    9\n",
      "Name: transaction_date, dtype: int64\n"
     ]
    },
    {
     "data": {
      "text/html": [
       "<div>\n",
       "<style scoped>\n",
       "    .dataframe tbody tr th:only-of-type {\n",
       "        vertical-align: middle;\n",
       "    }\n",
       "\n",
       "    .dataframe tbody tr th {\n",
       "        vertical-align: top;\n",
       "    }\n",
       "\n",
       "    .dataframe thead th {\n",
       "        text-align: right;\n",
       "    }\n",
       "</style>\n",
       "<table border=\"1\" class=\"dataframe\">\n",
       "  <thead>\n",
       "    <tr style=\"text-align: right;\">\n",
       "      <th></th>\n",
       "      <th>day_of_week</th>\n",
       "      <th>total_unique_transactions</th>\n",
       "    </tr>\n",
       "  </thead>\n",
       "  <tbody>\n",
       "    <tr>\n",
       "      <th>0</th>\n",
       "      <td>Friday</td>\n",
       "      <td>9</td>\n",
       "    </tr>\n",
       "    <tr>\n",
       "      <th>1</th>\n",
       "      <td>Monday</td>\n",
       "      <td>9</td>\n",
       "    </tr>\n",
       "    <tr>\n",
       "      <th>2</th>\n",
       "      <td>Saturday</td>\n",
       "      <td>9</td>\n",
       "    </tr>\n",
       "    <tr>\n",
       "      <th>3</th>\n",
       "      <td>Sunday</td>\n",
       "      <td>9</td>\n",
       "    </tr>\n",
       "    <tr>\n",
       "      <th>4</th>\n",
       "      <td>Thursday</td>\n",
       "      <td>8</td>\n",
       "    </tr>\n",
       "  </tbody>\n",
       "</table>\n",
       "</div>"
      ],
      "text/plain": [
       "  day_of_week  total_unique_transactions\n",
       "0      Friday                          9\n",
       "1      Monday                          9\n",
       "2    Saturday                          9\n",
       "3      Sunday                          9\n",
       "4    Thursday                          8"
      ]
     },
     "execution_count": 1224,
     "metadata": {},
     "output_type": "execute_result"
    }
   ],
   "source": [
    "# monday_sales = df_1[df_1['transaction_date'].dt.day_name() == 'Monday']\n",
    "\n",
    "# # calculate the total count of Mondays\n",
    "# total_monday_count = monday_sales['transaction_date'].count()\n",
    "\n",
    "# print(\"Total count of Mondays:\", total_monday_count)\n",
    "\n",
    "# convert the transaction_date column to datetime\n",
    "df_1['transaction_date'] = pd.to_datetime(df_1['transaction_date'])\n",
    "\n",
    "# extract the day name for each transaction\n",
    "df_1['day_of_week'] = df_1['transaction_date'].dt.day_name()\n",
    "\n",
    "# count the number of unique transactions for each day of the week\n",
    "total_unique_transactions = df_1.groupby('day_of_week')['transaction_date'].nunique()\n",
    "\n",
    "print(\"Total number of unique transactions by day of week:\\n\", total_unique_transactions)\n",
    "\n",
    "# convert the transaction_date column to datetime\n",
    "df_1['transaction_date'] = pd.to_datetime(df_1['transaction_date'])\n",
    "\n",
    "# extract the day name for each transaction\n",
    "df_1['day_of_week'] = df_1['transaction_date'].dt.day_name()\n",
    "\n",
    "# count the number of unique transactions for each day of the week\n",
    "total_unique_transactions = df_1.groupby('day_of_week')['transaction_date'].nunique()\n",
    "\n",
    "# convert output to dataframe\n",
    "df_output = pd.DataFrame({'day_of_week': total_unique_transactions.index, 'total_unique_transactions': total_unique_transactions.values})\n",
    "\n",
    "df_output.head()\n",
    "\n",
    "\n"
   ]
  },
  {
   "cell_type": "code",
   "execution_count": 1225,
   "id": "95bb6dbd",
   "metadata": {},
   "outputs": [
    {
     "name": "stdout",
     "output_type": "stream",
     "text": [
      "day_of_week\n",
      "Friday       140914\n",
      "Monday       108235\n",
      "Saturday     173107\n",
      "Sunday       155703\n",
      "Thursday     104087\n",
      "Tuesday      115681\n",
      "Wednesday    114913\n",
      "Name: quantity_sold, dtype: int64\n"
     ]
    },
    {
     "data": {
      "text/html": [
       "<div>\n",
       "<style scoped>\n",
       "    .dataframe tbody tr th:only-of-type {\n",
       "        vertical-align: middle;\n",
       "    }\n",
       "\n",
       "    .dataframe tbody tr th {\n",
       "        vertical-align: top;\n",
       "    }\n",
       "\n",
       "    .dataframe thead th {\n",
       "        text-align: right;\n",
       "    }\n",
       "</style>\n",
       "<table border=\"1\" class=\"dataframe\">\n",
       "  <thead>\n",
       "    <tr style=\"text-align: right;\">\n",
       "      <th></th>\n",
       "      <th>day_of_week</th>\n",
       "      <th>quantity_sold</th>\n",
       "    </tr>\n",
       "  </thead>\n",
       "  <tbody>\n",
       "    <tr>\n",
       "      <th>0</th>\n",
       "      <td>Friday</td>\n",
       "      <td>140914</td>\n",
       "    </tr>\n",
       "    <tr>\n",
       "      <th>1</th>\n",
       "      <td>Monday</td>\n",
       "      <td>108235</td>\n",
       "    </tr>\n",
       "    <tr>\n",
       "      <th>2</th>\n",
       "      <td>Saturday</td>\n",
       "      <td>173107</td>\n",
       "    </tr>\n",
       "    <tr>\n",
       "      <th>3</th>\n",
       "      <td>Sunday</td>\n",
       "      <td>155703</td>\n",
       "    </tr>\n",
       "    <tr>\n",
       "      <th>4</th>\n",
       "      <td>Thursday</td>\n",
       "      <td>104087</td>\n",
       "    </tr>\n",
       "  </tbody>\n",
       "</table>\n",
       "</div>"
      ],
      "text/plain": [
       "  day_of_week  quantity_sold\n",
       "0      Friday         140914\n",
       "1      Monday         108235\n",
       "2    Saturday         173107\n",
       "3      Sunday         155703\n",
       "4    Thursday         104087"
      ]
     },
     "execution_count": 1225,
     "metadata": {},
     "output_type": "execute_result"
    }
   ],
   "source": [
    "import pandas as pd\n",
    "\n",
    "# load the dataset into a pandas dataframe\n",
    "# df_1 = pd.read_csv(\"your_dataset.csv\")\n",
    "\n",
    "# convert the transaction_date column to datetime\n",
    "df_1['transaction_date'] = pd.to_datetime(df_1['transaction_date'])\n",
    "\n",
    "# create a new column with the day of the week\n",
    "df_1['day_of_week'] = df_1['transaction_date'].dt.day_name()\n",
    "\n",
    "# group the dataframe by day of the week and sum the quantity_sold column\n",
    "daily_sales = df_1.groupby('day_of_week')['quantity_sold'].sum()\n",
    "\n",
    "print(daily_sales)\n",
    "\n",
    "df_1['transaction_date'] = pd.to_datetime(df_1['transaction_date'])\n",
    "\n",
    "# create a new column with the day of the week\n",
    "df_1['day_of_week'] = df_1['transaction_date'].dt.day_name()\n",
    "\n",
    "# group the dataframe by day of the week and sum the quantity_sold column\n",
    "daily_sales = df_1.groupby('day_of_week')['quantity_sold'].sum()\n",
    "\n",
    "# convert the series to a dataframe\n",
    "daily_sales_df = daily_sales.reset_index()\n",
    "\n",
    "daily_sales_df.head()"
   ]
  },
  {
   "cell_type": "code",
   "execution_count": 1226,
   "id": "b58733ad",
   "metadata": {},
   "outputs": [],
   "source": [
    "merged_df = pd.merge(df_output, daily_sales_df, on='day_of_week')"
   ]
  },
  {
   "cell_type": "code",
   "execution_count": 1227,
   "id": "d6308c28",
   "metadata": {},
   "outputs": [],
   "source": [
    "merged_df[\"average\"]=merged_df['quantity_sold']/merged_df['total_unique_transactions']"
   ]
  },
  {
   "cell_type": "code",
   "execution_count": 1228,
   "id": "61905e5e",
   "metadata": {},
   "outputs": [
    {
     "data": {
      "image/png": "[encoded data removed]",
      "text/plain": [
       "<Figure size 200x200 with 1 Axes>"
      ]
     },
     "metadata": {},
     "output_type": "display_data"
    },
    {
     "data": {
      "text/plain": [
       "<Figure size 600x1000 with 0 Axes>"
      ]
     },
     "metadata": {},
     "output_type": "display_data"
    }
   ],
   "source": [
    "import seaborn as sns\n",
    "import matplotlib.pyplot as plt\n",
    "\n",
    "# create a sample dataframe\n",
    "# data = {'sales': [100, 200, 300, 400, 500],\n",
    "\n",
    "# plot a bar chart using seaborn\n",
    "x=merged_df['day_of_week']\n",
    "y=merged_df['average']\n",
    "plt.bar(x, y,)\n",
    "plt.xticks(rotation=90)\n",
    "\n",
    "# add labels and title\n",
    "plt.xlabel('Day of Weeks')\n",
    "plt.ylabel('Sold_Count')\n",
    "plt.title('Title of the plot')\n",
    "plt.figure(figsize=(6, 10))\n",
    "\n",
    "# display the plot\n",
    "plt.show()\n"
   ]
  },
  {
   "cell_type": "markdown",
   "id": "cbcd9f32",
   "metadata": {
    "papermill": {
     "duration": 0.023337,
     "end_time": "2023-04-27T11:49:25.341643",
     "exception": false,
     "start_time": "2023-04-27T11:49:25.318306",
     "status": "completed"
    },
    "tags": []
   },
   "source": [
    "### Fill missing value"
   ]
  },
  {
   "cell_type": "code",
   "execution_count": 1229,
   "id": "aa706c86",
   "metadata": {
    "execution": {
     "iopub.execute_input": "2023-04-27T11:49:25.390729Z",
     "iopub.status.busy": "2023-04-27T11:49:25.390310Z",
     "iopub.status.idle": "2023-04-27T11:49:25.504302Z",
     "shell.execute_reply": "2023-04-27T11:49:25.502719Z"
    },
    "papermill": {
     "duration": 0.142608,
     "end_time": "2023-04-27T11:49:25.507420",
     "exception": false,
     "start_time": "2023-04-27T11:49:25.364812",
     "status": "completed"
    },
    "tags": []
   },
   "outputs": [
    {
     "name": "stdout",
     "output_type": "stream",
     "text": [
      "item_description    35928\n",
      "transaction_date        0\n",
      "invoice_id           6320\n",
      "customer_id             0\n",
      "shop_id                 0\n",
      "item_price              0\n",
      "quantity_sold           0\n",
      "day_of_week             0\n",
      "dtype: int64\n"
     ]
    }
   ],
   "source": [
    "null_counts = df_1.isnull().sum()\n",
    "print(null_counts)"
   ]
  },
  {
   "cell_type": "code",
   "execution_count": 1230,
   "id": "a420a42e",
   "metadata": {
    "execution": {
     "iopub.execute_input": "2023-04-27T11:49:25.558842Z",
     "iopub.status.busy": "2023-04-27T11:49:25.558077Z",
     "iopub.status.idle": "2023-04-27T11:49:26.021646Z",
     "shell.execute_reply": "2023-04-27T11:49:26.020435Z"
    },
    "papermill": {
     "duration": 0.494232,
     "end_time": "2023-04-27T11:49:26.024479",
     "exception": false,
     "start_time": "2023-04-27T11:49:25.530247",
     "status": "completed"
    },
    "tags": []
   },
   "outputs": [],
   "source": [
    "df_1 = df_1.drop_duplicates()\n"
   ]
  },
  {
   "cell_type": "code",
   "execution_count": 1231,
   "id": "0f3c4b67",
   "metadata": {
    "execution": {
     "iopub.execute_input": "2023-04-27T11:49:26.074622Z",
     "iopub.status.busy": "2023-04-27T11:49:26.073952Z",
     "iopub.status.idle": "2023-04-27T11:49:26.112620Z",
     "shell.execute_reply": "2023-04-27T11:49:26.111142Z"
    },
    "papermill": {
     "duration": 0.066375,
     "end_time": "2023-04-27T11:49:26.115736",
     "exception": false,
     "start_time": "2023-04-27T11:49:26.049361",
     "status": "completed"
    },
    "tags": []
   },
   "outputs": [],
   "source": [
    "df_1['item_description'] = df_1['item_description'].fillna(\"NAN SODA 1L\")"
   ]
  },
  {
   "cell_type": "code",
   "execution_count": 1232,
   "id": "a83c609a",
   "metadata": {
    "execution": {
     "iopub.execute_input": "2023-04-27T11:49:26.165183Z",
     "iopub.status.busy": "2023-04-27T11:49:26.164718Z",
     "iopub.status.idle": "2023-04-27T11:49:33.623023Z",
     "shell.execute_reply": "2023-04-27T11:49:33.620302Z"
    },
    "papermill": {
     "duration": 7.486929,
     "end_time": "2023-04-27T11:49:33.626253",
     "exception": false,
     "start_time": "2023-04-27T11:49:26.139324",
     "status": "completed"
    },
    "tags": []
   },
   "outputs": [],
   "source": [
    "grouped = df_1.groupby(['shop_id'])\n",
    "\n",
    "# loop through each group\n",
    "for name, group in grouped:\n",
    "    # find the maximum invoice_id value for the group\n",
    "    max_invoice_id = group['invoice_id'].max()\n",
    "    \n",
    "    # fill missing invoice_id values with new ones based on the maximum value for the group\n",
    "    group['invoice_id'].fillna(max_invoice_id + 1, inplace=True)\n",
    "    \n",
    "    # replace the group in the original dataframe with the updated group\n",
    "    df_1.loc[group.index] = group\n"
   ]
  },
  {
   "cell_type": "code",
   "execution_count": 1233,
   "id": "00c6bdcc",
   "metadata": {
    "execution": {
     "iopub.execute_input": "2023-04-27T11:49:33.682635Z",
     "iopub.status.busy": "2023-04-27T11:49:33.682191Z",
     "iopub.status.idle": "2023-04-27T11:49:33.787709Z",
     "shell.execute_reply": "2023-04-27T11:49:33.784856Z"
    },
    "papermill": {
     "duration": 0.137592,
     "end_time": "2023-04-27T11:49:33.791913",
     "exception": false,
     "start_time": "2023-04-27T11:49:33.654321",
     "status": "completed"
    },
    "tags": []
   },
   "outputs": [
    {
     "name": "stdout",
     "output_type": "stream",
     "text": [
      "item_description    0\n",
      "transaction_date    0\n",
      "invoice_id          0\n",
      "customer_id         0\n",
      "shop_id             0\n",
      "item_price          0\n",
      "quantity_sold       0\n",
      "day_of_week         0\n",
      "dtype: int64\n"
     ]
    }
   ],
   "source": [
    "null_counts = df_1.isnull().sum()\n",
    "print(null_counts)"
   ]
  },
  {
   "cell_type": "markdown",
   "id": "031edf3a",
   "metadata": {
    "papermill": {
     "duration": 0.022384,
     "end_time": "2023-04-27T11:49:33.838366",
     "exception": false,
     "start_time": "2023-04-27T11:49:33.815982",
     "status": "completed"
    },
    "tags": []
   },
   "source": [
    "### Split the date to features"
   ]
  },
  {
   "cell_type": "code",
   "execution_count": 1235,
   "id": "99a5d88f",
   "metadata": {
    "execution": {
     "iopub.execute_input": "2023-04-27T11:49:33.887609Z",
     "iopub.status.busy": "2023-04-27T11:49:33.887152Z",
     "iopub.status.idle": "2023-04-27T11:49:34.280006Z",
     "shell.execute_reply": "2023-04-27T11:49:34.278863Z"
    },
    "papermill": {
     "duration": 0.42244,
     "end_time": "2023-04-27T11:49:34.283417",
     "exception": false,
     "start_time": "2023-04-27T11:49:33.860977",
     "status": "completed"
    },
    "tags": []
   },
   "outputs": [],
   "source": [
    "# dates = df_1['transaction_date']\n",
    "# Dates = []\n",
    "# df_1['transaction_date'] = pd.to_datetime(df_1['transaction_date'])\n",
    "# # Extract the substring corresponding to the day component\n",
    "# for date in dates:\n",
    "#     day_string = date[8:10]\n",
    "    \n",
    "#     # Convert the day string to an integer\n",
    "#     day = int(day_string)\n",
    "    \n",
    "#     Dates.append(day)\n",
    "    \n",
    "    \n",
    "# df_1['date'] =  Dates\n",
    "\n",
    "dates = df_1['transaction_date']\n",
    "Dates = []\n",
    "\n",
    "# Extract the day component from each Timestamp object\n",
    "for date in dates:\n",
    "    day = date.day\n",
    "    Dates.append(day)\n",
    "    \n",
    "df_1['date'] =  Dates"
   ]
  },
  {
   "cell_type": "code",
   "execution_count": 1236,
   "id": "5978f361",
   "metadata": {
    "execution": {
     "iopub.execute_input": "2023-04-27T11:49:34.334317Z",
     "iopub.status.busy": "2023-04-27T11:49:34.332344Z",
     "iopub.status.idle": "2023-04-27T11:49:34.497722Z",
     "shell.execute_reply": "2023-04-27T11:49:34.496068Z"
    },
    "papermill": {
     "duration": 0.193939,
     "end_time": "2023-04-27T11:49:34.500936",
     "exception": false,
     "start_time": "2023-04-27T11:49:34.306997",
     "status": "completed"
    },
    "tags": []
   },
   "outputs": [],
   "source": [
    "sl_holidays = [pd.to_datetime(d) for d in ['2021-10-19', '2021-10-20', '2021-11-04', '2022-11-18', \n",
    "                                           '2022-12-18', '2022-12-25']]\n",
    "\n",
    "# assume that the transaction_date column is a string column\n",
    "df_1['transaction_date'] = pd.to_datetime(df_1['transaction_date'])\n",
    "\n",
    "# now you can use the .dt accessor on the transaction_date column\n",
    "df_1['is_weekend'] = df_1['transaction_date'].dt.weekday.isin([5, 6])\n",
    "\n",
    "df_1['is_holiday'] = df_1['transaction_date'].isin(sl_holidays)\n",
    "\n",
    "# convert boolean values to integers\n",
    "df_1['is_weekend'] = df_1['is_weekend'].astype(int)\n",
    "\n",
    "df_1['is_holiday'] = df_1['is_holiday'].astype(int)"
   ]
  },
  {
   "cell_type": "code",
   "execution_count": 1237,
   "id": "ab621ffb",
   "metadata": {
    "execution": {
     "iopub.execute_input": "2023-04-27T11:49:34.555327Z",
     "iopub.status.busy": "2023-04-27T11:49:34.554856Z",
     "iopub.status.idle": "2023-04-27T11:49:34.589742Z",
     "shell.execute_reply": "2023-04-27T11:49:34.588119Z"
    },
    "papermill": {
     "duration": 0.069288,
     "end_time": "2023-04-27T11:49:34.593960",
     "exception": false,
     "start_time": "2023-04-27T11:49:34.524672",
     "status": "completed"
    },
    "tags": []
   },
   "outputs": [],
   "source": [
    "# df_1.head()"
   ]
  },
  {
   "cell_type": "code",
   "execution_count": 1238,
   "id": "095beb5d",
   "metadata": {
    "execution": {
     "iopub.execute_input": "2023-04-27T11:49:34.643427Z",
     "iopub.status.busy": "2023-04-27T11:49:34.642832Z",
     "iopub.status.idle": "2023-04-27T11:49:34.694768Z",
     "shell.execute_reply": "2023-04-27T11:49:34.693309Z"
    },
    "papermill": {
     "duration": 0.081304,
     "end_time": "2023-04-27T11:49:34.698285",
     "exception": false,
     "start_time": "2023-04-27T11:49:34.616981",
     "status": "completed"
    },
    "tags": []
   },
   "outputs": [],
   "source": [
    "shop_invoice_count = df_1.groupby('shop_id')['invoice_id'].count()\n",
    "# shop_invoice_counts = df_1.groupby('shop_id')['invoice_id'].value_counts().reset_index(name='invoice_count')\n",
    "# shop_invoice_counts"
   ]
  },
  {
   "cell_type": "code",
   "execution_count": 1239,
   "id": "729c59a5",
   "metadata": {
    "execution": {
     "iopub.execute_input": "2023-04-27T11:49:34.750637Z",
     "iopub.status.busy": "2023-04-27T11:49:34.750122Z",
     "iopub.status.idle": "2023-04-27T11:49:34.758763Z",
     "shell.execute_reply": "2023-04-27T11:49:34.756694Z"
    },
    "papermill": {
     "duration": 0.038937,
     "end_time": "2023-04-27T11:49:34.762132",
     "exception": false,
     "start_time": "2023-04-27T11:49:34.723195",
     "status": "completed"
    },
    "tags": []
   },
   "outputs": [],
   "source": [
    "shop_invoice_count= pd.DataFrame(shop_invoice_count)\n",
    "shop_invoice_count = shop_invoice_count.rename(columns={'invoice_id': 'count_invoice'})\n",
    "# shop_invoice_count "
   ]
  },
  {
   "cell_type": "markdown",
   "id": "a0c4d7e4",
   "metadata": {
    "papermill": {
     "duration": 0.025092,
     "end_time": "2023-04-27T11:49:34.811712",
     "exception": false,
     "start_time": "2023-04-27T11:49:34.786620",
     "status": "completed"
    },
    "tags": []
   },
   "source": [
    "### Spilit the Item_description "
   ]
  },
  {
   "cell_type": "code",
   "execution_count": 1240,
   "id": "cf70f4de",
   "metadata": {
    "execution": {
     "iopub.execute_input": "2023-04-27T11:49:34.863301Z",
     "iopub.status.busy": "2023-04-27T11:49:34.862856Z",
     "iopub.status.idle": "2023-04-27T11:49:36.792141Z",
     "shell.execute_reply": "2023-04-27T11:49:36.790402Z"
    },
    "papermill": {
     "duration": 1.959161,
     "end_time": "2023-04-27T11:49:36.795577",
     "exception": false,
     "start_time": "2023-04-27T11:49:34.836416",
     "status": "completed"
    },
    "tags": []
   },
   "outputs": [],
   "source": [
    "\n",
    "# extract item_name and item_size from item_description\n",
    "df_1[['item_name', 'item_size']] = df_1['item_description'].str.extract('([\\w\\s]+) (\\d*\\.?\\d+)\\w{0,2}$')\n",
    "\n",
    "# convert item_size to liters\n",
    "df_1['item_size'] = df_1['item_size'].astype(float)\n",
    "df_1.loc[df_1['item_description'].str.contains('ML', na=False), 'item_size'] /= 1000\n",
    "\n",
    "# display the result\n",
    "# df_1.head"
   ]
  },
  {
   "cell_type": "markdown",
   "id": "4fbd3393",
   "metadata": {
    "papermill": {
     "duration": 0.025171,
     "end_time": "2023-04-27T11:49:36.845491",
     "exception": false,
     "start_time": "2023-04-27T11:49:36.820320",
     "status": "completed"
    },
    "tags": []
   },
   "source": [
    "### Merge two data set"
   ]
  },
  {
   "cell_type": "code",
   "execution_count": 1241,
   "id": "0c6c3256",
   "metadata": {
    "execution": {
     "iopub.execute_input": "2023-04-27T11:49:36.895366Z",
     "iopub.status.busy": "2023-04-27T11:49:36.894964Z",
     "iopub.status.idle": "2023-04-27T11:49:37.244311Z",
     "shell.execute_reply": "2023-04-27T11:49:37.242892Z"
    },
    "papermill": {
     "duration": 0.378243,
     "end_time": "2023-04-27T11:49:37.248026",
     "exception": false,
     "start_time": "2023-04-27T11:49:36.869783",
     "status": "completed"
    },
    "tags": []
   },
   "outputs": [],
   "source": [
    "# df_2 = pd.read_csv('/kaggle/input/data-storm-4/Store-info.csv')\n",
    "\n",
    "# Merge the two DataFrames on the primary key column\n",
    "df_11 = pd.merge(shop_invoice_count, df_2, on='shop_id')\n",
    "# df_1=pd.merge(df_1,shop_invoice_count, on='shop_id')\n",
    "df_12= pd.merge(df_1, df_11, on='shop_id')\n",
    "# df_12\n",
    "df_1=df_12\n",
    "# df_1"
   ]
  },
  {
   "cell_type": "code",
   "execution_count": 1242,
   "id": "8a3dfc31",
   "metadata": {
    "execution": {
     "iopub.execute_input": "2023-04-27T11:49:37.299059Z",
     "iopub.status.busy": "2023-04-27T11:49:37.298365Z",
     "iopub.status.idle": "2023-04-27T11:49:37.513164Z",
     "shell.execute_reply": "2023-04-27T11:49:37.511531Z"
    },
    "papermill": {
     "duration": 0.244025,
     "end_time": "2023-04-27T11:49:37.516660",
     "exception": false,
     "start_time": "2023-04-27T11:49:37.272635",
     "status": "completed"
    },
    "tags": []
   },
   "outputs": [],
   "source": [
    "# # df_1['item_price'] = df_1.groupby(['item_description'])['item_price'].apply(lambda x: x.fill(x.mode()[0]))\n",
    "# df_1['item_price'] = df_1.groupby('item_description')['item_price'].transform(lambda x: x.fill(x.mode()[0]))\n",
    "\n",
    "# df_1\n",
    "\n",
    "def get_mode(series):\n",
    "    return series.mode().iloc[0]\n",
    "\n",
    "# Group the data frame by the primary key column and apply the mode function to each group\n",
    "mode_values = df_1.groupby('item_description')['item_price'].transform(get_mode)\n",
    "\n",
    "# Identify values that are not equal to the mode value within each group\n",
    "not_mode = df_1['item_price'] != mode_values\n",
    "\n",
    "# Replace those values with the mode value using the loc method\n",
    "df_1.loc[not_mode, 'item_price'] = mode_values\n",
    "# df_1"
   ]
  },
  {
   "cell_type": "markdown",
   "id": "df88c15e",
   "metadata": {
    "papermill": {
     "duration": 0.024599,
     "end_time": "2023-04-27T11:49:37.566869",
     "exception": false,
     "start_time": "2023-04-27T11:49:37.542270",
     "status": "completed"
    },
    "tags": []
   },
   "source": [
    "### Add new feature"
   ]
  },
  {
   "cell_type": "code",
   "execution_count": 1243,
   "id": "73824c79",
   "metadata": {
    "execution": {
     "iopub.execute_input": "2023-04-27T11:49:37.619166Z",
     "iopub.status.busy": "2023-04-27T11:49:37.618674Z",
     "iopub.status.idle": "2023-04-27T11:49:37.647556Z",
     "shell.execute_reply": "2023-04-27T11:49:37.646130Z"
    },
    "papermill": {
     "duration": 0.059056,
     "end_time": "2023-04-27T11:49:37.650567",
     "exception": false,
     "start_time": "2023-04-27T11:49:37.591511",
     "status": "completed"
    },
    "tags": []
   },
   "outputs": [],
   "source": [
    "df_1['total_amount'] = df_1['item_price']*df_1['quantity_sold']\n",
    "# df_1"
   ]
  },
  {
   "cell_type": "code",
   "execution_count": 1244,
   "id": "8eae2671",
   "metadata": {
    "execution": {
     "iopub.execute_input": "2023-04-27T11:49:37.703010Z",
     "iopub.status.busy": "2023-04-27T11:49:37.702548Z",
     "iopub.status.idle": "2023-04-27T11:49:38.398625Z",
     "shell.execute_reply": "2023-04-27T11:49:38.397112Z"
    },
    "papermill": {
     "duration": 0.727213,
     "end_time": "2023-04-27T11:49:38.401994",
     "exception": false,
     "start_time": "2023-04-27T11:49:37.674781",
     "status": "completed"
    },
    "tags": []
   },
   "outputs": [
    {
     "data": {
      "text/html": [
       "<div>\n",
       "<style scoped>\n",
       "    .dataframe tbody tr th:only-of-type {\n",
       "        vertical-align: middle;\n",
       "    }\n",
       "\n",
       "    .dataframe tbody tr th {\n",
       "        vertical-align: top;\n",
       "    }\n",
       "\n",
       "    .dataframe thead th {\n",
       "        text-align: right;\n",
       "    }\n",
       "</style>\n",
       "<table border=\"1\" class=\"dataframe\">\n",
       "  <thead>\n",
       "    <tr style=\"text-align: right;\">\n",
       "      <th></th>\n",
       "      <th>item_description</th>\n",
       "      <th>transaction_date</th>\n",
       "      <th>invoice_id</th>\n",
       "      <th>customer_id</th>\n",
       "      <th>shop_id</th>\n",
       "      <th>item_price</th>\n",
       "      <th>quantity_sold</th>\n",
       "      <th>day_of_week</th>\n",
       "      <th>date</th>\n",
       "      <th>is_weekend</th>\n",
       "      <th>is_holiday</th>\n",
       "      <th>item_name</th>\n",
       "      <th>item_size</th>\n",
       "      <th>count_invoice</th>\n",
       "      <th>shop_area_sq_ft</th>\n",
       "      <th>shop_profile</th>\n",
       "      <th>total_amount</th>\n",
       "      <th>income</th>\n",
       "      <th>total_quantity</th>\n",
       "      <th>income_per_quantity</th>\n",
       "    </tr>\n",
       "  </thead>\n",
       "  <tbody>\n",
       "    <tr>\n",
       "      <th>0</th>\n",
       "      <td>ORANGE BARLEY 1.5L</td>\n",
       "      <td>2021-12-11 00:00:00+00:00</td>\n",
       "      <td>147.0</td>\n",
       "      <td>BGXA</td>\n",
       "      <td>SHOP008</td>\n",
       "      <td>220</td>\n",
       "      <td>2</td>\n",
       "      <td>Saturday</td>\n",
       "      <td>11</td>\n",
       "      <td>1</td>\n",
       "      <td>0</td>\n",
       "      <td>ORANGE BARLEY</td>\n",
       "      <td>1.5</td>\n",
       "      <td>244</td>\n",
       "      <td>678</td>\n",
       "      <td>Moderate</td>\n",
       "      <td>440</td>\n",
       "      <td>71625</td>\n",
       "      <td>461</td>\n",
       "      <td>155.368764</td>\n",
       "    </tr>\n",
       "    <tr>\n",
       "      <th>1</th>\n",
       "      <td>TONIC PET 500ML</td>\n",
       "      <td>2021-12-13 00:00:00+00:00</td>\n",
       "      <td>484.0</td>\n",
       "      <td>VN7V</td>\n",
       "      <td>SHOP008</td>\n",
       "      <td>160</td>\n",
       "      <td>2</td>\n",
       "      <td>Monday</td>\n",
       "      <td>13</td>\n",
       "      <td>0</td>\n",
       "      <td>0</td>\n",
       "      <td>TONIC PET</td>\n",
       "      <td>0.5</td>\n",
       "      <td>244</td>\n",
       "      <td>678</td>\n",
       "      <td>Moderate</td>\n",
       "      <td>320</td>\n",
       "      <td>71625</td>\n",
       "      <td>461</td>\n",
       "      <td>155.368764</td>\n",
       "    </tr>\n",
       "    <tr>\n",
       "      <th>2</th>\n",
       "      <td>CREAM SODA 1L</td>\n",
       "      <td>2021-12-13 00:00:00+00:00</td>\n",
       "      <td>484.0</td>\n",
       "      <td>VN7V</td>\n",
       "      <td>SHOP008</td>\n",
       "      <td>150</td>\n",
       "      <td>2</td>\n",
       "      <td>Monday</td>\n",
       "      <td>13</td>\n",
       "      <td>0</td>\n",
       "      <td>0</td>\n",
       "      <td>CREAM SODA</td>\n",
       "      <td>1.0</td>\n",
       "      <td>244</td>\n",
       "      <td>678</td>\n",
       "      <td>Moderate</td>\n",
       "      <td>300</td>\n",
       "      <td>71625</td>\n",
       "      <td>461</td>\n",
       "      <td>155.368764</td>\n",
       "    </tr>\n",
       "    <tr>\n",
       "      <th>3</th>\n",
       "      <td>GINGER BEER 1.5L</td>\n",
       "      <td>2021-12-10 00:00:00+00:00</td>\n",
       "      <td>1000053.0</td>\n",
       "      <td>VT9C</td>\n",
       "      <td>SHOP008</td>\n",
       "      <td>220</td>\n",
       "      <td>1</td>\n",
       "      <td>Friday</td>\n",
       "      <td>10</td>\n",
       "      <td>0</td>\n",
       "      <td>0</td>\n",
       "      <td>GINGER BEER</td>\n",
       "      <td>1.5</td>\n",
       "      <td>244</td>\n",
       "      <td>678</td>\n",
       "      <td>Moderate</td>\n",
       "      <td>220</td>\n",
       "      <td>71625</td>\n",
       "      <td>461</td>\n",
       "      <td>155.368764</td>\n",
       "    </tr>\n",
       "    <tr>\n",
       "      <th>4</th>\n",
       "      <td>GINGER BEER 1.5L</td>\n",
       "      <td>2021-12-10 00:00:00+00:00</td>\n",
       "      <td>1000057.0</td>\n",
       "      <td>8QLS</td>\n",
       "      <td>SHOP008</td>\n",
       "      <td>220</td>\n",
       "      <td>1</td>\n",
       "      <td>Friday</td>\n",
       "      <td>10</td>\n",
       "      <td>0</td>\n",
       "      <td>0</td>\n",
       "      <td>GINGER BEER</td>\n",
       "      <td>1.5</td>\n",
       "      <td>244</td>\n",
       "      <td>678</td>\n",
       "      <td>Moderate</td>\n",
       "      <td>220</td>\n",
       "      <td>71625</td>\n",
       "      <td>461</td>\n",
       "      <td>155.368764</td>\n",
       "    </tr>\n",
       "    <tr>\n",
       "      <th>...</th>\n",
       "      <td>...</td>\n",
       "      <td>...</td>\n",
       "      <td>...</td>\n",
       "      <td>...</td>\n",
       "      <td>...</td>\n",
       "      <td>...</td>\n",
       "      <td>...</td>\n",
       "      <td>...</td>\n",
       "      <td>...</td>\n",
       "      <td>...</td>\n",
       "      <td>...</td>\n",
       "      <td>...</td>\n",
       "      <td>...</td>\n",
       "      <td>...</td>\n",
       "      <td>...</td>\n",
       "      <td>...</td>\n",
       "      <td>...</td>\n",
       "      <td>...</td>\n",
       "      <td>...</td>\n",
       "      <td>...</td>\n",
       "    </tr>\n",
       "    <tr>\n",
       "      <th>442758</th>\n",
       "      <td>NAN SODA 1L</td>\n",
       "      <td>2021-12-09 00:00:00+00:00</td>\n",
       "      <td>7030409.0</td>\n",
       "      <td>QVA7</td>\n",
       "      <td>SHOP072</td>\n",
       "      <td>70</td>\n",
       "      <td>1</td>\n",
       "      <td>Thursday</td>\n",
       "      <td>9</td>\n",
       "      <td>0</td>\n",
       "      <td>0</td>\n",
       "      <td>NAN SODA</td>\n",
       "      <td>1.0</td>\n",
       "      <td>4160</td>\n",
       "      <td>617</td>\n",
       "      <td>High</td>\n",
       "      <td>70</td>\n",
       "      <td>1184460</td>\n",
       "      <td>8173</td>\n",
       "      <td>144.923529</td>\n",
       "    </tr>\n",
       "    <tr>\n",
       "      <th>442759</th>\n",
       "      <td>FIT O ORANGE 200ML</td>\n",
       "      <td>2021-12-11 00:00:00+00:00</td>\n",
       "      <td>7030809.0</td>\n",
       "      <td>HXMG</td>\n",
       "      <td>SHOP072</td>\n",
       "      <td>60</td>\n",
       "      <td>2</td>\n",
       "      <td>Saturday</td>\n",
       "      <td>11</td>\n",
       "      <td>1</td>\n",
       "      <td>0</td>\n",
       "      <td>FIT O ORANGE</td>\n",
       "      <td>0.2</td>\n",
       "      <td>4160</td>\n",
       "      <td>617</td>\n",
       "      <td>High</td>\n",
       "      <td>120</td>\n",
       "      <td>1184460</td>\n",
       "      <td>8173</td>\n",
       "      <td>144.923529</td>\n",
       "    </tr>\n",
       "    <tr>\n",
       "      <th>442760</th>\n",
       "      <td>BOTTLED DRINKING WATER 500ML</td>\n",
       "      <td>2021-12-11 00:00:00+00:00</td>\n",
       "      <td>7030820.0</td>\n",
       "      <td>OUH2</td>\n",
       "      <td>SHOP072</td>\n",
       "      <td>35</td>\n",
       "      <td>1</td>\n",
       "      <td>Saturday</td>\n",
       "      <td>11</td>\n",
       "      <td>1</td>\n",
       "      <td>0</td>\n",
       "      <td>BOTTLED DRINKING WATER</td>\n",
       "      <td>0.5</td>\n",
       "      <td>4160</td>\n",
       "      <td>617</td>\n",
       "      <td>High</td>\n",
       "      <td>35</td>\n",
       "      <td>1184460</td>\n",
       "      <td>8173</td>\n",
       "      <td>144.923529</td>\n",
       "    </tr>\n",
       "    <tr>\n",
       "      <th>442761</th>\n",
       "      <td>GINGER BEER 1.5L</td>\n",
       "      <td>2021-10-21 00:00:00+00:00</td>\n",
       "      <td>7031845.0</td>\n",
       "      <td>5IJM</td>\n",
       "      <td>SHOP072</td>\n",
       "      <td>220</td>\n",
       "      <td>1</td>\n",
       "      <td>Thursday</td>\n",
       "      <td>21</td>\n",
       "      <td>0</td>\n",
       "      <td>0</td>\n",
       "      <td>GINGER BEER</td>\n",
       "      <td>1.5</td>\n",
       "      <td>4160</td>\n",
       "      <td>617</td>\n",
       "      <td>High</td>\n",
       "      <td>220</td>\n",
       "      <td>1184460</td>\n",
       "      <td>8173</td>\n",
       "      <td>144.923529</td>\n",
       "    </tr>\n",
       "    <tr>\n",
       "      <th>442762</th>\n",
       "      <td>CREAM SODA 1.5L</td>\n",
       "      <td>2021-10-27 00:00:00+00:00</td>\n",
       "      <td>7031845.0</td>\n",
       "      <td>UARW</td>\n",
       "      <td>SHOP072</td>\n",
       "      <td>220</td>\n",
       "      <td>0</td>\n",
       "      <td>Wednesday</td>\n",
       "      <td>27</td>\n",
       "      <td>0</td>\n",
       "      <td>0</td>\n",
       "      <td>CREAM SODA</td>\n",
       "      <td>1.5</td>\n",
       "      <td>4160</td>\n",
       "      <td>617</td>\n",
       "      <td>High</td>\n",
       "      <td>0</td>\n",
       "      <td>1184460</td>\n",
       "      <td>8173</td>\n",
       "      <td>144.923529</td>\n",
       "    </tr>\n",
       "  </tbody>\n",
       "</table>\n",
       "<p>442763 rows × 20 columns</p>\n",
       "</div>"
      ],
      "text/plain": [
       "                    item_description          transaction_date  invoice_id  \\\n",
       "0                 ORANGE BARLEY 1.5L 2021-12-11 00:00:00+00:00       147.0   \n",
       "1                    TONIC PET 500ML 2021-12-13 00:00:00+00:00       484.0   \n",
       "2                      CREAM SODA 1L 2021-12-13 00:00:00+00:00       484.0   \n",
       "3                   GINGER BEER 1.5L 2021-12-10 00:00:00+00:00   1000053.0   \n",
       "4                   GINGER BEER 1.5L 2021-12-10 00:00:00+00:00   1000057.0   \n",
       "...                              ...                       ...         ...   \n",
       "442758                   NAN SODA 1L 2021-12-09 00:00:00+00:00   7030409.0   \n",
       "442759            FIT O ORANGE 200ML 2021-12-11 00:00:00+00:00   7030809.0   \n",
       "442760  BOTTLED DRINKING WATER 500ML 2021-12-11 00:00:00+00:00   7030820.0   \n",
       "442761              GINGER BEER 1.5L 2021-10-21 00:00:00+00:00   7031845.0   \n",
       "442762               CREAM SODA 1.5L 2021-10-27 00:00:00+00:00   7031845.0   \n",
       "\n",
       "       customer_id  shop_id  item_price  quantity_sold day_of_week  date  \\\n",
       "0             BGXA  SHOP008         220              2    Saturday    11   \n",
       "1             VN7V  SHOP008         160              2      Monday    13   \n",
       "2             VN7V  SHOP008         150              2      Monday    13   \n",
       "3             VT9C  SHOP008         220              1      Friday    10   \n",
       "4             8QLS  SHOP008         220              1      Friday    10   \n",
       "...            ...      ...         ...            ...         ...   ...   \n",
       "442758        QVA7  SHOP072          70              1    Thursday     9   \n",
       "442759        HXMG  SHOP072          60              2    Saturday    11   \n",
       "442760        OUH2  SHOP072          35              1    Saturday    11   \n",
       "442761        5IJM  SHOP072         220              1    Thursday    21   \n",
       "442762        UARW  SHOP072         220              0   Wednesday    27   \n",
       "\n",
       "        is_weekend  is_holiday               item_name  item_size  \\\n",
       "0                1           0           ORANGE BARLEY        1.5   \n",
       "1                0           0               TONIC PET        0.5   \n",
       "2                0           0              CREAM SODA        1.0   \n",
       "3                0           0             GINGER BEER        1.5   \n",
       "4                0           0             GINGER BEER        1.5   \n",
       "...            ...         ...                     ...        ...   \n",
       "442758           0           0                NAN SODA        1.0   \n",
       "442759           1           0            FIT O ORANGE        0.2   \n",
       "442760           1           0  BOTTLED DRINKING WATER        0.5   \n",
       "442761           0           0             GINGER BEER        1.5   \n",
       "442762           0           0              CREAM SODA        1.5   \n",
       "\n",
       "        count_invoice  shop_area_sq_ft shop_profile  total_amount   income  \\\n",
       "0                 244              678     Moderate           440    71625   \n",
       "1                 244              678     Moderate           320    71625   \n",
       "2                 244              678     Moderate           300    71625   \n",
       "3                 244              678     Moderate           220    71625   \n",
       "4                 244              678     Moderate           220    71625   \n",
       "...               ...              ...          ...           ...      ...   \n",
       "442758           4160              617         High            70  1184460   \n",
       "442759           4160              617         High           120  1184460   \n",
       "442760           4160              617         High            35  1184460   \n",
       "442761           4160              617         High           220  1184460   \n",
       "442762           4160              617         High             0  1184460   \n",
       "\n",
       "        total_quantity  income_per_quantity  \n",
       "0                  461           155.368764  \n",
       "1                  461           155.368764  \n",
       "2                  461           155.368764  \n",
       "3                  461           155.368764  \n",
       "4                  461           155.368764  \n",
       "...                ...                  ...  \n",
       "442758            8173           144.923529  \n",
       "442759            8173           144.923529  \n",
       "442760            8173           144.923529  \n",
       "442761            8173           144.923529  \n",
       "442762            8173           144.923529  \n",
       "\n",
       "[442763 rows x 20 columns]"
      ]
     },
     "execution_count": 1244,
     "metadata": {},
     "output_type": "execute_result"
    }
   ],
   "source": [
    "grouped = df_1.groupby('shop_id')\n",
    "\n",
    "# Calculate the income and total quantity sold for each shop\n",
    "income = grouped.apply(lambda x: (x['item_price'] * x['quantity_sold']).sum())\n",
    "quantity = grouped['quantity_sold'].sum()\n",
    "\n",
    "# Combine the income and quantity data into a new DataFrame\n",
    "grouped = pd.concat([income, quantity], axis=1)\n",
    "\n",
    "# Rename the columns\n",
    "grouped.columns = ['income', 'total_quantity']\n",
    "grouped['income_per_quantity'] = grouped['income']/grouped['total_quantity']\n",
    "grouped\n",
    "df_13=pd.merge(df_1, grouped, on='shop_id')\n",
    "df_1=df_13\n",
    "df_1"
   ]
  },
  {
   "cell_type": "code",
   "execution_count": 1245,
   "id": "b31b93d2",
   "metadata": {
    "execution": {
     "iopub.execute_input": "2023-04-27T11:49:38.457365Z",
     "iopub.status.busy": "2023-04-27T11:49:38.456953Z",
     "iopub.status.idle": "2023-04-27T11:49:38.560187Z",
     "shell.execute_reply": "2023-04-27T11:49:38.558841Z"
    },
    "papermill": {
     "duration": 0.134982,
     "end_time": "2023-04-27T11:49:38.563608",
     "exception": false,
     "start_time": "2023-04-27T11:49:38.428626",
     "status": "completed"
    },
    "tags": []
   },
   "outputs": [],
   "source": [
    "# convert transaction_date column to datetime type\n",
    "df_1['transaction_date'] = pd.to_datetime(df_1['transaction_date'])\n",
    "\n",
    "# calculate week of the month\n",
    "df_1['weekper_month'] = ((df_1['transaction_date'].dt.day - 1) // 7 + 1)\n",
    "\n",
    "# print dataframe\n",
    "# df_1"
   ]
  },
  {
   "cell_type": "code",
   "execution_count": 1246,
   "id": "6676ea98",
   "metadata": {
    "execution": {
     "iopub.execute_input": "2023-04-27T11:49:38.620566Z",
     "iopub.status.busy": "2023-04-27T11:49:38.620118Z",
     "iopub.status.idle": "2023-04-27T11:49:39.165805Z",
     "shell.execute_reply": "2023-04-27T11:49:39.164407Z"
    },
    "papermill": {
     "duration": 0.575931,
     "end_time": "2023-04-27T11:49:39.168662",
     "exception": false,
     "start_time": "2023-04-27T11:49:38.592731",
     "status": "completed"
    },
    "tags": []
   },
   "outputs": [],
   "source": [
    "\n",
    "# Convert transaction_date column to datetime object\n",
    "df_1['transaction_date'] = pd.to_datetime(df_1['transaction_date'])\n",
    "\n",
    "# Group by week and calculate weekly income\n",
    "df_1['weekly_income'] = df_1.groupby(df_1['transaction_date'].dt.week)['total_amount'].transform('sum')\n",
    "# df_1.head()"
   ]
  },
  {
   "cell_type": "markdown",
   "id": "a8edb3b9",
   "metadata": {
    "papermill": {
     "duration": 0.026562,
     "end_time": "2023-04-27T11:49:39.223988",
     "exception": false,
     "start_time": "2023-04-27T11:49:39.197426",
     "status": "completed"
    },
    "tags": []
   },
   "source": [
    "### Filling the missing value"
   ]
  },
  {
   "cell_type": "code",
   "execution_count": 1247,
   "id": "5813588a",
   "metadata": {
    "execution": {
     "iopub.execute_input": "2023-04-27T11:49:39.279386Z",
     "iopub.status.busy": "2023-04-27T11:49:39.278869Z",
     "iopub.status.idle": "2023-04-27T11:49:39.629073Z",
     "shell.execute_reply": "2023-04-27T11:49:39.627540Z"
    },
    "papermill": {
     "duration": 0.381223,
     "end_time": "2023-04-27T11:49:39.632249",
     "exception": false,
     "start_time": "2023-04-27T11:49:39.251026",
     "status": "completed"
    },
    "tags": []
   },
   "outputs": [
    {
     "data": {
      "text/plain": [
       "Index(['item_description', 'transaction_date', 'invoice_id', 'customer_id',\n",
       "       'shop_id', 'item_price', 'quantity_sold', 'day_of_week', 'date',\n",
       "       'is_weekend', 'is_holiday', 'item_name', 'item_size', 'count_invoice',\n",
       "       'shop_area_sq_ft', 'shop_profile', 'total_amount', 'income',\n",
       "       'total_quantity', 'income_per_quantity', 'weekper_month',\n",
       "       'weekly_income'],\n",
       "      dtype='object')"
      ]
     },
     "execution_count": 1247,
     "metadata": {},
     "output_type": "execute_result"
    }
   ],
   "source": [
    "# df_1['item_name'] = df_1['item_name'].fillna(\"SODA\")\n",
    "mean_int = df_1['item_size'].mean().astype(int)\n",
    "df_1['item_size'] =df_1['item_size'].fillna(mean_int)\n",
    "\n",
    "# df_1\n",
    "df_1.columns\n",
    "\n"
   ]
  },
  {
   "cell_type": "markdown",
   "id": "a13ad48c",
   "metadata": {
    "papermill": {
     "duration": 0.028509,
     "end_time": "2023-04-27T11:49:39.796985",
     "exception": false,
     "start_time": "2023-04-27T11:49:39.768476",
     "status": "completed"
    },
    "tags": []
   },
   "source": [
    "### Change the data frame Order"
   ]
  },
  {
   "cell_type": "code",
   "execution_count": 1248,
   "id": "37631a44",
   "metadata": {
    "execution": {
     "iopub.execute_input": "2023-04-27T11:49:39.856091Z",
     "iopub.status.busy": "2023-04-27T11:49:39.855661Z",
     "iopub.status.idle": "2023-04-27T11:49:40.074712Z",
     "shell.execute_reply": "2023-04-27T11:49:40.073250Z"
    },
    "papermill": {
     "duration": 0.251648,
     "end_time": "2023-04-27T11:49:40.077870",
     "exception": false,
     "start_time": "2023-04-27T11:49:39.826222",
     "status": "completed"
    },
    "tags": []
   },
   "outputs": [
    {
     "data": {
      "text/plain": [
       "Index(['transaction_date', 'invoice_id', 'customer_id', 'shop_id', 'item_name',\n",
       "       'item_size', 'item_price', 'quantity_sold', 'total_amount',\n",
       "       'income_per_quantity', 'shop_area_sq_ft', 'date', 'is_weekend',\n",
       "       'is_holiday', 'count_invoice', 'shop_profile', 'weekly_income',\n",
       "       'weekper_month'],\n",
       "      dtype='object')"
      ]
     },
     "execution_count": 1248,
     "metadata": {},
     "output_type": "execute_result"
    }
   ],
   "source": [
    "new_order = ['transaction_date','invoice_id','customer_id','shop_id','item_name','item_size','item_price','quantity_sold','total_amount','income_per_quantity', 'shop_area_sq_ft','date','is_weekend','is_holiday','count_invoice', 'shop_profile','weekly_income','weekper_month'\n",
    "            ]\n",
    "\n",
    "# Reorder the columns in the dataframe\n",
    "df_1 = df_1[new_order]\n",
    "# df_1.head()\n",
    "# df_1\n",
    "df_1.columns"
   ]
  },
  {
   "cell_type": "code",
   "execution_count": 1249,
   "id": "0695318e",
   "metadata": {},
   "outputs": [
    {
     "data": {
      "image/png": "[encoded data removed]",
      "text/plain": [
       "<Figure size 25x300 with 1 Axes>"
      ]
     },
     "metadata": {},
     "output_type": "display_data"
    },
    {
     "data": {
      "image/png": "[encoded data removed]",
      "text/plain": [
       "<Figure size 25x300 with 1 Axes>"
      ]
     },
     "metadata": {},
     "output_type": "display_data"
    },
    {
     "data": {
      "image/png": "[encoded data removed]",
      "text/plain": [
       "<Figure size 25x300 with 1 Axes>"
      ]
     },
     "metadata": {},
     "output_type": "display_data"
    },
    {
     "data": {
      "image/png": "[encoded data removed]",
      "text/plain": [
       "<Figure size 25x300 with 1 Axes>"
      ]
     },
     "metadata": {},
     "output_type": "display_data"
    },
    {
     "data": {
      "image/png": "[encoded data removed]",
      "text/plain": [
       "<Figure size 25x300 with 1 Axes>"
      ]
     },
     "metadata": {},
     "output_type": "display_data"
    },
    {
     "data": {
      "image/png": "[encoded data removed]",
      "text/plain": [
       "<Figure size 25x300 with 1 Axes>"
      ]
     },
     "metadata": {},
     "output_type": "display_data"
    },
    {
     "data": {
      "image/png": "[encoded data removed]",
      "text/plain": [
       "<Figure size 25x300 with 1 Axes>"
      ]
     },
     "metadata": {},
     "output_type": "display_data"
    },
    {
     "data": {
      "image/png": "[encoded data removed]",
      "text/plain": [
       "<Figure size 25x300 with 1 Axes>"
      ]
     },
     "metadata": {},
     "output_type": "display_data"
    },
    {
     "data": {
      "image/png": "[encoded data removed]",
      "text/plain": [
       "<Figure size 25x300 with 1 Axes>"
      ]
     },
     "metadata": {},
     "output_type": "display_data"
    },
    {
     "data": {
      "image/png": "[encoded data removed]",
      "text/plain": [
       "<Figure size 25x300 with 1 Axes>"
      ]
     },
     "metadata": {},
     "output_type": "display_data"
    },
    {
     "data": {
      "image/png": "[encoded data removed]",
      "text/plain": [
       "<Figure size 25x300 with 1 Axes>"
      ]
     },
     "metadata": {},
     "output_type": "display_data"
    }
   ],
   "source": [
    "import matplotlib.pyplot as plt\n",
    "import seaborn as sns\n",
    "\n",
    "for i in ['item_size', 'item_price', 'quantity_sold', 'total_amount','income_per_quantity', 'shop_area_sq_ft', 'date',\n",
    "       'is_holiday', 'count_invoice', 'weekly_income',\n",
    "       'weekper_month']:\n",
    "    plt.figure(figsize=(0.25, 3))\n",
    "    sns.boxplot(y=i, data=df_1,color='red')\n",
    "    plt.title(i)\n",
    "    plt.show()"
   ]
  },
  {
   "cell_type": "code",
   "execution_count": 1250,
   "id": "94b21466",
   "metadata": {},
   "outputs": [
    {
     "data": {
      "text/plain": [
       "<Axes: xlabel='shop_profile', ylabel='count'>"
      ]
     },
     "execution_count": 1250,
     "metadata": {},
     "output_type": "execute_result"
    },
    {
     "data": {
      "image/png": "[encoded data removed]",
      "text/plain": [
       "<Figure size 200x200 with 1 Axes>"
      ]
     },
     "metadata": {},
     "output_type": "display_data"
    }
   ],
   "source": [
    "sns.countplot(x='shop_profile', data=df_1)"
   ]
  },
  {
   "cell_type": "markdown",
   "id": "2d612020",
   "metadata": {
    "papermill": {
     "duration": 0.027593,
     "end_time": "2023-04-27T11:49:40.133258",
     "exception": false,
     "start_time": "2023-04-27T11:49:40.105665",
     "status": "completed"
    },
    "tags": []
   },
   "source": [
    "### Feature Scaling"
   ]
  },
  {
   "cell_type": "code",
   "execution_count": 1251,
   "id": "5182a9a1",
   "metadata": {
    "execution": {
     "iopub.execute_input": "2023-04-27T11:49:40.190274Z",
     "iopub.status.busy": "2023-04-27T11:49:40.189864Z",
     "iopub.status.idle": "2023-04-27T11:49:40.523182Z",
     "shell.execute_reply": "2023-04-27T11:49:40.521406Z"
    },
    "papermill": {
     "duration": 0.364959,
     "end_time": "2023-04-27T11:49:40.526014",
     "exception": false,
     "start_time": "2023-04-27T11:49:40.161055",
     "status": "completed"
    },
    "tags": []
   },
   "outputs": [
    {
     "data": {
      "text/html": [
       "<div>\n",
       "<style scoped>\n",
       "    .dataframe tbody tr th:only-of-type {\n",
       "        vertical-align: middle;\n",
       "    }\n",
       "\n",
       "    .dataframe tbody tr th {\n",
       "        vertical-align: top;\n",
       "    }\n",
       "\n",
       "    .dataframe thead th {\n",
       "        text-align: right;\n",
       "    }\n",
       "</style>\n",
       "<table border=\"1\" class=\"dataframe\">\n",
       "  <thead>\n",
       "    <tr style=\"text-align: right;\">\n",
       "      <th></th>\n",
       "      <th>transaction_date</th>\n",
       "      <th>invoice_id</th>\n",
       "      <th>customer_id</th>\n",
       "      <th>shop_id</th>\n",
       "      <th>item_name</th>\n",
       "      <th>item_size</th>\n",
       "      <th>item_price</th>\n",
       "      <th>quantity_sold</th>\n",
       "      <th>total_amount</th>\n",
       "      <th>income_per_quantity</th>\n",
       "      <th>shop_area_sq_ft</th>\n",
       "      <th>date</th>\n",
       "      <th>is_weekend</th>\n",
       "      <th>is_holiday</th>\n",
       "      <th>count_invoice</th>\n",
       "      <th>shop_profile</th>\n",
       "      <th>weekly_income</th>\n",
       "      <th>weekper_month</th>\n",
       "    </tr>\n",
       "  </thead>\n",
       "  <tbody>\n",
       "    <tr>\n",
       "      <th>0</th>\n",
       "      <td>2021-12-11 00:00:00+00:00</td>\n",
       "      <td>147.0</td>\n",
       "      <td>BGXA</td>\n",
       "      <td>SHOP008</td>\n",
       "      <td>ORANGE BARLEY</td>\n",
       "      <td>1.000000</td>\n",
       "      <td>0.300813</td>\n",
       "      <td>0.029412</td>\n",
       "      <td>0.040601</td>\n",
       "      <td>0.774702</td>\n",
       "      <td>0.487805</td>\n",
       "      <td>0.333333</td>\n",
       "      <td>1</td>\n",
       "      <td>0</td>\n",
       "      <td>0.00000</td>\n",
       "      <td>Moderate</td>\n",
       "      <td>1.000000</td>\n",
       "      <td>0.25</td>\n",
       "    </tr>\n",
       "    <tr>\n",
       "      <th>1</th>\n",
       "      <td>2021-12-13 00:00:00+00:00</td>\n",
       "      <td>484.0</td>\n",
       "      <td>VN7V</td>\n",
       "      <td>SHOP008</td>\n",
       "      <td>TONIC PET</td>\n",
       "      <td>0.242424</td>\n",
       "      <td>0.203252</td>\n",
       "      <td>0.029412</td>\n",
       "      <td>0.033927</td>\n",
       "      <td>0.774702</td>\n",
       "      <td>0.487805</td>\n",
       "      <td>0.400000</td>\n",
       "      <td>0</td>\n",
       "      <td>0</td>\n",
       "      <td>0.00000</td>\n",
       "      <td>Moderate</td>\n",
       "      <td>0.000000</td>\n",
       "      <td>0.25</td>\n",
       "    </tr>\n",
       "    <tr>\n",
       "      <th>2</th>\n",
       "      <td>2021-12-13 00:00:00+00:00</td>\n",
       "      <td>484.0</td>\n",
       "      <td>VN7V</td>\n",
       "      <td>SHOP008</td>\n",
       "      <td>CREAM SODA</td>\n",
       "      <td>0.621212</td>\n",
       "      <td>0.186992</td>\n",
       "      <td>0.029412</td>\n",
       "      <td>0.032814</td>\n",
       "      <td>0.774702</td>\n",
       "      <td>0.487805</td>\n",
       "      <td>0.400000</td>\n",
       "      <td>0</td>\n",
       "      <td>0</td>\n",
       "      <td>0.00000</td>\n",
       "      <td>Moderate</td>\n",
       "      <td>0.000000</td>\n",
       "      <td>0.25</td>\n",
       "    </tr>\n",
       "    <tr>\n",
       "      <th>3</th>\n",
       "      <td>2021-12-10 00:00:00+00:00</td>\n",
       "      <td>1000053.0</td>\n",
       "      <td>VT9C</td>\n",
       "      <td>SHOP008</td>\n",
       "      <td>GINGER BEER</td>\n",
       "      <td>1.000000</td>\n",
       "      <td>0.300813</td>\n",
       "      <td>0.019608</td>\n",
       "      <td>0.028365</td>\n",
       "      <td>0.774702</td>\n",
       "      <td>0.487805</td>\n",
       "      <td>0.300000</td>\n",
       "      <td>0</td>\n",
       "      <td>0</td>\n",
       "      <td>0.00000</td>\n",
       "      <td>Moderate</td>\n",
       "      <td>1.000000</td>\n",
       "      <td>0.25</td>\n",
       "    </tr>\n",
       "    <tr>\n",
       "      <th>4</th>\n",
       "      <td>2021-12-10 00:00:00+00:00</td>\n",
       "      <td>1000057.0</td>\n",
       "      <td>8QLS</td>\n",
       "      <td>SHOP008</td>\n",
       "      <td>GINGER BEER</td>\n",
       "      <td>1.000000</td>\n",
       "      <td>0.300813</td>\n",
       "      <td>0.019608</td>\n",
       "      <td>0.028365</td>\n",
       "      <td>0.774702</td>\n",
       "      <td>0.487805</td>\n",
       "      <td>0.300000</td>\n",
       "      <td>0</td>\n",
       "      <td>0</td>\n",
       "      <td>0.00000</td>\n",
       "      <td>Moderate</td>\n",
       "      <td>1.000000</td>\n",
       "      <td>0.25</td>\n",
       "    </tr>\n",
       "    <tr>\n",
       "      <th>...</th>\n",
       "      <td>...</td>\n",
       "      <td>...</td>\n",
       "      <td>...</td>\n",
       "      <td>...</td>\n",
       "      <td>...</td>\n",
       "      <td>...</td>\n",
       "      <td>...</td>\n",
       "      <td>...</td>\n",
       "      <td>...</td>\n",
       "      <td>...</td>\n",
       "      <td>...</td>\n",
       "      <td>...</td>\n",
       "      <td>...</td>\n",
       "      <td>...</td>\n",
       "      <td>...</td>\n",
       "      <td>...</td>\n",
       "      <td>...</td>\n",
       "      <td>...</td>\n",
       "    </tr>\n",
       "    <tr>\n",
       "      <th>442758</th>\n",
       "      <td>2021-12-09 00:00:00+00:00</td>\n",
       "      <td>7030409.0</td>\n",
       "      <td>QVA7</td>\n",
       "      <td>SHOP072</td>\n",
       "      <td>NAN SODA</td>\n",
       "      <td>0.621212</td>\n",
       "      <td>0.056911</td>\n",
       "      <td>0.019608</td>\n",
       "      <td>0.020022</td>\n",
       "      <td>0.622836</td>\n",
       "      <td>0.409499</td>\n",
       "      <td>0.266667</td>\n",
       "      <td>0</td>\n",
       "      <td>0</td>\n",
       "      <td>0.66171</td>\n",
       "      <td>High</td>\n",
       "      <td>1.000000</td>\n",
       "      <td>0.25</td>\n",
       "    </tr>\n",
       "    <tr>\n",
       "      <th>442759</th>\n",
       "      <td>2021-12-11 00:00:00+00:00</td>\n",
       "      <td>7030809.0</td>\n",
       "      <td>HXMG</td>\n",
       "      <td>SHOP072</td>\n",
       "      <td>FIT O ORANGE</td>\n",
       "      <td>0.015152</td>\n",
       "      <td>0.040650</td>\n",
       "      <td>0.029412</td>\n",
       "      <td>0.022803</td>\n",
       "      <td>0.622836</td>\n",
       "      <td>0.409499</td>\n",
       "      <td>0.333333</td>\n",
       "      <td>1</td>\n",
       "      <td>0</td>\n",
       "      <td>0.66171</td>\n",
       "      <td>High</td>\n",
       "      <td>1.000000</td>\n",
       "      <td>0.25</td>\n",
       "    </tr>\n",
       "    <tr>\n",
       "      <th>442760</th>\n",
       "      <td>2021-12-11 00:00:00+00:00</td>\n",
       "      <td>7030820.0</td>\n",
       "      <td>OUH2</td>\n",
       "      <td>SHOP072</td>\n",
       "      <td>BOTTLED DRINKING WATER</td>\n",
       "      <td>0.242424</td>\n",
       "      <td>0.000000</td>\n",
       "      <td>0.019608</td>\n",
       "      <td>0.018076</td>\n",
       "      <td>0.622836</td>\n",
       "      <td>0.409499</td>\n",
       "      <td>0.333333</td>\n",
       "      <td>1</td>\n",
       "      <td>0</td>\n",
       "      <td>0.66171</td>\n",
       "      <td>High</td>\n",
       "      <td>1.000000</td>\n",
       "      <td>0.25</td>\n",
       "    </tr>\n",
       "    <tr>\n",
       "      <th>442761</th>\n",
       "      <td>2021-10-21 00:00:00+00:00</td>\n",
       "      <td>7031845.0</td>\n",
       "      <td>5IJM</td>\n",
       "      <td>SHOP072</td>\n",
       "      <td>GINGER BEER</td>\n",
       "      <td>1.000000</td>\n",
       "      <td>0.300813</td>\n",
       "      <td>0.019608</td>\n",
       "      <td>0.028365</td>\n",
       "      <td>0.622836</td>\n",
       "      <td>0.409499</td>\n",
       "      <td>0.666667</td>\n",
       "      <td>0</td>\n",
       "      <td>0</td>\n",
       "      <td>0.66171</td>\n",
       "      <td>High</td>\n",
       "      <td>0.743843</td>\n",
       "      <td>0.50</td>\n",
       "    </tr>\n",
       "    <tr>\n",
       "      <th>442762</th>\n",
       "      <td>2021-10-27 00:00:00+00:00</td>\n",
       "      <td>7031845.0</td>\n",
       "      <td>UARW</td>\n",
       "      <td>SHOP072</td>\n",
       "      <td>CREAM SODA</td>\n",
       "      <td>1.000000</td>\n",
       "      <td>0.300813</td>\n",
       "      <td>0.009804</td>\n",
       "      <td>0.016129</td>\n",
       "      <td>0.622836</td>\n",
       "      <td>0.409499</td>\n",
       "      <td>0.866667</td>\n",
       "      <td>0</td>\n",
       "      <td>0</td>\n",
       "      <td>0.66171</td>\n",
       "      <td>High</td>\n",
       "      <td>0.384160</td>\n",
       "      <td>0.75</td>\n",
       "    </tr>\n",
       "  </tbody>\n",
       "</table>\n",
       "<p>442763 rows × 18 columns</p>\n",
       "</div>"
      ],
      "text/plain": [
       "                transaction_date  invoice_id customer_id  shop_id  \\\n",
       "0      2021-12-11 00:00:00+00:00       147.0        BGXA  SHOP008   \n",
       "1      2021-12-13 00:00:00+00:00       484.0        VN7V  SHOP008   \n",
       "2      2021-12-13 00:00:00+00:00       484.0        VN7V  SHOP008   \n",
       "3      2021-12-10 00:00:00+00:00   1000053.0        VT9C  SHOP008   \n",
       "4      2021-12-10 00:00:00+00:00   1000057.0        8QLS  SHOP008   \n",
       "...                          ...         ...         ...      ...   \n",
       "442758 2021-12-09 00:00:00+00:00   7030409.0        QVA7  SHOP072   \n",
       "442759 2021-12-11 00:00:00+00:00   7030809.0        HXMG  SHOP072   \n",
       "442760 2021-12-11 00:00:00+00:00   7030820.0        OUH2  SHOP072   \n",
       "442761 2021-10-21 00:00:00+00:00   7031845.0        5IJM  SHOP072   \n",
       "442762 2021-10-27 00:00:00+00:00   7031845.0        UARW  SHOP072   \n",
       "\n",
       "                     item_name  item_size  item_price  quantity_sold  \\\n",
       "0                ORANGE BARLEY   1.000000    0.300813       0.029412   \n",
       "1                    TONIC PET   0.242424    0.203252       0.029412   \n",
       "2                   CREAM SODA   0.621212    0.186992       0.029412   \n",
       "3                  GINGER BEER   1.000000    0.300813       0.019608   \n",
       "4                  GINGER BEER   1.000000    0.300813       0.019608   \n",
       "...                        ...        ...         ...            ...   \n",
       "442758                NAN SODA   0.621212    0.056911       0.019608   \n",
       "442759            FIT O ORANGE   0.015152    0.040650       0.029412   \n",
       "442760  BOTTLED DRINKING WATER   0.242424    0.000000       0.019608   \n",
       "442761             GINGER BEER   1.000000    0.300813       0.019608   \n",
       "442762              CREAM SODA   1.000000    0.300813       0.009804   \n",
       "\n",
       "        total_amount  income_per_quantity  shop_area_sq_ft      date  \\\n",
       "0           0.040601             0.774702         0.487805  0.333333   \n",
       "1           0.033927             0.774702         0.487805  0.400000   \n",
       "2           0.032814             0.774702         0.487805  0.400000   \n",
       "3           0.028365             0.774702         0.487805  0.300000   \n",
       "4           0.028365             0.774702         0.487805  0.300000   \n",
       "...              ...                  ...              ...       ...   \n",
       "442758      0.020022             0.622836         0.409499  0.266667   \n",
       "442759      0.022803             0.622836         0.409499  0.333333   \n",
       "442760      0.018076             0.622836         0.409499  0.333333   \n",
       "442761      0.028365             0.622836         0.409499  0.666667   \n",
       "442762      0.016129             0.622836         0.409499  0.866667   \n",
       "\n",
       "        is_weekend  is_holiday  count_invoice shop_profile  weekly_income  \\\n",
       "0                1           0        0.00000     Moderate       1.000000   \n",
       "1                0           0        0.00000     Moderate       0.000000   \n",
       "2                0           0        0.00000     Moderate       0.000000   \n",
       "3                0           0        0.00000     Moderate       1.000000   \n",
       "4                0           0        0.00000     Moderate       1.000000   \n",
       "...            ...         ...            ...          ...            ...   \n",
       "442758           0           0        0.66171         High       1.000000   \n",
       "442759           1           0        0.66171         High       1.000000   \n",
       "442760           1           0        0.66171         High       1.000000   \n",
       "442761           0           0        0.66171         High       0.743843   \n",
       "442762           0           0        0.66171         High       0.384160   \n",
       "\n",
       "        weekper_month  \n",
       "0                0.25  \n",
       "1                0.25  \n",
       "2                0.25  \n",
       "3                0.25  \n",
       "4                0.25  \n",
       "...               ...  \n",
       "442758           0.25  \n",
       "442759           0.25  \n",
       "442760           0.25  \n",
       "442761           0.50  \n",
       "442762           0.75  \n",
       "\n",
       "[442763 rows x 18 columns]"
      ]
     },
     "execution_count": 1251,
     "metadata": {},
     "output_type": "execute_result"
    }
   ],
   "source": [
    "from sklearn.preprocessing import MinMaxScaler\n",
    "import numpy as np\n",
    "\n",
    "# Sample dataset\n",
    "for i in df_1:\n",
    "    if i not in ['transaction_date','invoice_id','customer_id','shop_id','item_name','shop_profile','item_encoded','is_weekend','is_holiday']:\n",
    "        col_data = df_1[i]\n",
    "\n",
    "    # Perform min-max scaling on the selected column\n",
    "        scaled_data = (col_data - col_data.min()) / (col_data.max() - col_data.min())\n",
    "\n",
    "        # Update the selected column in the original data frame with the scaled data\n",
    "        df_1[i] = scaled_data\n",
    "df_1"
   ]
  },
  {
   "cell_type": "markdown",
   "id": "caa043a0",
   "metadata": {
    "papermill": {
     "duration": 0.0286,
     "end_time": "2023-04-27T11:49:40.582157",
     "exception": false,
     "start_time": "2023-04-27T11:49:40.553557",
     "status": "completed"
    },
    "tags": []
   },
   "source": [
    "\n",
    "\n",
    "### Standardization"
   ]
  },
  {
   "cell_type": "code",
   "execution_count": 1252,
   "id": "6a929fc3",
   "metadata": {
    "execution": {
     "iopub.execute_input": "2023-04-27T11:49:40.641986Z",
     "iopub.status.busy": "2023-04-27T11:49:40.641287Z",
     "iopub.status.idle": "2023-04-27T11:49:40.646653Z",
     "shell.execute_reply": "2023-04-27T11:49:40.645342Z"
    },
    "papermill": {
     "duration": 0.039014,
     "end_time": "2023-04-27T11:49:40.649324",
     "exception": false,
     "start_time": "2023-04-27T11:49:40.610310",
     "status": "completed"
    },
    "tags": []
   },
   "outputs": [],
   "source": [
    "# import pandas as pd\n",
    "# from sklearn.preprocessing import StandardScaler\n",
    "\n",
    "# # create sample DataFrame\n",
    "# # define standardization function\n",
    "# scaler = StandardScaler()\n",
    "\n",
    "# # fit and transform the DataFrame\n",
    "# # df_1 = scaler.fit_transform(df_1)\n",
    "\n",
    "# for i in df_1:\n",
    "# # fit and transform column\n",
    "#     if i not in ['transaction_date','invoice_id','customer_id','shop_id','item_name','shop_profile','item_encoded','is_weekend','is_holiday']:\n",
    "#         df_1[i] = scaler.fit_transform(df_1[[i]])\n",
    "\n",
    "\n",
    "# # convert the result back to a DataFrame\n",
    "# # df_1 = pd.DataFrame(df_1, columns=df_1.columns)"
   ]
  },
  {
   "cell_type": "code",
   "execution_count": 1253,
   "id": "ebab7fc1",
   "metadata": {
    "execution": {
     "iopub.execute_input": "2023-04-27T11:49:40.710926Z",
     "iopub.status.busy": "2023-04-27T11:49:40.710219Z",
     "iopub.status.idle": "2023-04-27T11:49:40.715327Z",
     "shell.execute_reply": "2023-04-27T11:49:40.714293Z"
    },
    "papermill": {
     "duration": 0.038749,
     "end_time": "2023-04-27T11:49:40.717903",
     "exception": false,
     "start_time": "2023-04-27T11:49:40.679154",
     "status": "completed"
    },
    "tags": []
   },
   "outputs": [],
   "source": [
    "# df_1 = df_1.dropna(subset=['item_name'])"
   ]
  },
  {
   "cell_type": "code",
   "execution_count": 1254,
   "id": "522e7d67",
   "metadata": {
    "execution": {
     "iopub.execute_input": "2023-04-27T11:49:40.779725Z",
     "iopub.status.busy": "2023-04-27T11:49:40.779045Z",
     "iopub.status.idle": "2023-04-27T11:49:40.803487Z",
     "shell.execute_reply": "2023-04-27T11:49:40.802166Z"
    },
    "papermill": {
     "duration": 0.057621,
     "end_time": "2023-04-27T11:49:40.806206",
     "exception": false,
     "start_time": "2023-04-27T11:49:40.748585",
     "status": "completed"
    },
    "tags": []
   },
   "outputs": [
    {
     "data": {
      "text/html": [
       "<div>\n",
       "<style scoped>\n",
       "    .dataframe tbody tr th:only-of-type {\n",
       "        vertical-align: middle;\n",
       "    }\n",
       "\n",
       "    .dataframe tbody tr th {\n",
       "        vertical-align: top;\n",
       "    }\n",
       "\n",
       "    .dataframe thead th {\n",
       "        text-align: right;\n",
       "    }\n",
       "</style>\n",
       "<table border=\"1\" class=\"dataframe\">\n",
       "  <thead>\n",
       "    <tr style=\"text-align: right;\">\n",
       "      <th></th>\n",
       "      <th>transaction_date</th>\n",
       "      <th>invoice_id</th>\n",
       "      <th>customer_id</th>\n",
       "      <th>shop_id</th>\n",
       "      <th>item_name</th>\n",
       "      <th>item_size</th>\n",
       "      <th>item_price</th>\n",
       "      <th>quantity_sold</th>\n",
       "      <th>total_amount</th>\n",
       "      <th>income_per_quantity</th>\n",
       "      <th>shop_area_sq_ft</th>\n",
       "      <th>date</th>\n",
       "      <th>is_weekend</th>\n",
       "      <th>is_holiday</th>\n",
       "      <th>count_invoice</th>\n",
       "      <th>shop_profile</th>\n",
       "      <th>weekly_income</th>\n",
       "      <th>weekper_month</th>\n",
       "    </tr>\n",
       "  </thead>\n",
       "  <tbody>\n",
       "    <tr>\n",
       "      <th>0</th>\n",
       "      <td>2021-12-11 00:00:00+00:00</td>\n",
       "      <td>147.0</td>\n",
       "      <td>BGXA</td>\n",
       "      <td>SHOP008</td>\n",
       "      <td>ORANGE BARLEY</td>\n",
       "      <td>1.000000</td>\n",
       "      <td>0.300813</td>\n",
       "      <td>0.029412</td>\n",
       "      <td>0.040601</td>\n",
       "      <td>0.774702</td>\n",
       "      <td>0.487805</td>\n",
       "      <td>0.333333</td>\n",
       "      <td>1</td>\n",
       "      <td>0</td>\n",
       "      <td>0.0</td>\n",
       "      <td>Moderate</td>\n",
       "      <td>1.0</td>\n",
       "      <td>0.25</td>\n",
       "    </tr>\n",
       "    <tr>\n",
       "      <th>1</th>\n",
       "      <td>2021-12-13 00:00:00+00:00</td>\n",
       "      <td>484.0</td>\n",
       "      <td>VN7V</td>\n",
       "      <td>SHOP008</td>\n",
       "      <td>TONIC PET</td>\n",
       "      <td>0.242424</td>\n",
       "      <td>0.203252</td>\n",
       "      <td>0.029412</td>\n",
       "      <td>0.033927</td>\n",
       "      <td>0.774702</td>\n",
       "      <td>0.487805</td>\n",
       "      <td>0.400000</td>\n",
       "      <td>0</td>\n",
       "      <td>0</td>\n",
       "      <td>0.0</td>\n",
       "      <td>Moderate</td>\n",
       "      <td>0.0</td>\n",
       "      <td>0.25</td>\n",
       "    </tr>\n",
       "    <tr>\n",
       "      <th>2</th>\n",
       "      <td>2021-12-13 00:00:00+00:00</td>\n",
       "      <td>484.0</td>\n",
       "      <td>VN7V</td>\n",
       "      <td>SHOP008</td>\n",
       "      <td>CREAM SODA</td>\n",
       "      <td>0.621212</td>\n",
       "      <td>0.186992</td>\n",
       "      <td>0.029412</td>\n",
       "      <td>0.032814</td>\n",
       "      <td>0.774702</td>\n",
       "      <td>0.487805</td>\n",
       "      <td>0.400000</td>\n",
       "      <td>0</td>\n",
       "      <td>0</td>\n",
       "      <td>0.0</td>\n",
       "      <td>Moderate</td>\n",
       "      <td>0.0</td>\n",
       "      <td>0.25</td>\n",
       "    </tr>\n",
       "    <tr>\n",
       "      <th>3</th>\n",
       "      <td>2021-12-10 00:00:00+00:00</td>\n",
       "      <td>1000053.0</td>\n",
       "      <td>VT9C</td>\n",
       "      <td>SHOP008</td>\n",
       "      <td>GINGER BEER</td>\n",
       "      <td>1.000000</td>\n",
       "      <td>0.300813</td>\n",
       "      <td>0.019608</td>\n",
       "      <td>0.028365</td>\n",
       "      <td>0.774702</td>\n",
       "      <td>0.487805</td>\n",
       "      <td>0.300000</td>\n",
       "      <td>0</td>\n",
       "      <td>0</td>\n",
       "      <td>0.0</td>\n",
       "      <td>Moderate</td>\n",
       "      <td>1.0</td>\n",
       "      <td>0.25</td>\n",
       "    </tr>\n",
       "    <tr>\n",
       "      <th>4</th>\n",
       "      <td>2021-12-10 00:00:00+00:00</td>\n",
       "      <td>1000057.0</td>\n",
       "      <td>8QLS</td>\n",
       "      <td>SHOP008</td>\n",
       "      <td>GINGER BEER</td>\n",
       "      <td>1.000000</td>\n",
       "      <td>0.300813</td>\n",
       "      <td>0.019608</td>\n",
       "      <td>0.028365</td>\n",
       "      <td>0.774702</td>\n",
       "      <td>0.487805</td>\n",
       "      <td>0.300000</td>\n",
       "      <td>0</td>\n",
       "      <td>0</td>\n",
       "      <td>0.0</td>\n",
       "      <td>Moderate</td>\n",
       "      <td>1.0</td>\n",
       "      <td>0.25</td>\n",
       "    </tr>\n",
       "  </tbody>\n",
       "</table>\n",
       "</div>"
      ],
      "text/plain": [
       "           transaction_date  invoice_id customer_id  shop_id      item_name  \\\n",
       "0 2021-12-11 00:00:00+00:00       147.0        BGXA  SHOP008  ORANGE BARLEY   \n",
       "1 2021-12-13 00:00:00+00:00       484.0        VN7V  SHOP008      TONIC PET   \n",
       "2 2021-12-13 00:00:00+00:00       484.0        VN7V  SHOP008     CREAM SODA   \n",
       "3 2021-12-10 00:00:00+00:00   1000053.0        VT9C  SHOP008    GINGER BEER   \n",
       "4 2021-12-10 00:00:00+00:00   1000057.0        8QLS  SHOP008    GINGER BEER   \n",
       "\n",
       "   item_size  item_price  quantity_sold  total_amount  income_per_quantity  \\\n",
       "0   1.000000    0.300813       0.029412      0.040601             0.774702   \n",
       "1   0.242424    0.203252       0.029412      0.033927             0.774702   \n",
       "2   0.621212    0.186992       0.029412      0.032814             0.774702   \n",
       "3   1.000000    0.300813       0.019608      0.028365             0.774702   \n",
       "4   1.000000    0.300813       0.019608      0.028365             0.774702   \n",
       "\n",
       "   shop_area_sq_ft      date  is_weekend  is_holiday  count_invoice  \\\n",
       "0         0.487805  0.333333           1           0            0.0   \n",
       "1         0.487805  0.400000           0           0            0.0   \n",
       "2         0.487805  0.400000           0           0            0.0   \n",
       "3         0.487805  0.300000           0           0            0.0   \n",
       "4         0.487805  0.300000           0           0            0.0   \n",
       "\n",
       "  shop_profile  weekly_income  weekper_month  \n",
       "0     Moderate            1.0           0.25  \n",
       "1     Moderate            0.0           0.25  \n",
       "2     Moderate            0.0           0.25  \n",
       "3     Moderate            1.0           0.25  \n",
       "4     Moderate            1.0           0.25  "
      ]
     },
     "execution_count": 1254,
     "metadata": {},
     "output_type": "execute_result"
    }
   ],
   "source": [
    "df_1.head()"
   ]
  },
  {
   "cell_type": "code",
   "execution_count": 1255,
   "id": "d0b34784",
   "metadata": {
    "execution": {
     "iopub.execute_input": "2023-04-27T11:49:40.866049Z",
     "iopub.status.busy": "2023-04-27T11:49:40.865608Z",
     "iopub.status.idle": "2023-04-27T11:49:40.870645Z",
     "shell.execute_reply": "2023-04-27T11:49:40.869095Z"
    },
    "papermill": {
     "duration": 0.038602,
     "end_time": "2023-04-27T11:49:40.873254",
     "exception": false,
     "start_time": "2023-04-27T11:49:40.834652",
     "status": "completed"
    },
    "tags": []
   },
   "outputs": [],
   "source": [
    "# unique_categories = df_1['item_name'].unique()\n",
    "# num_categories = df_1['item_name'].nunique()\n",
    "# print(unique_categories)\n",
    "# print(num_categories)"
   ]
  },
  {
   "cell_type": "code",
   "execution_count": 1256,
   "id": "151a6fee",
   "metadata": {
    "execution": {
     "iopub.execute_input": "2023-04-27T11:49:40.932973Z",
     "iopub.status.busy": "2023-04-27T11:49:40.932485Z",
     "iopub.status.idle": "2023-04-27T11:49:40.938001Z",
     "shell.execute_reply": "2023-04-27T11:49:40.936592Z"
    },
    "papermill": {
     "duration": 0.04114,
     "end_time": "2023-04-27T11:49:40.941886",
     "exception": false,
     "start_time": "2023-04-27T11:49:40.900746",
     "status": "completed"
    },
    "tags": []
   },
   "outputs": [],
   "source": [
    "# null_counts = df_1.isnull().sum()\n",
    "# print(null_counts)"
   ]
  },
  {
   "cell_type": "markdown",
   "id": "3ef0faf8",
   "metadata": {
    "papermill": {
     "duration": 0.02885,
     "end_time": "2023-04-27T11:49:40.999053",
     "exception": false,
     "start_time": "2023-04-27T11:49:40.970203",
     "status": "completed"
    },
    "tags": []
   },
   "source": [
    "### Sorting"
   ]
  },
  {
   "cell_type": "code",
   "execution_count": 1257,
   "id": "8c7353da",
   "metadata": {
    "execution": {
     "iopub.execute_input": "2023-04-27T11:49:41.055288Z",
     "iopub.status.busy": "2023-04-27T11:49:41.054860Z",
     "iopub.status.idle": "2023-04-27T11:49:41.464176Z",
     "shell.execute_reply": "2023-04-27T11:49:41.462502Z"
    },
    "papermill": {
     "duration": 0.440667,
     "end_time": "2023-04-27T11:49:41.466852",
     "exception": false,
     "start_time": "2023-04-27T11:49:41.026185",
     "status": "completed"
    },
    "tags": []
   },
   "outputs": [
    {
     "data": {
      "text/html": [
       "<div>\n",
       "<style scoped>\n",
       "    .dataframe tbody tr th:only-of-type {\n",
       "        vertical-align: middle;\n",
       "    }\n",
       "\n",
       "    .dataframe tbody tr th {\n",
       "        vertical-align: top;\n",
       "    }\n",
       "\n",
       "    .dataframe thead th {\n",
       "        text-align: right;\n",
       "    }\n",
       "</style>\n",
       "<table border=\"1\" class=\"dataframe\">\n",
       "  <thead>\n",
       "    <tr style=\"text-align: right;\">\n",
       "      <th></th>\n",
       "      <th>transaction_date</th>\n",
       "      <th>invoice_id</th>\n",
       "      <th>customer_id</th>\n",
       "      <th>shop_id</th>\n",
       "      <th>item_name</th>\n",
       "      <th>item_size</th>\n",
       "      <th>item_price</th>\n",
       "      <th>quantity_sold</th>\n",
       "      <th>total_amount</th>\n",
       "      <th>income_per_quantity</th>\n",
       "      <th>shop_area_sq_ft</th>\n",
       "      <th>date</th>\n",
       "      <th>is_weekend</th>\n",
       "      <th>is_holiday</th>\n",
       "      <th>count_invoice</th>\n",
       "      <th>shop_profile</th>\n",
       "      <th>weekly_income</th>\n",
       "      <th>weekper_month</th>\n",
       "    </tr>\n",
       "  </thead>\n",
       "  <tbody>\n",
       "    <tr>\n",
       "      <th>50020</th>\n",
       "      <td>2021-10-16 00:00:00+00:00</td>\n",
       "      <td>71340.0</td>\n",
       "      <td>9HZ9</td>\n",
       "      <td>SHOP001</td>\n",
       "      <td>ORANGE BARLEY</td>\n",
       "      <td>1.000000</td>\n",
       "      <td>0.300813</td>\n",
       "      <td>0.019608</td>\n",
       "      <td>0.028365</td>\n",
       "      <td>0.747731</td>\n",
       "      <td>0.362003</td>\n",
       "      <td>0.500000</td>\n",
       "      <td>1</td>\n",
       "      <td>0</td>\n",
       "      <td>0.280669</td>\n",
       "      <td>Low</td>\n",
       "      <td>0.045764</td>\n",
       "      <td>0.50</td>\n",
       "    </tr>\n",
       "    <tr>\n",
       "      <th>50814</th>\n",
       "      <td>2021-12-11 00:00:00+00:00</td>\n",
       "      <td>3035533.0</td>\n",
       "      <td>G0AJ</td>\n",
       "      <td>SHOP001</td>\n",
       "      <td>GINGER BEER</td>\n",
       "      <td>0.621212</td>\n",
       "      <td>0.186992</td>\n",
       "      <td>0.029412</td>\n",
       "      <td>0.032814</td>\n",
       "      <td>0.747731</td>\n",
       "      <td>0.362003</td>\n",
       "      <td>0.333333</td>\n",
       "      <td>1</td>\n",
       "      <td>0</td>\n",
       "      <td>0.280669</td>\n",
       "      <td>Low</td>\n",
       "      <td>1.000000</td>\n",
       "      <td>0.25</td>\n",
       "    </tr>\n",
       "    <tr>\n",
       "      <th>50815</th>\n",
       "      <td>2021-12-11 00:00:00+00:00</td>\n",
       "      <td>3035533.0</td>\n",
       "      <td>G0AJ</td>\n",
       "      <td>SHOP001</td>\n",
       "      <td>GINGER BEER</td>\n",
       "      <td>0.621212</td>\n",
       "      <td>0.186992</td>\n",
       "      <td>0.019608</td>\n",
       "      <td>0.024472</td>\n",
       "      <td>0.747731</td>\n",
       "      <td>0.362003</td>\n",
       "      <td>0.333333</td>\n",
       "      <td>1</td>\n",
       "      <td>0</td>\n",
       "      <td>0.280669</td>\n",
       "      <td>Low</td>\n",
       "      <td>1.000000</td>\n",
       "      <td>0.25</td>\n",
       "    </tr>\n",
       "    <tr>\n",
       "      <th>50816</th>\n",
       "      <td>2021-10-18 00:00:00+00:00</td>\n",
       "      <td>3035932.0</td>\n",
       "      <td>IQM6</td>\n",
       "      <td>SHOP001</td>\n",
       "      <td>GINGER BEER SUGAR FREE</td>\n",
       "      <td>0.242424</td>\n",
       "      <td>0.073171</td>\n",
       "      <td>0.019608</td>\n",
       "      <td>0.020578</td>\n",
       "      <td>0.747731</td>\n",
       "      <td>0.362003</td>\n",
       "      <td>0.566667</td>\n",
       "      <td>0</td>\n",
       "      <td>0</td>\n",
       "      <td>0.280669</td>\n",
       "      <td>Low</td>\n",
       "      <td>0.743843</td>\n",
       "      <td>0.50</td>\n",
       "    </tr>\n",
       "    <tr>\n",
       "      <th>50817</th>\n",
       "      <td>2021-12-09 00:00:00+00:00</td>\n",
       "      <td>3035932.0</td>\n",
       "      <td>YI1R</td>\n",
       "      <td>SHOP001</td>\n",
       "      <td>GINGER BEER</td>\n",
       "      <td>1.000000</td>\n",
       "      <td>0.300813</td>\n",
       "      <td>0.029412</td>\n",
       "      <td>0.040601</td>\n",
       "      <td>0.747731</td>\n",
       "      <td>0.362003</td>\n",
       "      <td>0.266667</td>\n",
       "      <td>0</td>\n",
       "      <td>0</td>\n",
       "      <td>0.280669</td>\n",
       "      <td>Low</td>\n",
       "      <td>1.000000</td>\n",
       "      <td>0.25</td>\n",
       "    </tr>\n",
       "  </tbody>\n",
       "</table>\n",
       "</div>"
      ],
      "text/plain": [
       "               transaction_date  invoice_id customer_id  shop_id  \\\n",
       "50020 2021-10-16 00:00:00+00:00     71340.0        9HZ9  SHOP001   \n",
       "50814 2021-12-11 00:00:00+00:00   3035533.0        G0AJ  SHOP001   \n",
       "50815 2021-12-11 00:00:00+00:00   3035533.0        G0AJ  SHOP001   \n",
       "50816 2021-10-18 00:00:00+00:00   3035932.0        IQM6  SHOP001   \n",
       "50817 2021-12-09 00:00:00+00:00   3035932.0        YI1R  SHOP001   \n",
       "\n",
       "                    item_name  item_size  item_price  quantity_sold  \\\n",
       "50020           ORANGE BARLEY   1.000000    0.300813       0.019608   \n",
       "50814             GINGER BEER   0.621212    0.186992       0.029412   \n",
       "50815             GINGER BEER   0.621212    0.186992       0.019608   \n",
       "50816  GINGER BEER SUGAR FREE   0.242424    0.073171       0.019608   \n",
       "50817             GINGER BEER   1.000000    0.300813       0.029412   \n",
       "\n",
       "       total_amount  income_per_quantity  shop_area_sq_ft      date  \\\n",
       "50020      0.028365             0.747731         0.362003  0.500000   \n",
       "50814      0.032814             0.747731         0.362003  0.333333   \n",
       "50815      0.024472             0.747731         0.362003  0.333333   \n",
       "50816      0.020578             0.747731         0.362003  0.566667   \n",
       "50817      0.040601             0.747731         0.362003  0.266667   \n",
       "\n",
       "       is_weekend  is_holiday  count_invoice shop_profile  weekly_income  \\\n",
       "50020           1           0       0.280669          Low       0.045764   \n",
       "50814           1           0       0.280669          Low       1.000000   \n",
       "50815           1           0       0.280669          Low       1.000000   \n",
       "50816           0           0       0.280669          Low       0.743843   \n",
       "50817           0           0       0.280669          Low       1.000000   \n",
       "\n",
       "       weekper_month  \n",
       "50020           0.50  \n",
       "50814           0.25  \n",
       "50815           0.25  \n",
       "50816           0.50  \n",
       "50817           0.25  "
      ]
     },
     "execution_count": 1257,
     "metadata": {},
     "output_type": "execute_result"
    }
   ],
   "source": [
    "df_sorted = df_1.sort_values(by='shop_id')\n",
    "df_1=df_sorted\n",
    "df_1.head()"
   ]
  },
  {
   "cell_type": "code",
   "execution_count": 1258,
   "id": "6bc61b76",
   "metadata": {
    "execution": {
     "iopub.execute_input": "2023-04-27T11:49:41.525621Z",
     "iopub.status.busy": "2023-04-27T11:49:41.525200Z",
     "iopub.status.idle": "2023-04-27T11:49:41.531477Z",
     "shell.execute_reply": "2023-04-27T11:49:41.530039Z"
    },
    "papermill": {
     "duration": 0.03824,
     "end_time": "2023-04-27T11:49:41.534181",
     "exception": false,
     "start_time": "2023-04-27T11:49:41.495941",
     "status": "completed"
    },
    "tags": []
   },
   "outputs": [],
   "source": [
    "# df_sorted = df_sorted.dropna(subset=['item_name'])"
   ]
  },
  {
   "cell_type": "code",
   "execution_count": null,
   "id": "c694e574",
   "metadata": {},
   "outputs": [],
   "source": []
  },
  {
   "cell_type": "markdown",
   "id": "56b64759",
   "metadata": {
    "papermill": {
     "duration": 0.029069,
     "end_time": "2023-04-27T11:49:41.591279",
     "exception": false,
     "start_time": "2023-04-27T11:49:41.562210",
     "status": "completed"
    },
    "tags": []
   },
   "source": [
    "### One hot encoding"
   ]
  },
  {
   "cell_type": "code",
   "execution_count": 1259,
   "id": "c50b1822",
   "metadata": {
    "execution": {
     "iopub.execute_input": "2023-04-27T11:49:41.651968Z",
     "iopub.status.busy": "2023-04-27T11:49:41.650691Z",
     "iopub.status.idle": "2023-04-27T11:49:41.656818Z",
     "shell.execute_reply": "2023-04-27T11:49:41.655593Z"
    },
    "papermill": {
     "duration": 0.039498,
     "end_time": "2023-04-27T11:49:41.659775",
     "exception": false,
     "start_time": "2023-04-27T11:49:41.620277",
     "status": "completed"
    },
    "tags": []
   },
   "outputs": [],
   "source": [
    "# column_to_encode = 'item_name'\n",
    "# encoded_df=df_1.copy()\n",
    "\n",
    "# # Perform one-hot encoding on the selected column\n",
    "# one_hot_encoded = pd.get_dummies(encoded_df[column_to_encode], prefix=column_to_encode)\n",
    "\n",
    "# # Add the one-hot encoded columns to the original DataFrame\n",
    "# encoded_df = pd.concat([encoded_df, one_hot_encoded], axis=1)\n",
    "\n",
    "# # Drop the original column that was one-hot encoded\n",
    "# encoded_df = encoded_df.drop(column_to_encode, axis=1)\n",
    "\n",
    "# # Save the updated DataFrame to a new CSV file\n",
    "# # df.to_csv('output.csv', index=False)\n",
    "# encoded_df.head()"
   ]
  },
  {
   "cell_type": "code",
   "execution_count": 1260,
   "id": "562a74c8",
   "metadata": {
    "execution": {
     "iopub.execute_input": "2023-04-27T11:49:41.721559Z",
     "iopub.status.busy": "2023-04-27T11:49:41.721099Z",
     "iopub.status.idle": "2023-04-27T11:49:41.726007Z",
     "shell.execute_reply": "2023-04-27T11:49:41.724677Z"
    },
    "papermill": {
     "duration": 0.040129,
     "end_time": "2023-04-27T11:49:41.728608",
     "exception": false,
     "start_time": "2023-04-27T11:49:41.688479",
     "status": "completed"
    },
    "tags": []
   },
   "outputs": [],
   "source": [
    "# encoded_df = encoded_df.dropna(subset=['item_name'])\n",
    "# data = data.dropna()"
   ]
  },
  {
   "cell_type": "code",
   "execution_count": 1261,
   "id": "2dc1b641",
   "metadata": {
    "execution": {
     "iopub.execute_input": "2023-04-27T11:49:41.791184Z",
     "iopub.status.busy": "2023-04-27T11:49:41.790737Z",
     "iopub.status.idle": "2023-04-27T11:49:41.796713Z",
     "shell.execute_reply": "2023-04-27T11:49:41.795383Z"
    },
    "papermill": {
     "duration": 0.040112,
     "end_time": "2023-04-27T11:49:41.799562",
     "exception": false,
     "start_time": "2023-04-27T11:49:41.759450",
     "status": "completed"
    },
    "tags": []
   },
   "outputs": [],
   "source": [
    "# my_list = ['ORANGE BARLEY', 'TONIC PET', 'CREAM SODA', 'GINGER BEER','CREAM SODA APPLE POP', 'SODA', 'BOTTLED DRINKING WATER', 'LEMONADE','KIK COLA', 'STRAWBERRY MILK', 'SODA PET', 'FIT O MIXED FRUIT','NECTO', 'FIT O ORANGE', 'FIT O MANGO', 'GINGER BEER SUGAR FREE','ORANGE CRUSH', 'CHOCOLATE MILK', 'TWISTEE APPLE', 'DRY GINGER ALE PET', 'LIME CRUSH JUICE']\n",
    "# len(my_list)\n",
    "# my_dict = {i: my_list[i] for i in range(len(my_list))}\n",
    "\n",
    "# # print(my_dict)\n",
    "# swapped_dict = {v: k for k, v in my_dict.items()}\n",
    "\n",
    "# print(swapped_dict)\n"
   ]
  },
  {
   "cell_type": "code",
   "execution_count": 1262,
   "id": "c98cc627",
   "metadata": {},
   "outputs": [],
   "source": [
    "import matplotlib.pyplot as plt\n",
    "import seaborn as sns\n",
    "\n",
    "# fig, ax = plt.subplots()\n",
    "# boxplot = ax.boxplot(df_1['item_size'])\n",
    "\n",
    "# for i in df_1:\n",
    "#     if i not in ['transaction_date','invoice_id','customer_id','shop_id','item_name','shop_profile','item_encoded','is_weekend','is_holiday']:\n",
    "    \n",
    "#         plt.figure()\n",
    "#         df_1.boxplot([column])"
   ]
  },
  {
   "cell_type": "markdown",
   "id": "d8eacb41",
   "metadata": {
    "papermill": {
     "duration": 0.02805,
     "end_time": "2023-04-27T11:49:41.858619",
     "exception": false,
     "start_time": "2023-04-27T11:49:41.830569",
     "status": "completed"
    },
    "tags": []
   },
   "source": [
    "\n",
    "### Instead (Label)"
   ]
  },
  {
   "cell_type": "code",
   "execution_count": 1263,
   "id": "20f55f71",
   "metadata": {
    "execution": {
     "iopub.execute_input": "2023-04-27T11:49:41.918110Z",
     "iopub.status.busy": "2023-04-27T11:49:41.917429Z",
     "iopub.status.idle": "2023-04-27T11:49:43.211914Z",
     "shell.execute_reply": "2023-04-27T11:49:43.210494Z"
    },
    "papermill": {
     "duration": 1.328609,
     "end_time": "2023-04-27T11:49:43.215281",
     "exception": false,
     "start_time": "2023-04-27T11:49:41.886672",
     "status": "completed"
    },
    "tags": []
   },
   "outputs": [],
   "source": [
    "# # ['ORANGE BARLEY' 'TONIC PET' 'CREAM SODA' 'GINGER BEER'\n",
    "# #  'CREAM SODA APPLE POP' 'SODA' 'BOTTLED DRINKING WATER' 'LEMONADE'\n",
    "# #  'KIK COLA' 'STRAWBERRY MILK' 'SODA PET' 'FIT O MIXED FRUIT''NECTO'\n",
    "# #  'FIT O ORANGE' 'FIT O MANGO' 'GINGER BEER SUGAR FREE' 'ORANGE CRUSH'\n",
    "# #  'CHOCOLATE MILK' 'TWISTEE APPLE' 'DRY GINGER ALE PET' 'LIME CRUSH JUICE']\n",
    "\n",
    "# # import pandas as pd\n",
    "# from sklearn.preprocessing import LabelEncoder\n",
    "\n",
    "# # Load the CSV file into a pandas DataFrame\n",
    "# # df = pd.read_csv('filename.csv')\n",
    "\n",
    "# # Create a LabelEncoder object\n",
    "# le = LabelEncoder()\n",
    "\n",
    "# # Fit the LabelEncoder on the column and transform the column\n",
    "# #filtered_df['column_name_encoded'] = le.fit_transform(filtered_df[\"shop_profile\"])\n",
    "\n",
    "# # Save the updated DataFrame to a new CSV file\n",
    "# # filtered_df.to_csv('filename_encoded.csv', index=False)\n",
    "\n",
    "# # define the mapping between original and encoded values\n",
    "# mapping = swapped_dict\n",
    "\n",
    "# # fit the encoder to the 'shopprofile' column using the mapping\n",
    "# le.fit([mapping[val] for val in df_1['item_name']])\n",
    "\n",
    "# # transform the 'shopprofile' column using the fitted encoder\n",
    "# df_1['item_encoded'] = le.transform([mapping[val] for val in df_1['item_name']])\n",
    "\n",
    "\n",
    "# df_1.head()\n",
    "\n",
    "\n",
    "import pandas as pd\n",
    "from sklearn.preprocessing import LabelEncoder\n",
    "\n",
    "\n",
    "# create a sample DataFrame\n",
    "\n",
    "# create a LabelEncoder object\n",
    "le = LabelEncoder()\n",
    "\n",
    "# fit and transform the 'fruits' column\n",
    "df_1['item_encoded'] = le.fit_transform(df_1['item_name'])\n",
    "df_1['customer_id_encoded']=le.fit_transform(df_1['customer_id'])\n",
    "# df_1['shop_encoded'] = le.fit_transform(df_1['shop_id'])\n",
    "encoded_df=df_1"
   ]
  },
  {
   "cell_type": "code",
   "execution_count": 1264,
   "id": "065cf868",
   "metadata": {
    "execution": {
     "iopub.execute_input": "2023-04-27T11:49:43.276151Z",
     "iopub.status.busy": "2023-04-27T11:49:43.275557Z",
     "iopub.status.idle": "2023-04-27T11:49:43.283579Z",
     "shell.execute_reply": "2023-04-27T11:49:43.281560Z"
    },
    "papermill": {
     "duration": 0.043699,
     "end_time": "2023-04-27T11:49:43.286822",
     "exception": false,
     "start_time": "2023-04-27T11:49:43.243123",
     "status": "completed"
    },
    "tags": []
   },
   "outputs": [],
   "source": [
    "# df_1.head()"
   ]
  },
  {
   "cell_type": "code",
   "execution_count": 1265,
   "id": "29360730",
   "metadata": {
    "execution": {
     "iopub.execute_input": "2023-04-27T11:49:43.349261Z",
     "iopub.status.busy": "2023-04-27T11:49:43.348850Z",
     "iopub.status.idle": "2023-04-27T11:49:43.355554Z",
     "shell.execute_reply": "2023-04-27T11:49:43.353791Z"
    },
    "papermill": {
     "duration": 0.0409,
     "end_time": "2023-04-27T11:49:43.358880",
     "exception": false,
     "start_time": "2023-04-27T11:49:43.317980",
     "status": "completed"
    },
    "tags": []
   },
   "outputs": [],
   "source": [
    "# grouped_df=df_1.copy()\n",
    "# grouped_df['total']  = grouped_df.groupby(['item_name'])['quantity_sold'].transform('sum')\n",
    "# grouped_df.head()"
   ]
  },
  {
   "cell_type": "code",
   "execution_count": 1266,
   "id": "0c89c6fc",
   "metadata": {
    "execution": {
     "iopub.execute_input": "2023-04-27T11:49:43.420825Z",
     "iopub.status.busy": "2023-04-27T11:49:43.420299Z",
     "iopub.status.idle": "2023-04-27T11:49:43.425529Z",
     "shell.execute_reply": "2023-04-27T11:49:43.424040Z"
    },
    "papermill": {
     "duration": 0.039556,
     "end_time": "2023-04-27T11:49:43.428114",
     "exception": false,
     "start_time": "2023-04-27T11:49:43.388558",
     "status": "completed"
    },
    "tags": []
   },
   "outputs": [],
   "source": [
    "# grouped_df[[\"item_name\",\"total\"]]"
   ]
  },
  {
   "cell_type": "code",
   "execution_count": 1267,
   "id": "aea74ff2",
   "metadata": {
    "execution": {
     "iopub.execute_input": "2023-04-27T11:49:43.490205Z",
     "iopub.status.busy": "2023-04-27T11:49:43.489474Z",
     "iopub.status.idle": "2023-04-27T11:49:43.496269Z",
     "shell.execute_reply": "2023-04-27T11:49:43.494631Z"
    },
    "papermill": {
     "duration": 0.041446,
     "end_time": "2023-04-27T11:49:43.499234",
     "exception": false,
     "start_time": "2023-04-27T11:49:43.457788",
     "status": "completed"
    },
    "tags": []
   },
   "outputs": [],
   "source": [
    "# # Load the dataset into a pandas DataFrame\n",
    "\n",
    "# # Create a line plot using seaborn\n",
    "# plt.figure(figsize=(14,6))\n",
    "# sns.lineplot(x='item_name', y='total', data=grouped_df)\n",
    "# plt.xticks(rotation=90)\n",
    "\n",
    "# # Add axis labels and a title to th\n",
    "\n",
    "# # Show the plot\n",
    "# plt.show()"
   ]
  },
  {
   "cell_type": "code",
   "execution_count": 1268,
   "id": "b2faffe6",
   "metadata": {
    "execution": {
     "iopub.execute_input": "2023-04-27T11:49:43.560269Z",
     "iopub.status.busy": "2023-04-27T11:49:43.559799Z",
     "iopub.status.idle": "2023-04-27T11:49:43.588027Z",
     "shell.execute_reply": "2023-04-27T11:49:43.586490Z"
    },
    "papermill": {
     "duration": 0.062638,
     "end_time": "2023-04-27T11:49:43.591111",
     "exception": false,
     "start_time": "2023-04-27T11:49:43.528473",
     "status": "completed"
    },
    "tags": []
   },
   "outputs": [
    {
     "data": {
      "text/html": [
       "<div>\n",
       "<style scoped>\n",
       "    .dataframe tbody tr th:only-of-type {\n",
       "        vertical-align: middle;\n",
       "    }\n",
       "\n",
       "    .dataframe tbody tr th {\n",
       "        vertical-align: top;\n",
       "    }\n",
       "\n",
       "    .dataframe thead th {\n",
       "        text-align: right;\n",
       "    }\n",
       "</style>\n",
       "<table border=\"1\" class=\"dataframe\">\n",
       "  <thead>\n",
       "    <tr style=\"text-align: right;\">\n",
       "      <th></th>\n",
       "      <th>transaction_date</th>\n",
       "      <th>invoice_id</th>\n",
       "      <th>customer_id</th>\n",
       "      <th>shop_id</th>\n",
       "      <th>item_name</th>\n",
       "      <th>item_size</th>\n",
       "      <th>item_price</th>\n",
       "      <th>quantity_sold</th>\n",
       "      <th>total_amount</th>\n",
       "      <th>income_per_quantity</th>\n",
       "      <th>shop_area_sq_ft</th>\n",
       "      <th>date</th>\n",
       "      <th>is_weekend</th>\n",
       "      <th>is_holiday</th>\n",
       "      <th>count_invoice</th>\n",
       "      <th>shop_profile</th>\n",
       "      <th>weekly_income</th>\n",
       "      <th>weekper_month</th>\n",
       "      <th>item_encoded</th>\n",
       "      <th>customer_id_encoded</th>\n",
       "    </tr>\n",
       "  </thead>\n",
       "  <tbody>\n",
       "    <tr>\n",
       "      <th>50020</th>\n",
       "      <td>2021-10-16 00:00:00+00:00</td>\n",
       "      <td>71340.0</td>\n",
       "      <td>9HZ9</td>\n",
       "      <td>SHOP001</td>\n",
       "      <td>ORANGE BARLEY</td>\n",
       "      <td>1.000000</td>\n",
       "      <td>0.300813</td>\n",
       "      <td>0.019608</td>\n",
       "      <td>0.028365</td>\n",
       "      <td>0.747731</td>\n",
       "      <td>0.362003</td>\n",
       "      <td>0.500000</td>\n",
       "      <td>1</td>\n",
       "      <td>0</td>\n",
       "      <td>0.280669</td>\n",
       "      <td>Low</td>\n",
       "      <td>0.045764</td>\n",
       "      <td>0.50</td>\n",
       "      <td>15</td>\n",
       "      <td>50606</td>\n",
       "    </tr>\n",
       "    <tr>\n",
       "      <th>50814</th>\n",
       "      <td>2021-12-11 00:00:00+00:00</td>\n",
       "      <td>3035533.0</td>\n",
       "      <td>G0AJ</td>\n",
       "      <td>SHOP001</td>\n",
       "      <td>GINGER BEER</td>\n",
       "      <td>0.621212</td>\n",
       "      <td>0.186992</td>\n",
       "      <td>0.029412</td>\n",
       "      <td>0.032814</td>\n",
       "      <td>0.747731</td>\n",
       "      <td>0.362003</td>\n",
       "      <td>0.333333</td>\n",
       "      <td>1</td>\n",
       "      <td>0</td>\n",
       "      <td>0.280669</td>\n",
       "      <td>Low</td>\n",
       "      <td>1.000000</td>\n",
       "      <td>0.25</td>\n",
       "      <td>8</td>\n",
       "      <td>85139</td>\n",
       "    </tr>\n",
       "    <tr>\n",
       "      <th>50815</th>\n",
       "      <td>2021-12-11 00:00:00+00:00</td>\n",
       "      <td>3035533.0</td>\n",
       "      <td>G0AJ</td>\n",
       "      <td>SHOP001</td>\n",
       "      <td>GINGER BEER</td>\n",
       "      <td>0.621212</td>\n",
       "      <td>0.186992</td>\n",
       "      <td>0.019608</td>\n",
       "      <td>0.024472</td>\n",
       "      <td>0.747731</td>\n",
       "      <td>0.362003</td>\n",
       "      <td>0.333333</td>\n",
       "      <td>1</td>\n",
       "      <td>0</td>\n",
       "      <td>0.280669</td>\n",
       "      <td>Low</td>\n",
       "      <td>1.000000</td>\n",
       "      <td>0.25</td>\n",
       "      <td>8</td>\n",
       "      <td>85139</td>\n",
       "    </tr>\n",
       "    <tr>\n",
       "      <th>50816</th>\n",
       "      <td>2021-10-18 00:00:00+00:00</td>\n",
       "      <td>3035932.0</td>\n",
       "      <td>IQM6</td>\n",
       "      <td>SHOP001</td>\n",
       "      <td>GINGER BEER SUGAR FREE</td>\n",
       "      <td>0.242424</td>\n",
       "      <td>0.073171</td>\n",
       "      <td>0.019608</td>\n",
       "      <td>0.020578</td>\n",
       "      <td>0.747731</td>\n",
       "      <td>0.362003</td>\n",
       "      <td>0.566667</td>\n",
       "      <td>0</td>\n",
       "      <td>0</td>\n",
       "      <td>0.280669</td>\n",
       "      <td>Low</td>\n",
       "      <td>0.743843</td>\n",
       "      <td>0.50</td>\n",
       "      <td>9</td>\n",
       "      <td>99809</td>\n",
       "    </tr>\n",
       "    <tr>\n",
       "      <th>50817</th>\n",
       "      <td>2021-12-09 00:00:00+00:00</td>\n",
       "      <td>3035932.0</td>\n",
       "      <td>YI1R</td>\n",
       "      <td>SHOP001</td>\n",
       "      <td>GINGER BEER</td>\n",
       "      <td>1.000000</td>\n",
       "      <td>0.300813</td>\n",
       "      <td>0.029412</td>\n",
       "      <td>0.040601</td>\n",
       "      <td>0.747731</td>\n",
       "      <td>0.362003</td>\n",
       "      <td>0.266667</td>\n",
       "      <td>0</td>\n",
       "      <td>0</td>\n",
       "      <td>0.280669</td>\n",
       "      <td>Low</td>\n",
       "      <td>1.000000</td>\n",
       "      <td>0.25</td>\n",
       "      <td>8</td>\n",
       "      <td>183538</td>\n",
       "    </tr>\n",
       "  </tbody>\n",
       "</table>\n",
       "</div>"
      ],
      "text/plain": [
       "               transaction_date  invoice_id customer_id  shop_id  \\\n",
       "50020 2021-10-16 00:00:00+00:00     71340.0        9HZ9  SHOP001   \n",
       "50814 2021-12-11 00:00:00+00:00   3035533.0        G0AJ  SHOP001   \n",
       "50815 2021-12-11 00:00:00+00:00   3035533.0        G0AJ  SHOP001   \n",
       "50816 2021-10-18 00:00:00+00:00   3035932.0        IQM6  SHOP001   \n",
       "50817 2021-12-09 00:00:00+00:00   3035932.0        YI1R  SHOP001   \n",
       "\n",
       "                    item_name  item_size  item_price  quantity_sold  \\\n",
       "50020           ORANGE BARLEY   1.000000    0.300813       0.019608   \n",
       "50814             GINGER BEER   0.621212    0.186992       0.029412   \n",
       "50815             GINGER BEER   0.621212    0.186992       0.019608   \n",
       "50816  GINGER BEER SUGAR FREE   0.242424    0.073171       0.019608   \n",
       "50817             GINGER BEER   1.000000    0.300813       0.029412   \n",
       "\n",
       "       total_amount  income_per_quantity  shop_area_sq_ft      date  \\\n",
       "50020      0.028365             0.747731         0.362003  0.500000   \n",
       "50814      0.032814             0.747731         0.362003  0.333333   \n",
       "50815      0.024472             0.747731         0.362003  0.333333   \n",
       "50816      0.020578             0.747731         0.362003  0.566667   \n",
       "50817      0.040601             0.747731         0.362003  0.266667   \n",
       "\n",
       "       is_weekend  is_holiday  count_invoice shop_profile  weekly_income  \\\n",
       "50020           1           0       0.280669          Low       0.045764   \n",
       "50814           1           0       0.280669          Low       1.000000   \n",
       "50815           1           0       0.280669          Low       1.000000   \n",
       "50816           0           0       0.280669          Low       0.743843   \n",
       "50817           0           0       0.280669          Low       1.000000   \n",
       "\n",
       "       weekper_month  item_encoded  customer_id_encoded  \n",
       "50020           0.50            15                50606  \n",
       "50814           0.25             8                85139  \n",
       "50815           0.25             8                85139  \n",
       "50816           0.50             9                99809  \n",
       "50817           0.25             8               183538  "
      ]
     },
     "execution_count": 1268,
     "metadata": {},
     "output_type": "execute_result"
    }
   ],
   "source": [
    "encoded_df.head()"
   ]
  },
  {
   "cell_type": "code",
   "execution_count": 1269,
   "id": "8fb828c0",
   "metadata": {
    "execution": {
     "iopub.execute_input": "2023-04-27T11:49:43.654957Z",
     "iopub.status.busy": "2023-04-27T11:49:43.654496Z",
     "iopub.status.idle": "2023-04-27T11:49:43.814711Z",
     "shell.execute_reply": "2023-04-27T11:49:43.813340Z"
    },
    "papermill": {
     "duration": 0.195266,
     "end_time": "2023-04-27T11:49:43.817687",
     "exception": false,
     "start_time": "2023-04-27T11:49:43.622421",
     "status": "completed"
    },
    "tags": []
   },
   "outputs": [],
   "source": [
    "filtered_df = encoded_df[encoded_df['shop_profile'].notnull()]\n",
    "na_df=encoded_df[encoded_df['shop_profile'].isnull()]\n",
    "# encoded_df.head()\n",
    "# filtered_df[\"shop_profile\"]\n",
    "# na_df.head()"
   ]
  },
  {
   "cell_type": "code",
   "execution_count": 1270,
   "id": "2e370d33",
   "metadata": {},
   "outputs": [
    {
     "data": {
      "image/png": "[encoded data removed]",
      "text/plain": [
       "<Figure size 200x200 with 1 Axes>"
      ]
     },
     "metadata": {},
     "output_type": "display_data"
    }
   ],
   "source": [
    "import matplotlib.pyplot as plt\n",
    "import pandas as pd\n",
    "\n",
    "# create sample data\n",
    "# data = {'Category': ['A', 'B', 'C', 'A', 'B', 'C'],\n",
    "#         'Value': [10, 15, 20, 25, 30, 35]}\n",
    "\n",
    "# create a DataFrame from the data\n",
    "# df = pd.DataFrame(data)\n",
    "plt.style.use('_mpl-gallery')\n",
    "# create a scatter plot\n",
    "sizes = np.random.uniform(15, 80, len(x))\n",
    "colors = np.random.uniform(15, 80, len(x))\n",
    "fig, ax = plt.subplots()\n",
    "scatter = ax.scatter( filtered_df['income_per_quantity'],filtered_df[\"shop_profile\"])\n",
    "\n",
    "# set labels for the axes\n",
    "ax.set_xlabel('Category')\n",
    "ax.set_ylabel('Value')\n",
    "\n",
    "# add a legend\n",
    "legend = ax.legend(*scatter.legend_elements(), loc='upper right', title='Category')\n",
    "\n",
    "# add a title\n",
    "ax.set_title('Scatter Plot for Categorized Variable vs Numeric Value')\n",
    "\n",
    "plt.show()\n"
   ]
  },
  {
   "cell_type": "code",
   "execution_count": 1271,
   "id": "dfc4002a",
   "metadata": {},
   "outputs": [],
   "source": [
    "# import matplotlib.pyplot as plt\n",
    "# import pandas as pd\n",
    "\n",
    "# # 'category': filtered_df['shop_profile'],\n",
    "# # 'feature': filtered_df['income_per_quantity']\n",
    "\n",
    "\n",
    "# # create a color map for the categories\n",
    "# color_map = {'A': 'red', 'B': 'green', 'C': 'blue'}\n",
    "\n",
    "# # create a scatter plot\n",
    "# plt.scatter(filtered_df['income_per_quantity'], range(len(data)), c=filtered_df['shop_profile'].map(color_map), s=50)\n",
    "\n",
    "# # add axis labels and a title\n",
    "# plt.xlabel('Continuous feature')\n",
    "# plt.ylabel('Category')\n",
    "# plt.title('Scatter plot for a categorized variable vs continuous feature')\n",
    "\n",
    "# # show the plot\n",
    "# plt.show()"
   ]
  },
  {
   "cell_type": "markdown",
   "id": "bd841a64",
   "metadata": {
    "papermill": {
     "duration": 0.02947,
     "end_time": "2023-04-27T11:49:43.876912",
     "exception": false,
     "start_time": "2023-04-27T11:49:43.847442",
     "status": "completed"
    },
    "tags": []
   },
   "source": [
    "\n",
    "\n",
    "### Label Encoding"
   ]
  },
  {
   "cell_type": "code",
   "execution_count": 1272,
   "id": "28c09e20",
   "metadata": {
    "execution": {
     "iopub.execute_input": "2023-04-27T11:49:43.937201Z",
     "iopub.status.busy": "2023-04-27T11:49:43.936736Z",
     "iopub.status.idle": "2023-04-27T11:49:44.171163Z",
     "shell.execute_reply": "2023-04-27T11:49:44.170189Z"
    },
    "papermill": {
     "duration": 0.269456,
     "end_time": "2023-04-27T11:49:44.174922",
     "exception": false,
     "start_time": "2023-04-27T11:49:43.905466",
     "status": "completed"
    },
    "tags": []
   },
   "outputs": [
    {
     "data": {
      "text/html": [
       "<div>\n",
       "<style scoped>\n",
       "    .dataframe tbody tr th:only-of-type {\n",
       "        vertical-align: middle;\n",
       "    }\n",
       "\n",
       "    .dataframe tbody tr th {\n",
       "        vertical-align: top;\n",
       "    }\n",
       "\n",
       "    .dataframe thead th {\n",
       "        text-align: right;\n",
       "    }\n",
       "</style>\n",
       "<table border=\"1\" class=\"dataframe\">\n",
       "  <thead>\n",
       "    <tr style=\"text-align: right;\">\n",
       "      <th></th>\n",
       "      <th>transaction_date</th>\n",
       "      <th>invoice_id</th>\n",
       "      <th>customer_id</th>\n",
       "      <th>shop_id</th>\n",
       "      <th>item_name</th>\n",
       "      <th>item_size</th>\n",
       "      <th>item_price</th>\n",
       "      <th>quantity_sold</th>\n",
       "      <th>total_amount</th>\n",
       "      <th>income_per_quantity</th>\n",
       "      <th>...</th>\n",
       "      <th>date</th>\n",
       "      <th>is_weekend</th>\n",
       "      <th>is_holiday</th>\n",
       "      <th>count_invoice</th>\n",
       "      <th>shop_profile</th>\n",
       "      <th>weekly_income</th>\n",
       "      <th>weekper_month</th>\n",
       "      <th>item_encoded</th>\n",
       "      <th>customer_id_encoded</th>\n",
       "      <th>shop_profile_encoded</th>\n",
       "    </tr>\n",
       "  </thead>\n",
       "  <tbody>\n",
       "    <tr>\n",
       "      <th>50020</th>\n",
       "      <td>2021-10-16 00:00:00+00:00</td>\n",
       "      <td>71340.0</td>\n",
       "      <td>9HZ9</td>\n",
       "      <td>SHOP001</td>\n",
       "      <td>ORANGE BARLEY</td>\n",
       "      <td>1.000000</td>\n",
       "      <td>0.300813</td>\n",
       "      <td>0.019608</td>\n",
       "      <td>0.028365</td>\n",
       "      <td>0.747731</td>\n",
       "      <td>...</td>\n",
       "      <td>0.500000</td>\n",
       "      <td>1</td>\n",
       "      <td>0</td>\n",
       "      <td>0.280669</td>\n",
       "      <td>Low</td>\n",
       "      <td>0.045764</td>\n",
       "      <td>0.50</td>\n",
       "      <td>15</td>\n",
       "      <td>50606</td>\n",
       "      <td>0</td>\n",
       "    </tr>\n",
       "    <tr>\n",
       "      <th>50814</th>\n",
       "      <td>2021-12-11 00:00:00+00:00</td>\n",
       "      <td>3035533.0</td>\n",
       "      <td>G0AJ</td>\n",
       "      <td>SHOP001</td>\n",
       "      <td>GINGER BEER</td>\n",
       "      <td>0.621212</td>\n",
       "      <td>0.186992</td>\n",
       "      <td>0.029412</td>\n",
       "      <td>0.032814</td>\n",
       "      <td>0.747731</td>\n",
       "      <td>...</td>\n",
       "      <td>0.333333</td>\n",
       "      <td>1</td>\n",
       "      <td>0</td>\n",
       "      <td>0.280669</td>\n",
       "      <td>Low</td>\n",
       "      <td>1.000000</td>\n",
       "      <td>0.25</td>\n",
       "      <td>8</td>\n",
       "      <td>85139</td>\n",
       "      <td>0</td>\n",
       "    </tr>\n",
       "    <tr>\n",
       "      <th>50815</th>\n",
       "      <td>2021-12-11 00:00:00+00:00</td>\n",
       "      <td>3035533.0</td>\n",
       "      <td>G0AJ</td>\n",
       "      <td>SHOP001</td>\n",
       "      <td>GINGER BEER</td>\n",
       "      <td>0.621212</td>\n",
       "      <td>0.186992</td>\n",
       "      <td>0.019608</td>\n",
       "      <td>0.024472</td>\n",
       "      <td>0.747731</td>\n",
       "      <td>...</td>\n",
       "      <td>0.333333</td>\n",
       "      <td>1</td>\n",
       "      <td>0</td>\n",
       "      <td>0.280669</td>\n",
       "      <td>Low</td>\n",
       "      <td>1.000000</td>\n",
       "      <td>0.25</td>\n",
       "      <td>8</td>\n",
       "      <td>85139</td>\n",
       "      <td>0</td>\n",
       "    </tr>\n",
       "    <tr>\n",
       "      <th>50816</th>\n",
       "      <td>2021-10-18 00:00:00+00:00</td>\n",
       "      <td>3035932.0</td>\n",
       "      <td>IQM6</td>\n",
       "      <td>SHOP001</td>\n",
       "      <td>GINGER BEER SUGAR FREE</td>\n",
       "      <td>0.242424</td>\n",
       "      <td>0.073171</td>\n",
       "      <td>0.019608</td>\n",
       "      <td>0.020578</td>\n",
       "      <td>0.747731</td>\n",
       "      <td>...</td>\n",
       "      <td>0.566667</td>\n",
       "      <td>0</td>\n",
       "      <td>0</td>\n",
       "      <td>0.280669</td>\n",
       "      <td>Low</td>\n",
       "      <td>0.743843</td>\n",
       "      <td>0.50</td>\n",
       "      <td>9</td>\n",
       "      <td>99809</td>\n",
       "      <td>0</td>\n",
       "    </tr>\n",
       "    <tr>\n",
       "      <th>50817</th>\n",
       "      <td>2021-12-09 00:00:00+00:00</td>\n",
       "      <td>3035932.0</td>\n",
       "      <td>YI1R</td>\n",
       "      <td>SHOP001</td>\n",
       "      <td>GINGER BEER</td>\n",
       "      <td>1.000000</td>\n",
       "      <td>0.300813</td>\n",
       "      <td>0.029412</td>\n",
       "      <td>0.040601</td>\n",
       "      <td>0.747731</td>\n",
       "      <td>...</td>\n",
       "      <td>0.266667</td>\n",
       "      <td>0</td>\n",
       "      <td>0</td>\n",
       "      <td>0.280669</td>\n",
       "      <td>Low</td>\n",
       "      <td>1.000000</td>\n",
       "      <td>0.25</td>\n",
       "      <td>8</td>\n",
       "      <td>183538</td>\n",
       "      <td>0</td>\n",
       "    </tr>\n",
       "  </tbody>\n",
       "</table>\n",
       "<p>5 rows × 21 columns</p>\n",
       "</div>"
      ],
      "text/plain": [
       "               transaction_date  invoice_id customer_id  shop_id  \\\n",
       "50020 2021-10-16 00:00:00+00:00     71340.0        9HZ9  SHOP001   \n",
       "50814 2021-12-11 00:00:00+00:00   3035533.0        G0AJ  SHOP001   \n",
       "50815 2021-12-11 00:00:00+00:00   3035533.0        G0AJ  SHOP001   \n",
       "50816 2021-10-18 00:00:00+00:00   3035932.0        IQM6  SHOP001   \n",
       "50817 2021-12-09 00:00:00+00:00   3035932.0        YI1R  SHOP001   \n",
       "\n",
       "                    item_name  item_size  item_price  quantity_sold  \\\n",
       "50020           ORANGE BARLEY   1.000000    0.300813       0.019608   \n",
       "50814             GINGER BEER   0.621212    0.186992       0.029412   \n",
       "50815             GINGER BEER   0.621212    0.186992       0.019608   \n",
       "50816  GINGER BEER SUGAR FREE   0.242424    0.073171       0.019608   \n",
       "50817             GINGER BEER   1.000000    0.300813       0.029412   \n",
       "\n",
       "       total_amount  income_per_quantity  ...      date  is_weekend  \\\n",
       "50020      0.028365             0.747731  ...  0.500000           1   \n",
       "50814      0.032814             0.747731  ...  0.333333           1   \n",
       "50815      0.024472             0.747731  ...  0.333333           1   \n",
       "50816      0.020578             0.747731  ...  0.566667           0   \n",
       "50817      0.040601             0.747731  ...  0.266667           0   \n",
       "\n",
       "       is_holiday  count_invoice  shop_profile weekly_income  weekper_month  \\\n",
       "50020           0       0.280669           Low      0.045764           0.50   \n",
       "50814           0       0.280669           Low      1.000000           0.25   \n",
       "50815           0       0.280669           Low      1.000000           0.25   \n",
       "50816           0       0.280669           Low      0.743843           0.50   \n",
       "50817           0       0.280669           Low      1.000000           0.25   \n",
       "\n",
       "       item_encoded  customer_id_encoded  shop_profile_encoded  \n",
       "50020            15                50606                     0  \n",
       "50814             8                85139                     0  \n",
       "50815             8                85139                     0  \n",
       "50816             9                99809                     0  \n",
       "50817             8               183538                     0  \n",
       "\n",
       "[5 rows x 21 columns]"
      ]
     },
     "execution_count": 1272,
     "metadata": {},
     "output_type": "execute_result"
    }
   ],
   "source": [
    "# import pandas as pd\n",
    "from sklearn.preprocessing import LabelEncoder\n",
    "\n",
    "# Load the CSV file into a pandas DataFrame\n",
    "# df = pd.read_csv('filename.csv')\n",
    "\n",
    "# Create a LabelEncoder object\n",
    "le = LabelEncoder()\n",
    "\n",
    "# Fit the LabelEncoder on the column and transform the column\n",
    "#filtered_df['column_name_encoded'] = le.fit_transform(filtered_df[\"shop_profile\"])\n",
    "\n",
    "# Save the updated DataFrame to a new CSV file\n",
    "# filtered_df.to_csv('filename_encoded.csv', index=False)\n",
    "\n",
    "# define the mapping between original and encoded values\n",
    "mapping = {'Moderate': 1, 'Low': 0, 'High': 2}\n",
    "\n",
    "# fit the encoder to the 'shopprofile' column using the mapping\n",
    "le.fit([mapping[val] for val in filtered_df['shop_profile']])\n",
    "\n",
    "# transform the 'shopprofile' column using the fitted encoder\n",
    "filtered_df['shop_profile_encoded'] = le.transform([mapping[val] for val in filtered_df['shop_profile']])\n",
    "\n",
    "\n",
    "filtered_df.head()"
   ]
  },
  {
   "cell_type": "code",
   "execution_count": 1273,
   "id": "af7b31ef",
   "metadata": {
    "execution": {
     "iopub.execute_input": "2023-04-27T11:49:44.240067Z",
     "iopub.status.busy": "2023-04-27T11:49:44.239233Z",
     "iopub.status.idle": "2023-04-27T11:49:44.244132Z",
     "shell.execute_reply": "2023-04-27T11:49:44.242874Z"
    },
    "papermill": {
     "duration": 0.0413,
     "end_time": "2023-04-27T11:49:44.246823",
     "exception": false,
     "start_time": "2023-04-27T11:49:44.205523",
     "status": "completed"
    },
    "tags": []
   },
   "outputs": [
    {
     "data": {
      "image/png": "[encoded data removed]",
      "text/plain": [
       "<Figure size 1000x400 with 1 Axes>"
      ]
     },
     "metadata": {},
     "output_type": "display_data"
    }
   ],
   "source": [
    "# df_sorted = filtered_df.sort_values(by='shop_id')\n",
    "# df_sorted\n",
    "\n",
    "# Plot\n",
    "grouped_df=df_1.copy()\n",
    "grouped_df['total_by_name']  = grouped_df.groupby(['item_name'])['quantity_sold'].transform('sum')\n",
    "grouped_df.head()\n",
    "grouped_df[[\"item_name\",\"total_by_name\"]]\n",
    "# Load the dataset into a pandas DataFrame\n",
    "\n",
    "# Create a line plot using seaborn\n",
    "# plt.figure(figsize=(14,6))\n",
    "# sns.lineplot(x='item_name', y='total', data=grouped_df)\n",
    "# plt.xticks(rotation=90)\n",
    "\n",
    "# # Add axis labels and a title to th\n",
    "\n",
    "# # Show the plot\n",
    "# plt.show()\n",
    "# # Load the dataset into a pandas DataFrame\n",
    "\n",
    "# Create a line plot using seaborn\n",
    "plt.figure(figsize=(10,4))\n",
    "sns.lineplot(x='item_name', y='total_by_name', data=grouped_df)\n",
    "plt.xticks(rotation=90)\n",
    "plt.title(\"Sold total vs Item_name\")\n",
    "\n",
    "# Add axis labels and a title to th\n",
    "\n",
    "# Show the plot\n",
    "plt.show()\n"
   ]
  },
  {
   "cell_type": "code",
   "execution_count": 1274,
   "id": "a94e2513",
   "metadata": {},
   "outputs": [
    {
     "data": {
      "image/png": "[encoded data removed]",
      "text/plain": [
       "<Figure size 1000x400 with 1 Axes>"
      ]
     },
     "metadata": {},
     "output_type": "display_data"
    }
   ],
   "source": [
    "# df_sorted = filtered_df.sort_values(by='shop_id')\n",
    "# df_sorted\n",
    "\n",
    "# Plot\n",
    "grouped_df=df_1.copy()\n",
    "grouped_df['total_by_size']  = grouped_df.groupby(['item_size'])['quantity_sold'].transform('sum')\n",
    "grouped_df.head()\n",
    "grouped_df[[\"item_size\",\"total_by_size\"]]\n",
    "# Load the dataset into a pandas DataFrame\n",
    "\n",
    "# Create a line plot using seaborn\n",
    "# plt.figure(figsize=(14,6))\n",
    "# sns.lineplot(x='item_name', y='total', data=grouped_df)\n",
    "# plt.xticks(rotation=90)\n",
    "\n",
    "# # Add axis labels and a title to th\n",
    "\n",
    "# # Show the plot\n",
    "# plt.show()\n",
    "# # Load the dataset into a pandas DataFrame\n",
    "\n",
    "# Create a line plot using seaborn\n",
    "plt.figure(figsize=(10,4))\n",
    "sns.lineplot(x='item_size', y='total_by_size', data=grouped_df)\n",
    "plt.xticks(rotation=90)\n",
    "plt.title(\"Sold total vs Item_size\")\n",
    "\n",
    "# Add axis labels and a title to th\n",
    "\n",
    "# Show the plot\n",
    "plt.show()\n"
   ]
  },
  {
   "cell_type": "code",
   "execution_count": 1275,
   "id": "a66a5916",
   "metadata": {
    "execution": {
     "iopub.execute_input": "2023-04-27T11:49:44.306460Z",
     "iopub.status.busy": "2023-04-27T11:49:44.306027Z",
     "iopub.status.idle": "2023-04-27T11:49:44.337673Z",
     "shell.execute_reply": "2023-04-27T11:49:44.336339Z"
    },
    "papermill": {
     "duration": 0.064756,
     "end_time": "2023-04-27T11:49:44.340483",
     "exception": false,
     "start_time": "2023-04-27T11:49:44.275727",
     "status": "completed"
    },
    "tags": []
   },
   "outputs": [
    {
     "data": {
      "text/html": [
       "<div>\n",
       "<style scoped>\n",
       "    .dataframe tbody tr th:only-of-type {\n",
       "        vertical-align: middle;\n",
       "    }\n",
       "\n",
       "    .dataframe tbody tr th {\n",
       "        vertical-align: top;\n",
       "    }\n",
       "\n",
       "    .dataframe thead th {\n",
       "        text-align: right;\n",
       "    }\n",
       "</style>\n",
       "<table border=\"1\" class=\"dataframe\">\n",
       "  <thead>\n",
       "    <tr style=\"text-align: right;\">\n",
       "      <th></th>\n",
       "      <th>transaction_date</th>\n",
       "      <th>invoice_id</th>\n",
       "      <th>customer_id</th>\n",
       "      <th>shop_id</th>\n",
       "      <th>item_name</th>\n",
       "      <th>item_size</th>\n",
       "      <th>item_price</th>\n",
       "      <th>quantity_sold</th>\n",
       "      <th>total_amount</th>\n",
       "      <th>income_per_quantity</th>\n",
       "      <th>...</th>\n",
       "      <th>date</th>\n",
       "      <th>is_weekend</th>\n",
       "      <th>is_holiday</th>\n",
       "      <th>count_invoice</th>\n",
       "      <th>shop_profile</th>\n",
       "      <th>weekly_income</th>\n",
       "      <th>weekper_month</th>\n",
       "      <th>item_encoded</th>\n",
       "      <th>customer_id_encoded</th>\n",
       "      <th>shop_profile_encoded</th>\n",
       "    </tr>\n",
       "  </thead>\n",
       "  <tbody>\n",
       "    <tr>\n",
       "      <th>50020</th>\n",
       "      <td>2021-10-16 00:00:00+00:00</td>\n",
       "      <td>71340.0</td>\n",
       "      <td>9HZ9</td>\n",
       "      <td>SHOP001</td>\n",
       "      <td>ORANGE BARLEY</td>\n",
       "      <td>1.000000</td>\n",
       "      <td>0.300813</td>\n",
       "      <td>0.019608</td>\n",
       "      <td>0.028365</td>\n",
       "      <td>0.747731</td>\n",
       "      <td>...</td>\n",
       "      <td>0.500000</td>\n",
       "      <td>1</td>\n",
       "      <td>0</td>\n",
       "      <td>0.280669</td>\n",
       "      <td>Low</td>\n",
       "      <td>0.045764</td>\n",
       "      <td>0.50</td>\n",
       "      <td>15</td>\n",
       "      <td>50606</td>\n",
       "      <td>0</td>\n",
       "    </tr>\n",
       "    <tr>\n",
       "      <th>50814</th>\n",
       "      <td>2021-12-11 00:00:00+00:00</td>\n",
       "      <td>3035533.0</td>\n",
       "      <td>G0AJ</td>\n",
       "      <td>SHOP001</td>\n",
       "      <td>GINGER BEER</td>\n",
       "      <td>0.621212</td>\n",
       "      <td>0.186992</td>\n",
       "      <td>0.029412</td>\n",
       "      <td>0.032814</td>\n",
       "      <td>0.747731</td>\n",
       "      <td>...</td>\n",
       "      <td>0.333333</td>\n",
       "      <td>1</td>\n",
       "      <td>0</td>\n",
       "      <td>0.280669</td>\n",
       "      <td>Low</td>\n",
       "      <td>1.000000</td>\n",
       "      <td>0.25</td>\n",
       "      <td>8</td>\n",
       "      <td>85139</td>\n",
       "      <td>0</td>\n",
       "    </tr>\n",
       "    <tr>\n",
       "      <th>50815</th>\n",
       "      <td>2021-12-11 00:00:00+00:00</td>\n",
       "      <td>3035533.0</td>\n",
       "      <td>G0AJ</td>\n",
       "      <td>SHOP001</td>\n",
       "      <td>GINGER BEER</td>\n",
       "      <td>0.621212</td>\n",
       "      <td>0.186992</td>\n",
       "      <td>0.019608</td>\n",
       "      <td>0.024472</td>\n",
       "      <td>0.747731</td>\n",
       "      <td>...</td>\n",
       "      <td>0.333333</td>\n",
       "      <td>1</td>\n",
       "      <td>0</td>\n",
       "      <td>0.280669</td>\n",
       "      <td>Low</td>\n",
       "      <td>1.000000</td>\n",
       "      <td>0.25</td>\n",
       "      <td>8</td>\n",
       "      <td>85139</td>\n",
       "      <td>0</td>\n",
       "    </tr>\n",
       "    <tr>\n",
       "      <th>50816</th>\n",
       "      <td>2021-10-18 00:00:00+00:00</td>\n",
       "      <td>3035932.0</td>\n",
       "      <td>IQM6</td>\n",
       "      <td>SHOP001</td>\n",
       "      <td>GINGER BEER SUGAR FREE</td>\n",
       "      <td>0.242424</td>\n",
       "      <td>0.073171</td>\n",
       "      <td>0.019608</td>\n",
       "      <td>0.020578</td>\n",
       "      <td>0.747731</td>\n",
       "      <td>...</td>\n",
       "      <td>0.566667</td>\n",
       "      <td>0</td>\n",
       "      <td>0</td>\n",
       "      <td>0.280669</td>\n",
       "      <td>Low</td>\n",
       "      <td>0.743843</td>\n",
       "      <td>0.50</td>\n",
       "      <td>9</td>\n",
       "      <td>99809</td>\n",
       "      <td>0</td>\n",
       "    </tr>\n",
       "    <tr>\n",
       "      <th>50817</th>\n",
       "      <td>2021-12-09 00:00:00+00:00</td>\n",
       "      <td>3035932.0</td>\n",
       "      <td>YI1R</td>\n",
       "      <td>SHOP001</td>\n",
       "      <td>GINGER BEER</td>\n",
       "      <td>1.000000</td>\n",
       "      <td>0.300813</td>\n",
       "      <td>0.029412</td>\n",
       "      <td>0.040601</td>\n",
       "      <td>0.747731</td>\n",
       "      <td>...</td>\n",
       "      <td>0.266667</td>\n",
       "      <td>0</td>\n",
       "      <td>0</td>\n",
       "      <td>0.280669</td>\n",
       "      <td>Low</td>\n",
       "      <td>1.000000</td>\n",
       "      <td>0.25</td>\n",
       "      <td>8</td>\n",
       "      <td>183538</td>\n",
       "      <td>0</td>\n",
       "    </tr>\n",
       "  </tbody>\n",
       "</table>\n",
       "<p>5 rows × 21 columns</p>\n",
       "</div>"
      ],
      "text/plain": [
       "               transaction_date  invoice_id customer_id  shop_id  \\\n",
       "50020 2021-10-16 00:00:00+00:00     71340.0        9HZ9  SHOP001   \n",
       "50814 2021-12-11 00:00:00+00:00   3035533.0        G0AJ  SHOP001   \n",
       "50815 2021-12-11 00:00:00+00:00   3035533.0        G0AJ  SHOP001   \n",
       "50816 2021-10-18 00:00:00+00:00   3035932.0        IQM6  SHOP001   \n",
       "50817 2021-12-09 00:00:00+00:00   3035932.0        YI1R  SHOP001   \n",
       "\n",
       "                    item_name  item_size  item_price  quantity_sold  \\\n",
       "50020           ORANGE BARLEY   1.000000    0.300813       0.019608   \n",
       "50814             GINGER BEER   0.621212    0.186992       0.029412   \n",
       "50815             GINGER BEER   0.621212    0.186992       0.019608   \n",
       "50816  GINGER BEER SUGAR FREE   0.242424    0.073171       0.019608   \n",
       "50817             GINGER BEER   1.000000    0.300813       0.029412   \n",
       "\n",
       "       total_amount  income_per_quantity  ...      date  is_weekend  \\\n",
       "50020      0.028365             0.747731  ...  0.500000           1   \n",
       "50814      0.032814             0.747731  ...  0.333333           1   \n",
       "50815      0.024472             0.747731  ...  0.333333           1   \n",
       "50816      0.020578             0.747731  ...  0.566667           0   \n",
       "50817      0.040601             0.747731  ...  0.266667           0   \n",
       "\n",
       "       is_holiday  count_invoice  shop_profile weekly_income  weekper_month  \\\n",
       "50020           0       0.280669           Low      0.045764           0.50   \n",
       "50814           0       0.280669           Low      1.000000           0.25   \n",
       "50815           0       0.280669           Low      1.000000           0.25   \n",
       "50816           0       0.280669           Low      0.743843           0.50   \n",
       "50817           0       0.280669           Low      1.000000           0.25   \n",
       "\n",
       "       item_encoded  customer_id_encoded  shop_profile_encoded  \n",
       "50020            15                50606                     0  \n",
       "50814             8                85139                     0  \n",
       "50815             8                85139                     0  \n",
       "50816             9                99809                     0  \n",
       "50817             8               183538                     0  \n",
       "\n",
       "[5 rows x 21 columns]"
      ]
     },
     "execution_count": 1275,
     "metadata": {},
     "output_type": "execute_result"
    }
   ],
   "source": [
    "# calculate the index for splitting the dataframe\n",
    "split_idx = int(0.8 * len(filtered_df))\n",
    "# split the dataframe into training and testing sets\n",
    "train_df =filtered_df.iloc[:split_idx]\n",
    "test_df = filtered_df.iloc[split_idx:]\n",
    "train_df.head()"
   ]
  },
  {
   "cell_type": "code",
   "execution_count": 1276,
   "id": "0b3db708",
   "metadata": {
    "execution": {
     "iopub.execute_input": "2023-04-27T11:49:44.404542Z",
     "iopub.status.busy": "2023-04-27T11:49:44.403670Z",
     "iopub.status.idle": "2023-04-27T11:49:44.448475Z",
     "shell.execute_reply": "2023-04-27T11:49:44.446473Z"
    },
    "papermill": {
     "duration": 0.081455,
     "end_time": "2023-04-27T11:49:44.451786",
     "exception": false,
     "start_time": "2023-04-27T11:49:44.370331",
     "status": "completed"
    },
    "tags": []
   },
   "outputs": [],
   "source": [
    "X_train=train_df.drop(columns=['transaction_date','invoice_id','customer_id','shop_id','shop_profile','shop_profile_encoded','item_name','is_weekend'])\n",
    "y_train=train_df[\"shop_profile_encoded\"]\n",
    "X_test=test_df.drop(columns=['transaction_date','invoice_id','customer_id','shop_id','shop_profile','shop_profile_encoded','item_name'])\n",
    "y_test=test_df[\"shop_profile_encoded\"]"
   ]
  },
  {
   "cell_type": "code",
   "execution_count": null,
   "id": "18c444e2",
   "metadata": {},
   "outputs": [],
   "source": []
  },
  {
   "cell_type": "code",
   "execution_count": 1279,
   "id": "510c9a86",
   "metadata": {},
   "outputs": [],
   "source": [
    "# import matplotlib.pyplot as plt\n",
    "# from sklearn.ensemble import RandomForestClassifier\n",
    "# import pandas as pd\n",
    "\n",
    "# # create a random forest classifier\n",
    "# rfc = RandomForestClassifier()\n",
    "\n",
    "# # fit the classifier to the training data\n",
    "# rfc.fit(X_train, y_train)\n",
    "\n",
    "# # get the feature importances\n",
    "# importances = rfc.feature_importances_\n",
    "\n",
    "# # create a horizontal bar plot of feature importances\n",
    "# fig, ax = plt.subplots()\n",
    "# ax.barh(X_train.columns, importances)\n",
    "# ax.set_xlabel('Importance')\n",
    "# ax.set_ylabel('Feature')\n",
    "# ax.set_title('Feature Importances Plot')\n",
    "\n",
    "# plt.show()\n"
   ]
  },
  {
   "cell_type": "code",
   "execution_count": 1280,
   "id": "78e5869e",
   "metadata": {
    "execution": {
     "iopub.execute_input": "2023-04-27T11:49:44.518432Z",
     "iopub.status.busy": "2023-04-27T11:49:44.518006Z",
     "iopub.status.idle": "2023-04-27T11:49:44.523930Z",
     "shell.execute_reply": "2023-04-27T11:49:44.522276Z"
    },
    "papermill": {
     "duration": 0.042933,
     "end_time": "2023-04-27T11:49:44.526475",
     "exception": false,
     "start_time": "2023-04-27T11:49:44.483542",
     "status": "completed"
    },
    "tags": []
   },
   "outputs": [],
   "source": [
    "# X_train.isnull().sum()"
   ]
  },
  {
   "cell_type": "code",
   "execution_count": 1281,
   "id": "8a46af82",
   "metadata": {
    "execution": {
     "iopub.execute_input": "2023-04-27T11:49:44.591544Z",
     "iopub.status.busy": "2023-04-27T11:49:44.590202Z",
     "iopub.status.idle": "2023-04-27T11:49:44.596255Z",
     "shell.execute_reply": "2023-04-27T11:49:44.594868Z"
    },
    "papermill": {
     "duration": 0.04239,
     "end_time": "2023-04-27T11:49:44.599050",
     "exception": false,
     "start_time": "2023-04-27T11:49:44.556660",
     "status": "completed"
    },
    "tags": []
   },
   "outputs": [],
   "source": [
    "# X=filtered_df.drop(columns=['is_holiday','transaction_date','invoice_id','customer_id','shop_id','shop_profile','shop_profile_encoded','item_name'])\n",
    "# y=filtered_df[\"shop_profile_encoded\"]"
   ]
  },
  {
   "cell_type": "markdown",
   "id": "74d90eed",
   "metadata": {
    "papermill": {
     "duration": 0.029373,
     "end_time": "2023-04-27T11:49:44.660028",
     "exception": false,
     "start_time": "2023-04-27T11:49:44.630655",
     "status": "completed"
    },
    "tags": []
   },
   "source": [
    "### Outliers"
   ]
  },
  {
   "cell_type": "code",
   "execution_count": 1282,
   "id": "cbeb741a",
   "metadata": {
    "execution": {
     "iopub.execute_input": "2023-04-27T11:49:44.722863Z",
     "iopub.status.busy": "2023-04-27T11:49:44.722168Z",
     "iopub.status.idle": "2023-04-27T11:49:44.726864Z",
     "shell.execute_reply": "2023-04-27T11:49:44.725875Z"
    },
    "papermill": {
     "duration": 0.039125,
     "end_time": "2023-04-27T11:49:44.729954",
     "exception": false,
     "start_time": "2023-04-27T11:49:44.690829",
     "status": "completed"
    },
    "tags": []
   },
   "outputs": [],
   "source": [
    "# def count_outliers(col_data):\n",
    "#     Q1 = col_data.quantile(0.25)\n",
    "#     Q3 = col_data.quantile(0.75)\n",
    "\n",
    "#     # Calculate the interquartile range (IQR)\n",
    "#     IQR = Q3 - Q1\n",
    "\n",
    "#     # Define the threshold for outliers (1.5 times the IQR)\n",
    "#     threshold = 1.5 * IQR\n",
    "\n",
    "#     # Identify the outliers\n",
    "#     outliers = col_data[(col_data < Q1 - threshold) | (col_data > Q3 + threshold)]\n",
    "\n",
    "#     # Count the number of outliers\n",
    "#     num_outliers = len(outliers)\n",
    "\n",
    "#     print(\"Number of outliers in column\", \":\", num_outliers)\n",
    "\n"
   ]
  },
  {
   "cell_type": "code",
   "execution_count": 1283,
   "id": "c4d6d55f",
   "metadata": {
    "execution": {
     "iopub.execute_input": "2023-04-27T11:49:44.791971Z",
     "iopub.status.busy": "2023-04-27T11:49:44.791261Z",
     "iopub.status.idle": "2023-04-27T11:49:44.795579Z",
     "shell.execute_reply": "2023-04-27T11:49:44.794478Z"
    },
    "papermill": {
     "duration": 0.038264,
     "end_time": "2023-04-27T11:49:44.798498",
     "exception": false,
     "start_time": "2023-04-27T11:49:44.760234",
     "status": "completed"
    },
    "tags": []
   },
   "outputs": [],
   "source": [
    "# X = X.fillna(0)\n",
    "# X.head()"
   ]
  },
  {
   "cell_type": "code",
   "execution_count": 1284,
   "id": "b219dbb7",
   "metadata": {
    "execution": {
     "iopub.execute_input": "2023-04-27T11:49:44.863984Z",
     "iopub.status.busy": "2023-04-27T11:49:44.862501Z",
     "iopub.status.idle": "2023-04-27T11:49:44.868087Z",
     "shell.execute_reply": "2023-04-27T11:49:44.866703Z"
    },
    "papermill": {
     "duration": 0.040598,
     "end_time": "2023-04-27T11:49:44.870998",
     "exception": false,
     "start_time": "2023-04-27T11:49:44.830400",
     "status": "completed"
    },
    "tags": []
   },
   "outputs": [],
   "source": [
    "# from sklearn.model_selection import train_test_split\n",
    "\n",
    "# y = filtered_df['shop_profile_encoded']\n",
    "# X_train, X_test, y_train, y_test = train_test_split(X, y, test_size=0.3,random_state=50)"
   ]
  },
  {
   "cell_type": "code",
   "execution_count": 1285,
   "id": "3aeeb432",
   "metadata": {
    "execution": {
     "iopub.execute_input": "2023-04-27T11:49:44.937176Z",
     "iopub.status.busy": "2023-04-27T11:49:44.935863Z",
     "iopub.status.idle": "2023-04-27T11:49:44.943464Z",
     "shell.execute_reply": "2023-04-27T11:49:44.941339Z"
    },
    "papermill": {
     "duration": 0.044629,
     "end_time": "2023-04-27T11:49:44.946311",
     "exception": false,
     "start_time": "2023-04-27T11:49:44.901682",
     "status": "completed"
    },
    "tags": []
   },
   "outputs": [],
   "source": [
    "# X_train.head(5)"
   ]
  },
  {
   "cell_type": "markdown",
   "id": "f6483716",
   "metadata": {
    "papermill": {
     "duration": 0.030271,
     "end_time": "2023-04-27T11:49:45.007248",
     "exception": false,
     "start_time": "2023-04-27T11:49:44.976977",
     "status": "completed"
    },
    "tags": []
   },
   "source": [
    "### Logistic"
   ]
  },
  {
   "cell_type": "code",
   "execution_count": 1286,
   "id": "fe2a12fc",
   "metadata": {
    "execution": {
     "iopub.execute_input": "2023-04-27T11:49:45.070779Z",
     "iopub.status.busy": "2023-04-27T11:49:45.070033Z",
     "iopub.status.idle": "2023-04-27T11:49:45.076068Z",
     "shell.execute_reply": "2023-04-27T11:49:45.074987Z"
    },
    "papermill": {
     "duration": 0.041909,
     "end_time": "2023-04-27T11:49:45.078780",
     "exception": false,
     "start_time": "2023-04-27T11:49:45.036871",
     "status": "completed"
    },
    "tags": []
   },
   "outputs": [],
   "source": [
    "# import pandas as pd\n",
    "# from sklearn.linear_model import LogisticRegression\n",
    "# from sklearn.model_selection import train_test_split\n",
    "\n",
    "# # load the data into a DataFrame\n",
    "# # data = pd.read_csv('data.csv')\n",
    "\n",
    "# # # split the data into training and test sets\n",
    "# # X_train, X_test, y_train, y_test = train_test_split(data[['feature1', 'feature2', 'feature3']], data['target'], test_size=0.2)\n",
    "\n",
    "# # create a logistic regression object and fit the training data\n",
    "# lr = LogisticRegression()\n",
    "# lr.fit(X_train, y_train)\n",
    "\n",
    "# # evaluate the performance of the model on the test set\n",
    "# score = lr.score(X_test, y_test)\n",
    "# print(score * 100)"
   ]
  },
  {
   "cell_type": "markdown",
   "id": "39d56890",
   "metadata": {
    "papermill": {
     "duration": 0.030407,
     "end_time": "2023-04-27T11:49:45.140233",
     "exception": false,
     "start_time": "2023-04-27T11:49:45.109826",
     "status": "completed"
    },
    "tags": []
   },
   "source": [
    "### SVM"
   ]
  },
  {
   "cell_type": "code",
   "execution_count": 1287,
   "id": "d2f00799",
   "metadata": {
    "execution": {
     "iopub.execute_input": "2023-04-27T11:49:45.202929Z",
     "iopub.status.busy": "2023-04-27T11:49:45.202094Z",
     "iopub.status.idle": "2023-04-27T11:49:45.209051Z",
     "shell.execute_reply": "2023-04-27T11:49:45.207230Z"
    },
    "papermill": {
     "duration": 0.042974,
     "end_time": "2023-04-27T11:49:45.212590",
     "exception": false,
     "start_time": "2023-04-27T11:49:45.169616",
     "status": "completed"
    },
    "tags": []
   },
   "outputs": [],
   "source": [
    "# from sklearn import datasets\n",
    "# from sklearn.model_selection import train_test_split\n",
    "# from sklearn.svm import SVC\n",
    "\n",
    "\n",
    "# # Load the iris datase\n",
    "\n",
    "# # Define the SVM classifier\n",
    "# svm = SVC(kernel='linear')\n",
    "\n",
    "# # Fit the training data\n",
    "# svm.fit(X_train, y_train)\n",
    "\n",
    "# # Predict the classes of new data\n",
    "# # y_pred = clf.predict(X_test)\n",
    "\n",
    "# # Print the accuracy score\n",
    "# # print(\"Accuracy:\", clf.score(X_test, y_test))\n"
   ]
  },
  {
   "cell_type": "code",
   "execution_count": 1288,
   "id": "3c303fe7",
   "metadata": {
    "execution": {
     "iopub.execute_input": "2023-04-27T11:49:45.275248Z",
     "iopub.status.busy": "2023-04-27T11:49:45.274841Z",
     "iopub.status.idle": "2023-04-27T11:49:45.280589Z",
     "shell.execute_reply": "2023-04-27T11:49:45.278874Z"
    },
    "papermill": {
     "duration": 0.040844,
     "end_time": "2023-04-27T11:49:45.283582",
     "exception": false,
     "start_time": "2023-04-27T11:49:45.242738",
     "status": "completed"
    },
    "tags": []
   },
   "outputs": [],
   "source": [
    "# import pandas as pd\n",
    "# from sklearn.svm import SVC\n",
    "# from sklearn.model_selection import train_test_split\n",
    "# from sklearn.metrics import accuracy_score\n",
    "\n",
    "# # load the data into a DataFrame\n",
    "# # data = pd.read_csv('data.csv')\n",
    "\n",
    "# # # split the data into training and test sets\n",
    "# # X_train, X_test, y_train, y_test = train_test_split(data[['feature1', 'feature2', 'feature3']], data['target'], test_size=0.2)\n",
    "\n",
    "# # create an SVM object and fit the training data\n",
    "# svm = SVC(kernel='linear')\n",
    "# svm.fit(X_train, y_train)\n",
    "\n",
    "# # predict the class labels for the test set\n",
    "# y_pred = svm.predict(X_test)\n",
    "\n",
    "# # evaluate the performance of the model on the test set\n",
    "# score = accuracy_score(y_test, y_pred)\n",
    "# print(\"Accuracy: {:.2f}%\".format(score * 100))\n"
   ]
  },
  {
   "cell_type": "code",
   "execution_count": 1289,
   "id": "80720264",
   "metadata": {
    "execution": {
     "iopub.execute_input": "2023-04-27T11:49:45.348933Z",
     "iopub.status.busy": "2023-04-27T11:49:45.348523Z",
     "iopub.status.idle": "2023-04-27T11:49:45.354124Z",
     "shell.execute_reply": "2023-04-27T11:49:45.352607Z"
    },
    "papermill": {
     "duration": 0.040621,
     "end_time": "2023-04-27T11:49:45.357031",
     "exception": false,
     "start_time": "2023-04-27T11:49:45.316410",
     "status": "completed"
    },
    "tags": []
   },
   "outputs": [],
   "source": [
    "# import xgboost as xgb\n",
    "# import numpy as np\n",
    "\n",
    "# # Convert data to DMatrix format\n",
    "# dtrain = xgb.DMatrix(X_train, label=y_train)\n",
    "# dtest = xgb.DMatrix(X_test, label=y_test)\n",
    "\n",
    "# # Set hyperparameters\n",
    "# params = {\n",
    "#     'objective': 'multi:softmax',\n",
    "#     'num_class': len(np.unique(y_train)),\n",
    "#     'max_depth': 6,\n",
    "#     'eta': 0.3,\n",
    "#     'eval_metric': 'merror'\n",
    "# }\n",
    "\n",
    "# # Train the model\n",
    "# model = xgb.train(params, dtrain, num_boost_round=10)\n",
    "\n",
    "# # Predict on test set\n",
    "# y_pred = model.predict(dtest)\n",
    "\n",
    "# # Evaluate the model\n",
    "# accuracy = np.sum(y_pred == y_test) / len(y_test)\n",
    "# print('Accuracy:', accuracy)"
   ]
  },
  {
   "cell_type": "markdown",
   "id": "d32a294c",
   "metadata": {
    "papermill": {
     "duration": 0.03321,
     "end_time": "2023-04-27T11:49:45.422087",
     "exception": false,
     "start_time": "2023-04-27T11:49:45.388877",
     "status": "completed"
    },
    "tags": []
   },
   "source": [
    "### Neural Network"
   ]
  },
  {
   "cell_type": "code",
   "execution_count": 1290,
   "id": "02a19926",
   "metadata": {
    "execution": {
     "iopub.execute_input": "2023-04-27T11:49:45.486071Z",
     "iopub.status.busy": "2023-04-27T11:49:45.484913Z",
     "iopub.status.idle": "2023-04-27T11:49:45.491843Z",
     "shell.execute_reply": "2023-04-27T11:49:45.490275Z"
    },
    "papermill": {
     "duration": 0.04213,
     "end_time": "2023-04-27T11:49:45.494696",
     "exception": false,
     "start_time": "2023-04-27T11:49:45.452566",
     "status": "completed"
    },
    "tags": []
   },
   "outputs": [],
   "source": [
    "# from sklearn.neural_network import MLPClassifier\n",
    "\n",
    "# # create neural network classifier object\n",
    "# clf = MLPClassifier(hidden_layer_sizes=(10,5), activation='relu', solver='adam', max_iter=200)\n",
    "\n",
    "# # fit the classifier to the training data\n",
    "# clf.fit(X_train, y_train)\n",
    "\n",
    "# # predict the class labels for the test data\n",
    "# y_pred = clf.predict(X_test)\n",
    "\n",
    "# # calculate the accuracy of the classifier on the test data\n",
    "# accuracy = clf.score(X_test, y_test)*100\n",
    "# print('Accuracy of the  MLPClassifier is equal ' + str(round(accuracy, 2)) + ' %.')"
   ]
  },
  {
   "cell_type": "code",
   "execution_count": 1291,
   "id": "f7d70673",
   "metadata": {},
   "outputs": [],
   "source": [
    "# from sklearn.ensemble import RandomForestClassifier\n",
    "# for i in range(10,100,10):\n",
    "#     for j in range(50,500,50):\n",
    "#         # Create a random forest classifier with 100 trees\n",
    "#         rf = RandomForestClassifier(n_estimators=j, random_state=i)\n",
    "\n",
    "#         # Train the random forest classifier on the training data\n",
    "#         rf.fit(X_train, y_train)\n",
    "\n",
    "#         # Predict the classes of the testing data\n",
    "#         y_pred = rf.predict(X_test)\n",
    "\n",
    "#         # Evaluate the accuracy of the model\n",
    "#         accuracy = rf.score(X_test, y_test)*100\n",
    "#         print('Accuracy of the  RandomForestClassifier is equal '+str(i)+' '+str(j)+' ' + str(round(accuracy, 2)) + ' %.')"
   ]
  },
  {
   "cell_type": "code",
   "execution_count": 1292,
   "id": "9922b798",
   "metadata": {},
   "outputs": [
    {
     "name": "stdout",
     "output_type": "stream",
     "text": [
      "0.5543563420201737\n"
     ]
    },
    {
     "data": {
      "image/png": "[encoded data removed]",
      "text/plain": [
       "<Figure size 900x900 with 1 Axes>"
      ]
     },
     "metadata": {},
     "output_type": "display_data"
    },
    {
     "name": "stdout",
     "output_type": "stream",
     "text": [
      "              precision    recall  f1-score   support\n",
      "\n",
      "           0       0.43      0.73      0.54     16040\n",
      "           1       0.63      0.42      0.50     33744\n",
      "           2       0.64      0.64      0.64     22514\n",
      "\n",
      "    accuracy                           0.56     72298\n",
      "   macro avg       0.57      0.60      0.56     72298\n",
      "weighted avg       0.59      0.56      0.55     72298\n",
      "\n"
     ]
    }
   ],
   "source": [
    "from sklearn.metrics import f1_score\n",
    "print(f1_score(y_test, y_pred, average='weighted'))\n",
    "### another idea\n",
    "from sklearn import metrics\n",
    "cm = metrics.confusion_matrix(y_test, y_pred)\n",
    "cm\n",
    "import matplotlib.pyplot as plt\n",
    "import seaborn as sns\n",
    "plt.figure(figsize = (9,9))\n",
    "sns.heatmap(cm, annot = True, fmt = '0.3f', linewidth = 0.5, square = True, cbar = False)\n",
    "plt.ylabel('Actual values')\n",
    "plt.xlabel('Predicted values')\n",
    "plt.show()\n",
    "print(metrics.classification_report(y_test,y_pred))"
   ]
  },
  {
   "cell_type": "markdown",
   "id": "a3557741",
   "metadata": {
    "papermill": {
     "duration": 0.029892,
     "end_time": "2023-04-27T11:49:45.557876",
     "exception": false,
     "start_time": "2023-04-27T11:49:45.527984",
     "status": "completed"
    },
    "tags": []
   },
   "source": [
    "### Random forest"
   ]
  },
  {
   "cell_type": "code",
   "execution_count": 1293,
   "id": "72fb44dc",
   "metadata": {
    "execution": {
     "iopub.execute_input": "2023-04-27T11:49:45.624063Z",
     "iopub.status.busy": "2023-04-27T11:49:45.623616Z",
     "iopub.status.idle": "2023-04-27T11:50:28.170578Z",
     "shell.execute_reply": "2023-04-27T11:50:28.169195Z"
    },
    "papermill": {
     "duration": 42.613849,
     "end_time": "2023-04-27T11:50:28.202808",
     "exception": false,
     "start_time": "2023-04-27T11:49:45.588959",
     "status": "completed"
    },
    "tags": []
   },
   "outputs": [
    {
     "ename": "ValueError",
     "evalue": "The feature names should match those that were passed during fit.\nFeature names unseen at fit time:\n- is_weekend\n",
     "output_type": "error",
     "traceback": [
      "\u001b[1;31m---------------------------------------------------------------------------\u001b[0m",
      "\u001b[1;31mValueError\u001b[0m                                Traceback (most recent call last)",
      "Cell \u001b[1;32mIn[1293], line 10\u001b[0m\n\u001b[0;32m      7\u001b[0m rf\u001b[38;5;241m.\u001b[39mfit(X_train, y_train)\n\u001b[0;32m      9\u001b[0m \u001b[38;5;66;03m# Predict the classes of the testing data\u001b[39;00m\n\u001b[1;32m---> 10\u001b[0m y_pred \u001b[38;5;241m=\u001b[39m \u001b[43mrf\u001b[49m\u001b[38;5;241;43m.\u001b[39;49m\u001b[43mpredict\u001b[49m\u001b[43m(\u001b[49m\u001b[43mX_test\u001b[49m\u001b[43m)\u001b[49m\n\u001b[0;32m     12\u001b[0m \u001b[38;5;66;03m# Evaluate the accuracy of the model\u001b[39;00m\n\u001b[0;32m     13\u001b[0m accuracy \u001b[38;5;241m=\u001b[39m rf\u001b[38;5;241m.\u001b[39mscore(X_test, y_test)\u001b[38;5;241m*\u001b[39m\u001b[38;5;241m100\u001b[39m\n",
      "File \u001b[1;32m~\\AppData\\Local\\Programs\\Python\\Python310\\lib\\site-packages\\sklearn\\ensemble\\_forest.py:820\u001b[0m, in \u001b[0;36mForestClassifier.predict\u001b[1;34m(self, X)\u001b[0m\n\u001b[0;32m    799\u001b[0m \u001b[38;5;28;01mdef\u001b[39;00m \u001b[38;5;21mpredict\u001b[39m(\u001b[38;5;28mself\u001b[39m, X):\n\u001b[0;32m    800\u001b[0m \u001b[38;5;250m    \u001b[39m\u001b[38;5;124;03m\"\"\"\u001b[39;00m\n\u001b[0;32m    801\u001b[0m \u001b[38;5;124;03m    Predict class for X.\u001b[39;00m\n\u001b[0;32m    802\u001b[0m \n\u001b[1;32m   (...)\u001b[0m\n\u001b[0;32m    818\u001b[0m \u001b[38;5;124;03m        The predicted classes.\u001b[39;00m\n\u001b[0;32m    819\u001b[0m \u001b[38;5;124;03m    \"\"\"\u001b[39;00m\n\u001b[1;32m--> 820\u001b[0m     proba \u001b[38;5;241m=\u001b[39m \u001b[38;5;28;43mself\u001b[39;49m\u001b[38;5;241;43m.\u001b[39;49m\u001b[43mpredict_proba\u001b[49m\u001b[43m(\u001b[49m\u001b[43mX\u001b[49m\u001b[43m)\u001b[49m\n\u001b[0;32m    822\u001b[0m     \u001b[38;5;28;01mif\u001b[39;00m \u001b[38;5;28mself\u001b[39m\u001b[38;5;241m.\u001b[39mn_outputs_ \u001b[38;5;241m==\u001b[39m \u001b[38;5;241m1\u001b[39m:\n\u001b[0;32m    823\u001b[0m         \u001b[38;5;28;01mreturn\u001b[39;00m \u001b[38;5;28mself\u001b[39m\u001b[38;5;241m.\u001b[39mclasses_\u001b[38;5;241m.\u001b[39mtake(np\u001b[38;5;241m.\u001b[39margmax(proba, axis\u001b[38;5;241m=\u001b[39m\u001b[38;5;241m1\u001b[39m), axis\u001b[38;5;241m=\u001b[39m\u001b[38;5;241m0\u001b[39m)\n",
      "File \u001b[1;32m~\\AppData\\Local\\Programs\\Python\\Python310\\lib\\site-packages\\sklearn\\ensemble\\_forest.py:862\u001b[0m, in \u001b[0;36mForestClassifier.predict_proba\u001b[1;34m(self, X)\u001b[0m\n\u001b[0;32m    860\u001b[0m check_is_fitted(\u001b[38;5;28mself\u001b[39m)\n\u001b[0;32m    861\u001b[0m \u001b[38;5;66;03m# Check data\u001b[39;00m\n\u001b[1;32m--> 862\u001b[0m X \u001b[38;5;241m=\u001b[39m \u001b[38;5;28;43mself\u001b[39;49m\u001b[38;5;241;43m.\u001b[39;49m\u001b[43m_validate_X_predict\u001b[49m\u001b[43m(\u001b[49m\u001b[43mX\u001b[49m\u001b[43m)\u001b[49m\n\u001b[0;32m    864\u001b[0m \u001b[38;5;66;03m# Assign chunk of trees to jobs\u001b[39;00m\n\u001b[0;32m    865\u001b[0m n_jobs, _, _ \u001b[38;5;241m=\u001b[39m _partition_estimators(\u001b[38;5;28mself\u001b[39m\u001b[38;5;241m.\u001b[39mn_estimators, \u001b[38;5;28mself\u001b[39m\u001b[38;5;241m.\u001b[39mn_jobs)\n",
      "File \u001b[1;32m~\\AppData\\Local\\Programs\\Python\\Python310\\lib\\site-packages\\sklearn\\ensemble\\_forest.py:602\u001b[0m, in \u001b[0;36mBaseForest._validate_X_predict\u001b[1;34m(self, X)\u001b[0m\n\u001b[0;32m    599\u001b[0m \u001b[38;5;250m\u001b[39m\u001b[38;5;124;03m\"\"\"\u001b[39;00m\n\u001b[0;32m    600\u001b[0m \u001b[38;5;124;03mValidate X whenever one tries to predict, apply, predict_proba.\"\"\"\u001b[39;00m\n\u001b[0;32m    601\u001b[0m check_is_fitted(\u001b[38;5;28mself\u001b[39m)\n\u001b[1;32m--> 602\u001b[0m X \u001b[38;5;241m=\u001b[39m \u001b[38;5;28;43mself\u001b[39;49m\u001b[38;5;241;43m.\u001b[39;49m\u001b[43m_validate_data\u001b[49m\u001b[43m(\u001b[49m\u001b[43mX\u001b[49m\u001b[43m,\u001b[49m\u001b[43m \u001b[49m\u001b[43mdtype\u001b[49m\u001b[38;5;241;43m=\u001b[39;49m\u001b[43mDTYPE\u001b[49m\u001b[43m,\u001b[49m\u001b[43m \u001b[49m\u001b[43maccept_sparse\u001b[49m\u001b[38;5;241;43m=\u001b[39;49m\u001b[38;5;124;43m\"\u001b[39;49m\u001b[38;5;124;43mcsr\u001b[39;49m\u001b[38;5;124;43m\"\u001b[39;49m\u001b[43m,\u001b[49m\u001b[43m \u001b[49m\u001b[43mreset\u001b[49m\u001b[38;5;241;43m=\u001b[39;49m\u001b[38;5;28;43;01mFalse\u001b[39;49;00m\u001b[43m)\u001b[49m\n\u001b[0;32m    603\u001b[0m \u001b[38;5;28;01mif\u001b[39;00m issparse(X) \u001b[38;5;129;01mand\u001b[39;00m (X\u001b[38;5;241m.\u001b[39mindices\u001b[38;5;241m.\u001b[39mdtype \u001b[38;5;241m!=\u001b[39m np\u001b[38;5;241m.\u001b[39mintc \u001b[38;5;129;01mor\u001b[39;00m X\u001b[38;5;241m.\u001b[39mindptr\u001b[38;5;241m.\u001b[39mdtype \u001b[38;5;241m!=\u001b[39m np\u001b[38;5;241m.\u001b[39mintc):\n\u001b[0;32m    604\u001b[0m     \u001b[38;5;28;01mraise\u001b[39;00m \u001b[38;5;167;01mValueError\u001b[39;00m(\u001b[38;5;124m\"\u001b[39m\u001b[38;5;124mNo support for np.int64 index based sparse matrices\u001b[39m\u001b[38;5;124m\"\u001b[39m)\n",
      "File \u001b[1;32m~\\AppData\\Local\\Programs\\Python\\Python310\\lib\\site-packages\\sklearn\\base.py:548\u001b[0m, in \u001b[0;36mBaseEstimator._validate_data\u001b[1;34m(self, X, y, reset, validate_separately, **check_params)\u001b[0m\n\u001b[0;32m    483\u001b[0m \u001b[38;5;28;01mdef\u001b[39;00m \u001b[38;5;21m_validate_data\u001b[39m(\n\u001b[0;32m    484\u001b[0m     \u001b[38;5;28mself\u001b[39m,\n\u001b[0;32m    485\u001b[0m     X\u001b[38;5;241m=\u001b[39m\u001b[38;5;124m\"\u001b[39m\u001b[38;5;124mno_validation\u001b[39m\u001b[38;5;124m\"\u001b[39m,\n\u001b[1;32m   (...)\u001b[0m\n\u001b[0;32m    489\u001b[0m     \u001b[38;5;241m*\u001b[39m\u001b[38;5;241m*\u001b[39mcheck_params,\n\u001b[0;32m    490\u001b[0m ):\n\u001b[0;32m    491\u001b[0m \u001b[38;5;250m    \u001b[39m\u001b[38;5;124;03m\"\"\"Validate input data and set or check the `n_features_in_` attribute.\u001b[39;00m\n\u001b[0;32m    492\u001b[0m \n\u001b[0;32m    493\u001b[0m \u001b[38;5;124;03m    Parameters\u001b[39;00m\n\u001b[1;32m   (...)\u001b[0m\n\u001b[0;32m    546\u001b[0m \u001b[38;5;124;03m        validated.\u001b[39;00m\n\u001b[0;32m    547\u001b[0m \u001b[38;5;124;03m    \"\"\"\u001b[39;00m\n\u001b[1;32m--> 548\u001b[0m     \u001b[38;5;28;43mself\u001b[39;49m\u001b[38;5;241;43m.\u001b[39;49m\u001b[43m_check_feature_names\u001b[49m\u001b[43m(\u001b[49m\u001b[43mX\u001b[49m\u001b[43m,\u001b[49m\u001b[43m \u001b[49m\u001b[43mreset\u001b[49m\u001b[38;5;241;43m=\u001b[39;49m\u001b[43mreset\u001b[49m\u001b[43m)\u001b[49m\n\u001b[0;32m    550\u001b[0m     \u001b[38;5;28;01mif\u001b[39;00m y \u001b[38;5;129;01mis\u001b[39;00m \u001b[38;5;28;01mNone\u001b[39;00m \u001b[38;5;129;01mand\u001b[39;00m \u001b[38;5;28mself\u001b[39m\u001b[38;5;241m.\u001b[39m_get_tags()[\u001b[38;5;124m\"\u001b[39m\u001b[38;5;124mrequires_y\u001b[39m\u001b[38;5;124m\"\u001b[39m]:\n\u001b[0;32m    551\u001b[0m         \u001b[38;5;28;01mraise\u001b[39;00m \u001b[38;5;167;01mValueError\u001b[39;00m(\n\u001b[0;32m    552\u001b[0m             \u001b[38;5;124mf\u001b[39m\u001b[38;5;124m\"\u001b[39m\u001b[38;5;124mThis \u001b[39m\u001b[38;5;132;01m{\u001b[39;00m\u001b[38;5;28mself\u001b[39m\u001b[38;5;241m.\u001b[39m\u001b[38;5;18m__class__\u001b[39m\u001b[38;5;241m.\u001b[39m\u001b[38;5;18m__name__\u001b[39m\u001b[38;5;132;01m}\u001b[39;00m\u001b[38;5;124m estimator \u001b[39m\u001b[38;5;124m\"\u001b[39m\n\u001b[0;32m    553\u001b[0m             \u001b[38;5;124m\"\u001b[39m\u001b[38;5;124mrequires y to be passed, but the target y is None.\u001b[39m\u001b[38;5;124m\"\u001b[39m\n\u001b[0;32m    554\u001b[0m         )\n",
      "File \u001b[1;32m~\\AppData\\Local\\Programs\\Python\\Python310\\lib\\site-packages\\sklearn\\base.py:481\u001b[0m, in \u001b[0;36mBaseEstimator._check_feature_names\u001b[1;34m(self, X, reset)\u001b[0m\n\u001b[0;32m    476\u001b[0m \u001b[38;5;28;01mif\u001b[39;00m \u001b[38;5;129;01mnot\u001b[39;00m missing_names \u001b[38;5;129;01mand\u001b[39;00m \u001b[38;5;129;01mnot\u001b[39;00m unexpected_names:\n\u001b[0;32m    477\u001b[0m     message \u001b[38;5;241m+\u001b[39m\u001b[38;5;241m=\u001b[39m (\n\u001b[0;32m    478\u001b[0m         \u001b[38;5;124m\"\u001b[39m\u001b[38;5;124mFeature names must be in the same order as they were in fit.\u001b[39m\u001b[38;5;130;01m\\n\u001b[39;00m\u001b[38;5;124m\"\u001b[39m\n\u001b[0;32m    479\u001b[0m     )\n\u001b[1;32m--> 481\u001b[0m \u001b[38;5;28;01mraise\u001b[39;00m \u001b[38;5;167;01mValueError\u001b[39;00m(message)\n",
      "\u001b[1;31mValueError\u001b[0m: The feature names should match those that were passed during fit.\nFeature names unseen at fit time:\n- is_weekend\n"
     ]
    }
   ],
   "source": [
    "from sklearn.ensemble import RandomForestClassifier\n",
    "\n",
    "# Create a random forest classifier with 100 trees\n",
    "rf = RandomForestClassifier(n_estimators=90, random_state=30)\n",
    "\n",
    "# Train the random forest classifier on the training data\n",
    "rf.fit(X_train, y_train)\n",
    "\n",
    "# Predict the classes of the testing data\n",
    "y_pred = rf.predict(X_test)\n",
    "\n",
    "# Evaluate the accuracy of the model\n",
    "accuracy = rf.score(X_test, y_test)*100\n",
    "print('Accuracy of the  RandomForestClassifier is equal ' + str(round(accuracy, 2)) + ' %.')"
   ]
  },
  {
   "cell_type": "code",
   "execution_count": null,
   "id": "98ad20c1",
   "metadata": {
    "execution": {
     "iopub.execute_input": "2023-04-27T11:50:28.265717Z",
     "iopub.status.busy": "2023-04-27T11:50:28.264500Z",
     "iopub.status.idle": "2023-04-27T11:50:28.271988Z",
     "shell.execute_reply": "2023-04-27T11:50:28.270254Z"
    },
    "papermill": {
     "duration": 0.042396,
     "end_time": "2023-04-27T11:50:28.275295",
     "exception": false,
     "start_time": "2023-04-27T11:50:28.232899",
     "status": "completed"
    },
    "tags": []
   },
   "outputs": [],
   "source": [
    "# from sklearn.ensemble import RandomForestClassifier\n",
    "# for i in range(10,100,10):\n",
    "#     for j in range(50,200,20):\n",
    "#         # Create a random forest classifier with 100 trees\n",
    "#         rf = RandomForestClassifier(n_estimators=j, random_state=i)\n",
    "\n",
    "#         # Train the random forest classifier on the training data\n",
    "#         rf.fit(X_train, y_train)\n",
    "\n",
    "#         # Predict the classes of the testing data\n",
    "#         y_pred = rf.predict(X_test)\n",
    "\n",
    "#         # Evaluate the accuracy of the model\n",
    "#         accuracy = rf.score(X_test, y_test)*100\n",
    "#         print('Accuracy of the  RandomForestClassifier is equal '+str(i)+' '+str(j)+' ' + str(round(accuracy, 2)) + ' %.')\n"
   ]
  },
  {
   "cell_type": "markdown",
   "id": "7d28a03c",
   "metadata": {
    "papermill": {
     "duration": 0.028907,
     "end_time": "2023-04-27T11:50:28.333416",
     "exception": false,
     "start_time": "2023-04-27T11:50:28.304509",
     "status": "completed"
    },
    "tags": []
   },
   "source": [
    "### Using DecisionTreeClassifier"
   ]
  },
  {
   "cell_type": "code",
   "execution_count": null,
   "id": "871a2fd3",
   "metadata": {
    "execution": {
     "iopub.execute_input": "2023-04-27T11:50:28.398826Z",
     "iopub.status.busy": "2023-04-27T11:50:28.397316Z",
     "iopub.status.idle": "2023-04-27T11:50:28.404063Z",
     "shell.execute_reply": "2023-04-27T11:50:28.402715Z"
    },
    "papermill": {
     "duration": 0.041996,
     "end_time": "2023-04-27T11:50:28.406892",
     "exception": false,
     "start_time": "2023-04-27T11:50:28.364896",
     "status": "completed"
    },
    "tags": []
   },
   "outputs": [],
   "source": [
    "# from sklearn.tree import DecisionTreeClassifier\n",
    "# from sklearn.model_selection import train_test_split\n",
    "# from sklearn.metrics import accuracy_score\n",
    "# import pandas as pd\n",
    "\n",
    "# # Load the dataset into a pandas dataframe\n",
    "# # df = pd.read_csv('dataset.csv')\n",
    "\n",
    "# # # Split the dataset into training and testing sets\n",
    "# # X_train, X_test, y_train, y_test = train_test_split(df.drop('target', axis=1), df['target'], test_size=0.3)\n",
    "\n",
    "# # Create a decision tree classifier object\n",
    "# clf = DecisionTreeClassifier()\n",
    "\n",
    "# # Fit the classifier to the training data\n",
    "# clf.fit(X_train, y_train)\n",
    "\n",
    "# # Make predictions on the testing data\n",
    "# y_pred = clf.predict(X_test)\n",
    "\n",
    "# # Calculate the accuracy of the classifier\n",
    "# accuracy = accuracy_score(y_test, y_pred)\n",
    "\n",
    "# print(f\"Accuracy: {accuracy}\")"
   ]
  },
  {
   "cell_type": "markdown",
   "id": "0c7d4cd7",
   "metadata": {
    "papermill": {
     "duration": 0.02837,
     "end_time": "2023-04-27T11:50:28.465801",
     "exception": false,
     "start_time": "2023-04-27T11:50:28.437431",
     "status": "completed"
    },
    "tags": []
   },
   "source": [
    "### Naive_bayes algorithm"
   ]
  },
  {
   "cell_type": "code",
   "execution_count": null,
   "id": "451ddf7b",
   "metadata": {
    "execution": {
     "iopub.execute_input": "2023-04-27T11:50:28.527864Z",
     "iopub.status.busy": "2023-04-27T11:50:28.526770Z",
     "iopub.status.idle": "2023-04-27T11:50:28.532510Z",
     "shell.execute_reply": "2023-04-27T11:50:28.531133Z"
    },
    "papermill": {
     "duration": 0.041114,
     "end_time": "2023-04-27T11:50:28.535715",
     "exception": false,
     "start_time": "2023-04-27T11:50:28.494601",
     "status": "completed"
    },
    "tags": []
   },
   "outputs": [],
   "source": [
    "# # Import required libraries\n",
    "# from sklearn.naive_bayes import MultinomialNB\n",
    "# from sklearn.metrics import accuracy_score\n",
    "# from sklearn.model_selection import train_test_split\n",
    "# from sklearn.feature_extraction.text import CountVectorizer\n",
    "\n",
    "\n",
    "# # Split data into training and testing sets\n",
    "\n",
    "# # Train the model\n",
    "# clf = MultinomialNB()\n",
    "# clf.fit(X_train, y_train)\n",
    "\n",
    "# # Predict using the trained model\n",
    "# y_pred = clf.predict(X_test)\n",
    "\n",
    "# # Evaluate the model accuracy\n",
    "# accuracy = accuracy_score(y_test, y_pred)\n",
    "# print(f\"Accuracy: {accuracy}\")"
   ]
  },
  {
   "cell_type": "markdown",
   "id": "eba24d3c",
   "metadata": {
    "papermill": {
     "duration": 0.030577,
     "end_time": "2023-04-27T11:50:28.596383",
     "exception": false,
     "start_time": "2023-04-27T11:50:28.565806",
     "status": "completed"
    },
    "tags": []
   },
   "source": [
    "### Using KNN algorithm"
   ]
  },
  {
   "cell_type": "code",
   "execution_count": null,
   "id": "5c8415b9",
   "metadata": {
    "execution": {
     "iopub.execute_input": "2023-04-27T11:50:28.662263Z",
     "iopub.status.busy": "2023-04-27T11:50:28.661774Z",
     "iopub.status.idle": "2023-04-27T11:50:28.667641Z",
     "shell.execute_reply": "2023-04-27T11:50:28.666235Z"
    },
    "papermill": {
     "duration": 0.042688,
     "end_time": "2023-04-27T11:50:28.670772",
     "exception": false,
     "start_time": "2023-04-27T11:50:28.628084",
     "status": "completed"
    },
    "tags": []
   },
   "outputs": [],
   "source": [
    "# from sklearn.neighbors import KNeighborsClassifier\n",
    "# from sklearn.model_selection import train_test_split\n",
    "# from sklearn.metrics import accuracy_score\n",
    "# import pandas as pd\n",
    "\n",
    "\n",
    "# knn = KNeighborsClassifier(n_neighbors=5)\n",
    "\n",
    "# # Fit the classifier to the training data\n",
    "# knn.fit(X_train, y_train)\n",
    "\n",
    "# # Predict the classes of the test data\n",
    "# y_pred = knn.predict(X_test)\n",
    "\n",
    "# # Evaluate the accuracy of the classifier\n",
    "# accuracy = accuracy_score(y_test, y_pred)\n",
    "# print(\"Accuracy:\", accuracy)"
   ]
  },
  {
   "cell_type": "markdown",
   "id": "f86432e8",
   "metadata": {
    "papermill": {
     "duration": 0.030369,
     "end_time": "2023-04-27T11:50:28.732733",
     "exception": false,
     "start_time": "2023-04-27T11:50:28.702364",
     "status": "completed"
    },
    "tags": []
   },
   "source": [
    "### Gradient Boosting."
   ]
  },
  {
   "cell_type": "code",
   "execution_count": null,
   "id": "be8e13a9",
   "metadata": {
    "execution": {
     "iopub.execute_input": "2023-04-27T11:50:28.799187Z",
     "iopub.status.busy": "2023-04-27T11:50:28.798772Z",
     "iopub.status.idle": "2023-04-27T11:50:28.804180Z",
     "shell.execute_reply": "2023-04-27T11:50:28.802702Z"
    },
    "papermill": {
     "duration": 0.042274,
     "end_time": "2023-04-27T11:50:28.807323",
     "exception": false,
     "start_time": "2023-04-27T11:50:28.765049",
     "status": "completed"
    },
    "tags": []
   },
   "outputs": [],
   "source": [
    "# # Import required libraries\n",
    "# from sklearn.ensemble import GradientBoostingClassifier\n",
    "# from sklearn.metrics import accuracy_score\n",
    "# from sklearn.model_selection import train_test_split\n",
    "\n",
    "# # Load your dataset\n",
    "# # Assuming X is your feature matrix and y is your target vector\n",
    "\n",
    "# # Split data into training and testing sets\n",
    "\n",
    "# # Train the model\n",
    "# clf = GradientBoostingClassifier()\n",
    "# clf.fit(X_train, y_train)\n",
    "\n",
    "# # Predict using the trained model\n",
    "# y_pred = clf.predict(X_test)\n",
    "\n",
    "# # Evaluate the model accuracy\n",
    "# accuracy = accuracy_score(y_test, y_pred)\n",
    "# print(f\"Accuracy: {accuracy}\")"
   ]
  },
  {
   "cell_type": "code",
   "execution_count": null,
   "id": "99bd5a77",
   "metadata": {
    "execution": {
     "iopub.execute_input": "2023-04-27T11:50:28.870055Z",
     "iopub.status.busy": "2023-04-27T11:50:28.869610Z",
     "iopub.status.idle": "2023-04-27T11:50:28.901220Z",
     "shell.execute_reply": "2023-04-27T11:50:28.899649Z"
    },
    "papermill": {
     "duration": 0.066932,
     "end_time": "2023-04-27T11:50:28.904311",
     "exception": false,
     "start_time": "2023-04-27T11:50:28.837379",
     "status": "completed"
    },
    "tags": []
   },
   "outputs": [],
   "source": [
    "test_df = na_df\n",
    "X_train=filtered_df.drop(columns=['transaction_date','invoice_id','customer_id','shop_id','shop_profile','shop_profile_encoded','item_name','is_holiday'])\n",
    "y_train=filtered_df[\"shop_profile_encoded\"]\n",
    "X_test=test_df.drop(columns=['transaction_date','invoice_id','customer_id','shop_id','shop_profile','item_name'])"
   ]
  },
  {
   "cell_type": "code",
   "execution_count": null,
   "id": "8550b10b",
   "metadata": {},
   "outputs": [],
   "source": [
    "corr=X_train.corr()\n",
    "mask = np.triu(np.ones_like(corr, dtype=bool))\n",
    "# Add the mask to the heatmap\n",
    "fig, ax = plt.subplots(figsize=(7,7)) \n",
    "sns.heatmap(corr, mask=mask,  center=0, linewidths=1, annot=True, fmt=\".2f\", ax = ax)\n",
    "plt.show()"
   ]
  },
  {
   "cell_type": "code",
   "execution_count": null,
   "id": "40f4b862",
   "metadata": {
    "execution": {
     "iopub.execute_input": "2023-04-27T11:50:28.968912Z",
     "iopub.status.busy": "2023-04-27T11:50:28.968487Z",
     "iopub.status.idle": "2023-04-27T11:50:28.994366Z",
     "shell.execute_reply": "2023-04-27T11:50:28.992595Z"
    },
    "papermill": {
     "duration": 0.059691,
     "end_time": "2023-04-27T11:50:28.997045",
     "exception": false,
     "start_time": "2023-04-27T11:50:28.937354",
     "status": "completed"
    },
    "tags": []
   },
   "outputs": [],
   "source": [
    "test_df.head()"
   ]
  },
  {
   "cell_type": "code",
   "execution_count": null,
   "id": "8a5ee434",
   "metadata": {
    "execution": {
     "iopub.execute_input": "2023-04-27T11:50:29.059215Z",
     "iopub.status.busy": "2023-04-27T11:50:29.058809Z",
     "iopub.status.idle": "2023-04-27T11:50:29.065661Z",
     "shell.execute_reply": "2023-04-27T11:50:29.064219Z"
    },
    "papermill": {
     "duration": 0.04142,
     "end_time": "2023-04-27T11:50:29.068938",
     "exception": false,
     "start_time": "2023-04-27T11:50:29.027518",
     "status": "completed"
    },
    "tags": []
   },
   "outputs": [],
   "source": [
    "print(test_df.shape[0])\n",
    "print(X_test.shape[0])"
   ]
  },
  {
   "cell_type": "code",
   "execution_count": null,
   "id": "779fe8f8",
   "metadata": {
    "execution": {
     "iopub.execute_input": "2023-04-27T11:50:29.134061Z",
     "iopub.status.busy": "2023-04-27T11:50:29.133643Z",
     "iopub.status.idle": "2023-04-27T11:50:29.147734Z",
     "shell.execute_reply": "2023-04-27T11:50:29.146314Z"
    },
    "papermill": {
     "duration": 0.049855,
     "end_time": "2023-04-27T11:50:29.150656",
     "exception": false,
     "start_time": "2023-04-27T11:50:29.100801",
     "status": "completed"
    },
    "tags": []
   },
   "outputs": [],
   "source": [
    "X_train.fillna(0, inplace=True)\n",
    "X_test.fillna(0, inplace=True)"
   ]
  },
  {
   "cell_type": "code",
   "execution_count": null,
   "id": "3732c30d",
   "metadata": {
    "execution": {
     "iopub.execute_input": "2023-04-27T11:50:29.215963Z",
     "iopub.status.busy": "2023-04-27T11:50:29.215265Z",
     "iopub.status.idle": "2023-04-27T11:51:26.862174Z",
     "shell.execute_reply": "2023-04-27T11:51:26.860702Z"
    },
    "papermill": {
     "duration": 57.682397,
     "end_time": "2023-04-27T11:51:26.865190",
     "exception": false,
     "start_time": "2023-04-27T11:50:29.182793",
     "status": "completed"
    },
    "tags": []
   },
   "outputs": [],
   "source": [
    "from sklearn.ensemble import RandomForestClassifier\n",
    "\n",
    "# Create a random forest classifier with 100 trees\n",
    "rf = RandomForestClassifier(n_estimators=90, random_state=30)\n",
    "\n",
    "# Train the random forest classifier on the training data\n",
    "rf.fit(X_train, y_train)\n",
    "\n",
    "# Predict the classes of the testing data\n",
    "y_pred = rf.predict(X_test)\n",
    "\n",
    "# Evaluate the accuracy of the mode"
   ]
  },
  {
   "cell_type": "code",
   "execution_count": null,
   "id": "a8fb564f",
   "metadata": {
    "execution": {
     "iopub.execute_input": "2023-04-27T11:51:26.925675Z",
     "iopub.status.busy": "2023-04-27T11:51:26.925284Z",
     "iopub.status.idle": "2023-04-27T11:51:26.930896Z",
     "shell.execute_reply": "2023-04-27T11:51:26.929358Z"
    },
    "papermill": {
     "duration": 0.039213,
     "end_time": "2023-04-27T11:51:26.933457",
     "exception": false,
     "start_time": "2023-04-27T11:51:26.894244",
     "status": "completed"
    },
    "tags": []
   },
   "outputs": [],
   "source": [
    "# from sklearn.ensemble import RandomForestClassifier\n",
    "# for i in range(10,100,10):\n",
    "#     for j in range(50,300,30):\n",
    "#         # Create a random forest classifier with 100 trees\n",
    "#         rf = RandomForestClassifier(n_estimators=j, random_state=i)\n",
    "\n",
    "#         # Train the random forest classifier on the training data\n",
    "#         rf.fit(X_train, y_train)\n",
    "\n",
    "#         # Predict the classes of the testing data\n",
    "#         y_pred = rf.predict(X_test)\n",
    "\n",
    "#         # Evaluate the accuracy of the model\n",
    "#         accuracy = rf.score(X_test, y_test)*100\n",
    "#         print('Accuracy of the  RandomForestClassifier is equal '+str(i)+' '+str(j)+' ' + str(round(accuracy, 2)) + ' %.')\n"
   ]
  },
  {
   "cell_type": "code",
   "execution_count": null,
   "id": "b326a86a",
   "metadata": {},
   "outputs": [],
   "source": [
    "\n"
   ]
  },
  {
   "cell_type": "code",
   "execution_count": 1294,
   "id": "8dfcbc01",
   "metadata": {
    "execution": {
     "iopub.execute_input": "2023-04-27T11:51:26.997288Z",
     "iopub.status.busy": "2023-04-27T11:51:26.996616Z",
     "iopub.status.idle": "2023-04-27T11:51:27.001065Z",
     "shell.execute_reply": "2023-04-27T11:51:27.000156Z"
    },
    "papermill": {
     "duration": 0.039554,
     "end_time": "2023-04-27T11:51:27.003903",
     "exception": false,
     "start_time": "2023-04-27T11:51:26.964349",
     "status": "completed"
    },
    "tags": []
   },
   "outputs": [],
   "source": [
    "# from sklearn.tree import DecisionTreeClassifier\n",
    "# from sklearn.model_selection import train_test_split\n",
    "# from sklearn.metrics import accuracy_score\n",
    "# import pandas as pd\n",
    "\n",
    "# # Load the dataset into a pandas dataframe\n",
    "# # df = pd.read_csv('dataset.csv')\n",
    "\n",
    "# # # Split the dataset into training and testing sets\n",
    "# # X_train, X_test, y_train, y_test = train_test_split(df.drop('target', axis=1), df['target'], test_size=0.3)\n",
    "\n",
    "# # Create a decision tree classifier object\n",
    "# clf = DecisionTreeClassifier()\n",
    "\n",
    "# # Fit the classifier to the training data\n",
    "# clf.fit(X_train, y_train)\n",
    "\n",
    "# # Make predictions on the testing data\n",
    "# y_pred = clf.predict(X_test)"
   ]
  },
  {
   "cell_type": "code",
   "execution_count": 1295,
   "id": "e34f8372",
   "metadata": {
    "execution": {
     "iopub.execute_input": "2023-04-27T11:51:27.068065Z",
     "iopub.status.busy": "2023-04-27T11:51:27.067613Z",
     "iopub.status.idle": "2023-04-27T11:51:27.080779Z",
     "shell.execute_reply": "2023-04-27T11:51:27.079576Z"
    },
    "papermill": {
     "duration": 0.048448,
     "end_time": "2023-04-27T11:51:27.083711",
     "exception": false,
     "start_time": "2023-04-27T11:51:27.035263",
     "status": "completed"
    },
    "tags": []
   },
   "outputs": [
    {
     "data": {
      "text/html": [
       "<div>\n",
       "<style scoped>\n",
       "    .dataframe tbody tr th:only-of-type {\n",
       "        vertical-align: middle;\n",
       "    }\n",
       "\n",
       "    .dataframe tbody tr th {\n",
       "        vertical-align: top;\n",
       "    }\n",
       "\n",
       "    .dataframe thead th {\n",
       "        text-align: right;\n",
       "    }\n",
       "</style>\n",
       "<table border=\"1\" class=\"dataframe\">\n",
       "  <thead>\n",
       "    <tr style=\"text-align: right;\">\n",
       "      <th></th>\n",
       "      <th>y_pred</th>\n",
       "    </tr>\n",
       "  </thead>\n",
       "  <tbody>\n",
       "    <tr>\n",
       "      <th>0</th>\n",
       "      <td>2</td>\n",
       "    </tr>\n",
       "    <tr>\n",
       "      <th>1</th>\n",
       "      <td>2</td>\n",
       "    </tr>\n",
       "    <tr>\n",
       "      <th>2</th>\n",
       "      <td>2</td>\n",
       "    </tr>\n",
       "    <tr>\n",
       "      <th>3</th>\n",
       "      <td>2</td>\n",
       "    </tr>\n",
       "    <tr>\n",
       "      <th>4</th>\n",
       "      <td>2</td>\n",
       "    </tr>\n",
       "    <tr>\n",
       "      <th>...</th>\n",
       "      <td>...</td>\n",
       "    </tr>\n",
       "    <tr>\n",
       "      <th>72293</th>\n",
       "      <td>2</td>\n",
       "    </tr>\n",
       "    <tr>\n",
       "      <th>72294</th>\n",
       "      <td>2</td>\n",
       "    </tr>\n",
       "    <tr>\n",
       "      <th>72295</th>\n",
       "      <td>2</td>\n",
       "    </tr>\n",
       "    <tr>\n",
       "      <th>72296</th>\n",
       "      <td>2</td>\n",
       "    </tr>\n",
       "    <tr>\n",
       "      <th>72297</th>\n",
       "      <td>2</td>\n",
       "    </tr>\n",
       "  </tbody>\n",
       "</table>\n",
       "<p>72298 rows × 1 columns</p>\n",
       "</div>"
      ],
      "text/plain": [
       "       y_pred\n",
       "0           2\n",
       "1           2\n",
       "2           2\n",
       "3           2\n",
       "4           2\n",
       "...       ...\n",
       "72293       2\n",
       "72294       2\n",
       "72295       2\n",
       "72296       2\n",
       "72297       2\n",
       "\n",
       "[72298 rows x 1 columns]"
      ]
     },
     "execution_count": 1295,
     "metadata": {},
     "output_type": "execute_result"
    }
   ],
   "source": [
    "# Convert the numpy array to a dataframe with column name \"y_pred\"\n",
    "df_4 = pd.DataFrame({'y_pred': y_pred})\n",
    "df_4"
   ]
  },
  {
   "cell_type": "code",
   "execution_count": 1296,
   "id": "29f9b1ba",
   "metadata": {
    "execution": {
     "iopub.execute_input": "2023-04-27T11:51:27.149668Z",
     "iopub.status.busy": "2023-04-27T11:51:27.148804Z",
     "iopub.status.idle": "2023-04-27T11:51:27.188400Z",
     "shell.execute_reply": "2023-04-27T11:51:27.187473Z"
    },
    "papermill": {
     "duration": 0.075126,
     "end_time": "2023-04-27T11:51:27.190615",
     "exception": false,
     "start_time": "2023-04-27T11:51:27.115489",
     "status": "completed"
    },
    "tags": []
   },
   "outputs": [
    {
     "data": {
      "text/html": [
       "<div>\n",
       "<style scoped>\n",
       "    .dataframe tbody tr th:only-of-type {\n",
       "        vertical-align: middle;\n",
       "    }\n",
       "\n",
       "    .dataframe tbody tr th {\n",
       "        vertical-align: top;\n",
       "    }\n",
       "\n",
       "    .dataframe thead th {\n",
       "        text-align: right;\n",
       "    }\n",
       "</style>\n",
       "<table border=\"1\" class=\"dataframe\">\n",
       "  <thead>\n",
       "    <tr style=\"text-align: right;\">\n",
       "      <th></th>\n",
       "      <th>transaction_date</th>\n",
       "      <th>invoice_id</th>\n",
       "      <th>customer_id</th>\n",
       "      <th>shop_id</th>\n",
       "      <th>item_name</th>\n",
       "      <th>item_size</th>\n",
       "      <th>item_price</th>\n",
       "      <th>quantity_sold</th>\n",
       "      <th>total_amount</th>\n",
       "      <th>income_per_quantity</th>\n",
       "      <th>...</th>\n",
       "      <th>date</th>\n",
       "      <th>is_weekend</th>\n",
       "      <th>is_holiday</th>\n",
       "      <th>count_invoice</th>\n",
       "      <th>shop_profile</th>\n",
       "      <th>weekly_income</th>\n",
       "      <th>weekper_month</th>\n",
       "      <th>item_encoded</th>\n",
       "      <th>customer_id_encoded</th>\n",
       "      <th>shop_profile_encoded</th>\n",
       "    </tr>\n",
       "  </thead>\n",
       "  <tbody>\n",
       "    <tr>\n",
       "      <th>0</th>\n",
       "      <td>2021-12-10 00:00:00+00:00</td>\n",
       "      <td>4235070.0</td>\n",
       "      <td>X6PH</td>\n",
       "      <td>SHOP101</td>\n",
       "      <td>NECTO</td>\n",
       "      <td>1.000000</td>\n",
       "      <td>0.300813</td>\n",
       "      <td>0.019608</td>\n",
       "      <td>0.028365</td>\n",
       "      <td>0.809865</td>\n",
       "      <td>...</td>\n",
       "      <td>0.300000</td>\n",
       "      <td>0</td>\n",
       "      <td>0</td>\n",
       "      <td>0.747550</td>\n",
       "      <td>High</td>\n",
       "      <td>1.000000</td>\n",
       "      <td>0.25</td>\n",
       "      <td>14</td>\n",
       "      <td>176582</td>\n",
       "      <td>2</td>\n",
       "    </tr>\n",
       "    <tr>\n",
       "      <th>1</th>\n",
       "      <td>2021-12-10 00:00:00+00:00</td>\n",
       "      <td>4235056.0</td>\n",
       "      <td>M8DL</td>\n",
       "      <td>SHOP101</td>\n",
       "      <td>ORANGE BARLEY</td>\n",
       "      <td>1.000000</td>\n",
       "      <td>0.300813</td>\n",
       "      <td>0.029412</td>\n",
       "      <td>0.040601</td>\n",
       "      <td>0.809865</td>\n",
       "      <td>...</td>\n",
       "      <td>0.300000</td>\n",
       "      <td>0</td>\n",
       "      <td>0</td>\n",
       "      <td>0.747550</td>\n",
       "      <td>High</td>\n",
       "      <td>1.000000</td>\n",
       "      <td>0.25</td>\n",
       "      <td>15</td>\n",
       "      <td>118618</td>\n",
       "      <td>2</td>\n",
       "    </tr>\n",
       "    <tr>\n",
       "      <th>2</th>\n",
       "      <td>2021-12-07 00:00:00+00:00</td>\n",
       "      <td>4234677.0</td>\n",
       "      <td>KM3P</td>\n",
       "      <td>SHOP101</td>\n",
       "      <td>GINGER BEER</td>\n",
       "      <td>1.000000</td>\n",
       "      <td>0.300813</td>\n",
       "      <td>0.019608</td>\n",
       "      <td>0.028365</td>\n",
       "      <td>0.809865</td>\n",
       "      <td>...</td>\n",
       "      <td>0.200000</td>\n",
       "      <td>0</td>\n",
       "      <td>0</td>\n",
       "      <td>0.747550</td>\n",
       "      <td>High</td>\n",
       "      <td>1.000000</td>\n",
       "      <td>0.00</td>\n",
       "      <td>8</td>\n",
       "      <td>109830</td>\n",
       "      <td>2</td>\n",
       "    </tr>\n",
       "    <tr>\n",
       "      <th>3</th>\n",
       "      <td>2021-12-06 00:00:00+00:00</td>\n",
       "      <td>4234448.0</td>\n",
       "      <td>AJZW</td>\n",
       "      <td>SHOP101</td>\n",
       "      <td>NECTO</td>\n",
       "      <td>0.621212</td>\n",
       "      <td>0.186992</td>\n",
       "      <td>0.019608</td>\n",
       "      <td>0.024472</td>\n",
       "      <td>0.809865</td>\n",
       "      <td>...</td>\n",
       "      <td>0.166667</td>\n",
       "      <td>0</td>\n",
       "      <td>0</td>\n",
       "      <td>0.747550</td>\n",
       "      <td>High</td>\n",
       "      <td>1.000000</td>\n",
       "      <td>0.00</td>\n",
       "      <td>14</td>\n",
       "      <td>56244</td>\n",
       "      <td>2</td>\n",
       "    </tr>\n",
       "    <tr>\n",
       "      <th>4</th>\n",
       "      <td>2021-11-30 00:00:00+00:00</td>\n",
       "      <td>4233285.0</td>\n",
       "      <td>C8XJ</td>\n",
       "      <td>SHOP101</td>\n",
       "      <td>STRAWBERRY MILK</td>\n",
       "      <td>0.000000</td>\n",
       "      <td>0.056911</td>\n",
       "      <td>0.049020</td>\n",
       "      <td>0.031702</td>\n",
       "      <td>0.809865</td>\n",
       "      <td>...</td>\n",
       "      <td>0.966667</td>\n",
       "      <td>0</td>\n",
       "      <td>0</td>\n",
       "      <td>0.747550</td>\n",
       "      <td>High</td>\n",
       "      <td>0.858171</td>\n",
       "      <td>1.00</td>\n",
       "      <td>19</td>\n",
       "      <td>65108</td>\n",
       "      <td>2</td>\n",
       "    </tr>\n",
       "    <tr>\n",
       "      <th>...</th>\n",
       "      <td>...</td>\n",
       "      <td>...</td>\n",
       "      <td>...</td>\n",
       "      <td>...</td>\n",
       "      <td>...</td>\n",
       "      <td>...</td>\n",
       "      <td>...</td>\n",
       "      <td>...</td>\n",
       "      <td>...</td>\n",
       "      <td>...</td>\n",
       "      <td>...</td>\n",
       "      <td>...</td>\n",
       "      <td>...</td>\n",
       "      <td>...</td>\n",
       "      <td>...</td>\n",
       "      <td>...</td>\n",
       "      <td>...</td>\n",
       "      <td>...</td>\n",
       "      <td>...</td>\n",
       "      <td>...</td>\n",
       "      <td>...</td>\n",
       "    </tr>\n",
       "    <tr>\n",
       "      <th>72293</th>\n",
       "      <td>2021-11-18 00:00:00+00:00</td>\n",
       "      <td>1096167.0</td>\n",
       "      <td>2AI3</td>\n",
       "      <td>SHOP127</td>\n",
       "      <td>ORANGE CRUSH</td>\n",
       "      <td>1.000000</td>\n",
       "      <td>0.300813</td>\n",
       "      <td>0.019608</td>\n",
       "      <td>0.028365</td>\n",
       "      <td>0.522079</td>\n",
       "      <td>...</td>\n",
       "      <td>0.566667</td>\n",
       "      <td>0</td>\n",
       "      <td>0</td>\n",
       "      <td>0.623352</td>\n",
       "      <td>High</td>\n",
       "      <td>0.264585</td>\n",
       "      <td>0.50</td>\n",
       "      <td>16</td>\n",
       "      <td>12101</td>\n",
       "      <td>2</td>\n",
       "    </tr>\n",
       "    <tr>\n",
       "      <th>72294</th>\n",
       "      <td>2021-11-18 00:00:00+00:00</td>\n",
       "      <td>1096167.0</td>\n",
       "      <td>2AI3</td>\n",
       "      <td>SHOP127</td>\n",
       "      <td>LEMONADE</td>\n",
       "      <td>1.000000</td>\n",
       "      <td>0.300813</td>\n",
       "      <td>0.029412</td>\n",
       "      <td>0.040601</td>\n",
       "      <td>0.522079</td>\n",
       "      <td>...</td>\n",
       "      <td>0.566667</td>\n",
       "      <td>0</td>\n",
       "      <td>0</td>\n",
       "      <td>0.623352</td>\n",
       "      <td>High</td>\n",
       "      <td>0.264585</td>\n",
       "      <td>0.50</td>\n",
       "      <td>11</td>\n",
       "      <td>12101</td>\n",
       "      <td>2</td>\n",
       "    </tr>\n",
       "    <tr>\n",
       "      <th>72295</th>\n",
       "      <td>2021-11-12 00:00:00+00:00</td>\n",
       "      <td>1094913.0</td>\n",
       "      <td>8MD9</td>\n",
       "      <td>SHOP127</td>\n",
       "      <td>LEMONADE</td>\n",
       "      <td>0.242424</td>\n",
       "      <td>0.105691</td>\n",
       "      <td>0.029412</td>\n",
       "      <td>0.027253</td>\n",
       "      <td>0.522079</td>\n",
       "      <td>...</td>\n",
       "      <td>0.366667</td>\n",
       "      <td>0</td>\n",
       "      <td>0</td>\n",
       "      <td>0.623352</td>\n",
       "      <td>High</td>\n",
       "      <td>0.179466</td>\n",
       "      <td>0.25</td>\n",
       "      <td>11</td>\n",
       "      <td>45985</td>\n",
       "      <td>2</td>\n",
       "    </tr>\n",
       "    <tr>\n",
       "      <th>72296</th>\n",
       "      <td>2021-12-03 00:00:00+00:00</td>\n",
       "      <td>8331755.0</td>\n",
       "      <td>MSPK</td>\n",
       "      <td>SHOP127</td>\n",
       "      <td>NECTO</td>\n",
       "      <td>1.000000</td>\n",
       "      <td>0.300813</td>\n",
       "      <td>0.019608</td>\n",
       "      <td>0.028365</td>\n",
       "      <td>0.522079</td>\n",
       "      <td>...</td>\n",
       "      <td>0.066667</td>\n",
       "      <td>0</td>\n",
       "      <td>0</td>\n",
       "      <td>0.623352</td>\n",
       "      <td>High</td>\n",
       "      <td>0.858171</td>\n",
       "      <td>0.00</td>\n",
       "      <td>14</td>\n",
       "      <td>121702</td>\n",
       "      <td>2</td>\n",
       "    </tr>\n",
       "    <tr>\n",
       "      <th>72297</th>\n",
       "      <td>2021-12-02 00:00:00+00:00</td>\n",
       "      <td>5918772.0</td>\n",
       "      <td>PR1N</td>\n",
       "      <td>SHOP127</td>\n",
       "      <td>CREAM SODA</td>\n",
       "      <td>1.000000</td>\n",
       "      <td>0.300813</td>\n",
       "      <td>0.019608</td>\n",
       "      <td>0.028365</td>\n",
       "      <td>0.522079</td>\n",
       "      <td>...</td>\n",
       "      <td>0.033333</td>\n",
       "      <td>0</td>\n",
       "      <td>0</td>\n",
       "      <td>0.623352</td>\n",
       "      <td>High</td>\n",
       "      <td>0.858171</td>\n",
       "      <td>0.00</td>\n",
       "      <td>2</td>\n",
       "      <td>137173</td>\n",
       "      <td>2</td>\n",
       "    </tr>\n",
       "  </tbody>\n",
       "</table>\n",
       "<p>72298 rows × 21 columns</p>\n",
       "</div>"
      ],
      "text/plain": [
       "               transaction_date  invoice_id customer_id  shop_id  \\\n",
       "0     2021-12-10 00:00:00+00:00   4235070.0        X6PH  SHOP101   \n",
       "1     2021-12-10 00:00:00+00:00   4235056.0        M8DL  SHOP101   \n",
       "2     2021-12-07 00:00:00+00:00   4234677.0        KM3P  SHOP101   \n",
       "3     2021-12-06 00:00:00+00:00   4234448.0        AJZW  SHOP101   \n",
       "4     2021-11-30 00:00:00+00:00   4233285.0        C8XJ  SHOP101   \n",
       "...                         ...         ...         ...      ...   \n",
       "72293 2021-11-18 00:00:00+00:00   1096167.0        2AI3  SHOP127   \n",
       "72294 2021-11-18 00:00:00+00:00   1096167.0        2AI3  SHOP127   \n",
       "72295 2021-11-12 00:00:00+00:00   1094913.0        8MD9  SHOP127   \n",
       "72296 2021-12-03 00:00:00+00:00   8331755.0        MSPK  SHOP127   \n",
       "72297 2021-12-02 00:00:00+00:00   5918772.0        PR1N  SHOP127   \n",
       "\n",
       "             item_name  item_size  item_price  quantity_sold  total_amount  \\\n",
       "0                NECTO   1.000000    0.300813       0.019608      0.028365   \n",
       "1        ORANGE BARLEY   1.000000    0.300813       0.029412      0.040601   \n",
       "2          GINGER BEER   1.000000    0.300813       0.019608      0.028365   \n",
       "3                NECTO   0.621212    0.186992       0.019608      0.024472   \n",
       "4      STRAWBERRY MILK   0.000000    0.056911       0.049020      0.031702   \n",
       "...                ...        ...         ...            ...           ...   \n",
       "72293     ORANGE CRUSH   1.000000    0.300813       0.019608      0.028365   \n",
       "72294         LEMONADE   1.000000    0.300813       0.029412      0.040601   \n",
       "72295         LEMONADE   0.242424    0.105691       0.029412      0.027253   \n",
       "72296            NECTO   1.000000    0.300813       0.019608      0.028365   \n",
       "72297       CREAM SODA   1.000000    0.300813       0.019608      0.028365   \n",
       "\n",
       "       income_per_quantity  ...      date  is_weekend  is_holiday  \\\n",
       "0                 0.809865  ...  0.300000           0           0   \n",
       "1                 0.809865  ...  0.300000           0           0   \n",
       "2                 0.809865  ...  0.200000           0           0   \n",
       "3                 0.809865  ...  0.166667           0           0   \n",
       "4                 0.809865  ...  0.966667           0           0   \n",
       "...                    ...  ...       ...         ...         ...   \n",
       "72293             0.522079  ...  0.566667           0           0   \n",
       "72294             0.522079  ...  0.566667           0           0   \n",
       "72295             0.522079  ...  0.366667           0           0   \n",
       "72296             0.522079  ...  0.066667           0           0   \n",
       "72297             0.522079  ...  0.033333           0           0   \n",
       "\n",
       "       count_invoice  shop_profile weekly_income  weekper_month  item_encoded  \\\n",
       "0           0.747550          High      1.000000           0.25            14   \n",
       "1           0.747550          High      1.000000           0.25            15   \n",
       "2           0.747550          High      1.000000           0.00             8   \n",
       "3           0.747550          High      1.000000           0.00            14   \n",
       "4           0.747550          High      0.858171           1.00            19   \n",
       "...              ...           ...           ...            ...           ...   \n",
       "72293       0.623352          High      0.264585           0.50            16   \n",
       "72294       0.623352          High      0.264585           0.50            11   \n",
       "72295       0.623352          High      0.179466           0.25            11   \n",
       "72296       0.623352          High      0.858171           0.00            14   \n",
       "72297       0.623352          High      0.858171           0.00             2   \n",
       "\n",
       "       customer_id_encoded  shop_profile_encoded  \n",
       "0                   176582                     2  \n",
       "1                   118618                     2  \n",
       "2                   109830                     2  \n",
       "3                    56244                     2  \n",
       "4                    65108                     2  \n",
       "...                    ...                   ...  \n",
       "72293                12101                     2  \n",
       "72294                12101                     2  \n",
       "72295                45985                     2  \n",
       "72296               121702                     2  \n",
       "72297               137173                     2  \n",
       "\n",
       "[72298 rows x 21 columns]"
      ]
     },
     "execution_count": 1296,
     "metadata": {},
     "output_type": "execute_result"
    }
   ],
   "source": [
    "test_df = test_df.reset_index(drop=True)\n",
    "test_df"
   ]
  },
  {
   "cell_type": "code",
   "execution_count": 1297,
   "id": "4252e82e",
   "metadata": {
    "execution": {
     "iopub.execute_input": "2023-04-27T11:51:27.257418Z",
     "iopub.status.busy": "2023-04-27T11:51:27.256940Z",
     "iopub.status.idle": "2023-04-27T11:51:27.273646Z",
     "shell.execute_reply": "2023-04-27T11:51:27.272449Z"
    },
    "papermill": {
     "duration": 0.053534,
     "end_time": "2023-04-27T11:51:27.276536",
     "exception": false,
     "start_time": "2023-04-27T11:51:27.223002",
     "status": "completed"
    },
    "tags": []
   },
   "outputs": [],
   "source": [
    "result_df = pd.concat([test_df, df_4], axis=1)"
   ]
  },
  {
   "cell_type": "code",
   "execution_count": 1298,
   "id": "f883fe36",
   "metadata": {
    "execution": {
     "iopub.execute_input": "2023-04-27T11:51:27.339889Z",
     "iopub.status.busy": "2023-04-27T11:51:27.339421Z",
     "iopub.status.idle": "2023-04-27T11:51:27.371622Z",
     "shell.execute_reply": "2023-04-27T11:51:27.369981Z"
    },
    "papermill": {
     "duration": 0.068144,
     "end_time": "2023-04-27T11:51:27.374427",
     "exception": false,
     "start_time": "2023-04-27T11:51:27.306283",
     "status": "completed"
    },
    "tags": []
   },
   "outputs": [
    {
     "data": {
      "text/html": [
       "<div>\n",
       "<style scoped>\n",
       "    .dataframe tbody tr th:only-of-type {\n",
       "        vertical-align: middle;\n",
       "    }\n",
       "\n",
       "    .dataframe tbody tr th {\n",
       "        vertical-align: top;\n",
       "    }\n",
       "\n",
       "    .dataframe thead th {\n",
       "        text-align: right;\n",
       "    }\n",
       "</style>\n",
       "<table border=\"1\" class=\"dataframe\">\n",
       "  <thead>\n",
       "    <tr style=\"text-align: right;\">\n",
       "      <th></th>\n",
       "      <th>shop_id</th>\n",
       "      <th>y_pred</th>\n",
       "    </tr>\n",
       "  </thead>\n",
       "  <tbody>\n",
       "    <tr>\n",
       "      <th>0</th>\n",
       "      <td>SHOP101</td>\n",
       "      <td>2</td>\n",
       "    </tr>\n",
       "    <tr>\n",
       "      <th>1</th>\n",
       "      <td>SHOP101</td>\n",
       "      <td>2</td>\n",
       "    </tr>\n",
       "    <tr>\n",
       "      <th>2</th>\n",
       "      <td>SHOP101</td>\n",
       "      <td>2</td>\n",
       "    </tr>\n",
       "    <tr>\n",
       "      <th>3</th>\n",
       "      <td>SHOP101</td>\n",
       "      <td>2</td>\n",
       "    </tr>\n",
       "    <tr>\n",
       "      <th>4</th>\n",
       "      <td>SHOP101</td>\n",
       "      <td>2</td>\n",
       "    </tr>\n",
       "    <tr>\n",
       "      <th>...</th>\n",
       "      <td>...</td>\n",
       "      <td>...</td>\n",
       "    </tr>\n",
       "    <tr>\n",
       "      <th>72293</th>\n",
       "      <td>SHOP127</td>\n",
       "      <td>2</td>\n",
       "    </tr>\n",
       "    <tr>\n",
       "      <th>72294</th>\n",
       "      <td>SHOP127</td>\n",
       "      <td>2</td>\n",
       "    </tr>\n",
       "    <tr>\n",
       "      <th>72295</th>\n",
       "      <td>SHOP127</td>\n",
       "      <td>2</td>\n",
       "    </tr>\n",
       "    <tr>\n",
       "      <th>72296</th>\n",
       "      <td>SHOP127</td>\n",
       "      <td>2</td>\n",
       "    </tr>\n",
       "    <tr>\n",
       "      <th>72297</th>\n",
       "      <td>SHOP127</td>\n",
       "      <td>2</td>\n",
       "    </tr>\n",
       "  </tbody>\n",
       "</table>\n",
       "<p>72298 rows × 2 columns</p>\n",
       "</div>"
      ],
      "text/plain": [
       "       shop_id  y_pred\n",
       "0      SHOP101       2\n",
       "1      SHOP101       2\n",
       "2      SHOP101       2\n",
       "3      SHOP101       2\n",
       "4      SHOP101       2\n",
       "...        ...     ...\n",
       "72293  SHOP127       2\n",
       "72294  SHOP127       2\n",
       "72295  SHOP127       2\n",
       "72296  SHOP127       2\n",
       "72297  SHOP127       2\n",
       "\n",
       "[72298 rows x 2 columns]"
      ]
     },
     "execution_count": 1298,
     "metadata": {},
     "output_type": "execute_result"
    }
   ],
   "source": [
    "new_df =result_df.loc[:, [\"shop_id\", \"y_pred\"]]\n",
    "new_df"
   ]
  },
  {
   "cell_type": "code",
   "execution_count": 1299,
   "id": "c60f5d43",
   "metadata": {
    "execution": {
     "iopub.execute_input": "2023-04-27T11:51:27.439834Z",
     "iopub.status.busy": "2023-04-27T11:51:27.439194Z",
     "iopub.status.idle": "2023-04-27T11:51:27.459589Z",
     "shell.execute_reply": "2023-04-27T11:51:27.458226Z"
    },
    "papermill": {
     "duration": 0.056593,
     "end_time": "2023-04-27T11:51:27.462474",
     "exception": false,
     "start_time": "2023-04-27T11:51:27.405881",
     "status": "completed"
    },
    "tags": []
   },
   "outputs": [],
   "source": [
    "mode_df = new_df.groupby('shop_id')['y_pred'].apply(lambda x: x.mean()).reset_index()\n",
    "\n",
    "mode_df['y_pred'] = mode_df['y_pred'].astype(int)"
   ]
  },
  {
   "cell_type": "code",
   "execution_count": null,
   "id": "e021b9f5",
   "metadata": {
    "papermill": {
     "duration": 0.030394,
     "end_time": "2023-04-27T11:51:27.525272",
     "exception": false,
     "start_time": "2023-04-27T11:51:27.494878",
     "status": "completed"
    },
    "tags": []
   },
   "outputs": [],
   "source": []
  },
  {
   "cell_type": "code",
   "execution_count": 1300,
   "id": "059df097",
   "metadata": {
    "execution": {
     "iopub.execute_input": "2023-04-27T11:51:27.590814Z",
     "iopub.status.busy": "2023-04-27T11:51:27.590372Z",
     "iopub.status.idle": "2023-04-27T11:51:27.598234Z",
     "shell.execute_reply": "2023-04-27T11:51:27.596643Z"
    },
    "papermill": {
     "duration": 0.043068,
     "end_time": "2023-04-27T11:51:27.600773",
     "exception": false,
     "start_time": "2023-04-27T11:51:27.557705",
     "status": "completed"
    },
    "tags": []
   },
   "outputs": [],
   "source": [
    "mode_df=mode_df.replace([0,1,2],[\"Low\",\"Moderate\",\"High\"])"
   ]
  },
  {
   "cell_type": "code",
   "execution_count": 1301,
   "id": "6740aa09",
   "metadata": {
    "execution": {
     "iopub.execute_input": "2023-04-27T11:51:27.665048Z",
     "iopub.status.busy": "2023-04-27T11:51:27.664606Z",
     "iopub.status.idle": "2023-04-27T11:51:27.670631Z",
     "shell.execute_reply": "2023-04-27T11:51:27.669282Z"
    },
    "papermill": {
     "duration": 0.041598,
     "end_time": "2023-04-27T11:51:27.673281",
     "exception": false,
     "start_time": "2023-04-27T11:51:27.631683",
     "status": "completed"
    },
    "tags": []
   },
   "outputs": [],
   "source": [
    "mode_df = mode_df.rename(columns={'y_pred': 'shop_profile'})"
   ]
  },
  {
   "cell_type": "code",
   "execution_count": 1302,
   "id": "b7f4a05d",
   "metadata": {
    "execution": {
     "iopub.execute_input": "2023-04-27T11:51:27.739303Z",
     "iopub.status.busy": "2023-04-27T11:51:27.738906Z",
     "iopub.status.idle": "2023-04-27T11:51:27.749592Z",
     "shell.execute_reply": "2023-04-27T11:51:27.748594Z"
    },
    "papermill": {
     "duration": 0.046819,
     "end_time": "2023-04-27T11:51:27.752133",
     "exception": false,
     "start_time": "2023-04-27T11:51:27.705314",
     "status": "completed"
    },
    "tags": []
   },
   "outputs": [
    {
     "data": {
      "text/html": [
       "<div>\n",
       "<style scoped>\n",
       "    .dataframe tbody tr th:only-of-type {\n",
       "        vertical-align: middle;\n",
       "    }\n",
       "\n",
       "    .dataframe tbody tr th {\n",
       "        vertical-align: top;\n",
       "    }\n",
       "\n",
       "    .dataframe thead th {\n",
       "        text-align: right;\n",
       "    }\n",
       "</style>\n",
       "<table border=\"1\" class=\"dataframe\">\n",
       "  <thead>\n",
       "    <tr style=\"text-align: right;\">\n",
       "      <th></th>\n",
       "      <th>shop_id</th>\n",
       "      <th>shop_profile</th>\n",
       "    </tr>\n",
       "  </thead>\n",
       "  <tbody>\n",
       "    <tr>\n",
       "      <th>0</th>\n",
       "      <td>SHOP046</td>\n",
       "      <td>Moderate</td>\n",
       "    </tr>\n",
       "    <tr>\n",
       "      <th>1</th>\n",
       "      <td>SHOP024</td>\n",
       "      <td>Moderate</td>\n",
       "    </tr>\n",
       "    <tr>\n",
       "      <th>2</th>\n",
       "      <td>SHOP023</td>\n",
       "      <td>Low</td>\n",
       "    </tr>\n",
       "    <tr>\n",
       "      <th>3</th>\n",
       "      <td>SHOP097</td>\n",
       "      <td>Low</td>\n",
       "    </tr>\n",
       "    <tr>\n",
       "      <th>4</th>\n",
       "      <td>SHOP044</td>\n",
       "      <td>Moderate</td>\n",
       "    </tr>\n",
       "  </tbody>\n",
       "</table>\n",
       "</div>"
      ],
      "text/plain": [
       "   shop_id shop_profile\n",
       "0  SHOP046     Moderate\n",
       "1  SHOP024     Moderate\n",
       "2  SHOP023          Low\n",
       "3  SHOP097          Low\n",
       "4  SHOP044     Moderate"
      ]
     },
     "execution_count": 1302,
     "metadata": {},
     "output_type": "execute_result"
    }
   ],
   "source": [
    "df_3.head()"
   ]
  },
  {
   "cell_type": "code",
   "execution_count": 1303,
   "id": "4fc47b7e",
   "metadata": {
    "execution": {
     "iopub.execute_input": "2023-04-27T11:51:27.816307Z",
     "iopub.status.busy": "2023-04-27T11:51:27.815910Z",
     "iopub.status.idle": "2023-04-27T11:51:27.826554Z",
     "shell.execute_reply": "2023-04-27T11:51:27.824852Z"
    },
    "papermill": {
     "duration": 0.046729,
     "end_time": "2023-04-27T11:51:27.829432",
     "exception": false,
     "start_time": "2023-04-27T11:51:27.782703",
     "status": "completed"
    },
    "tags": []
   },
   "outputs": [],
   "source": [
    "# df_3=pd.read_csv(\"/kaggle/input/data-storm-4/Testing-data.csv\")\n",
    "df_3.drop(\"shop_profile\", axis =1, inplace = True)\n",
    "merged_df = pd.merge(df_3, mode_df, on='shop_id')"
   ]
  },
  {
   "cell_type": "code",
   "execution_count": 1304,
   "id": "bbb2c038",
   "metadata": {
    "execution": {
     "iopub.execute_input": "2023-04-27T11:51:27.892617Z",
     "iopub.status.busy": "2023-04-27T11:51:27.892214Z",
     "iopub.status.idle": "2023-04-27T11:51:27.903350Z",
     "shell.execute_reply": "2023-04-27T11:51:27.901857Z"
    },
    "papermill": {
     "duration": 0.045726,
     "end_time": "2023-04-27T11:51:27.906144",
     "exception": false,
     "start_time": "2023-04-27T11:51:27.860418",
     "status": "completed"
    },
    "tags": []
   },
   "outputs": [
    {
     "data": {
      "text/html": [
       "<div>\n",
       "<style scoped>\n",
       "    .dataframe tbody tr th:only-of-type {\n",
       "        vertical-align: middle;\n",
       "    }\n",
       "\n",
       "    .dataframe tbody tr th {\n",
       "        vertical-align: top;\n",
       "    }\n",
       "\n",
       "    .dataframe thead th {\n",
       "        text-align: right;\n",
       "    }\n",
       "</style>\n",
       "<table border=\"1\" class=\"dataframe\">\n",
       "  <thead>\n",
       "    <tr style=\"text-align: right;\">\n",
       "      <th></th>\n",
       "      <th>shop_id</th>\n",
       "      <th>shop_profile</th>\n",
       "    </tr>\n",
       "  </thead>\n",
       "  <tbody>\n",
       "  </tbody>\n",
       "</table>\n",
       "</div>"
      ],
      "text/plain": [
       "Empty DataFrame\n",
       "Columns: [shop_id, shop_profile]\n",
       "Index: []"
      ]
     },
     "execution_count": 1304,
     "metadata": {},
     "output_type": "execute_result"
    }
   ],
   "source": [
    "merged_df.head()"
   ]
  },
  {
   "cell_type": "code",
   "execution_count": 792,
   "id": "14bcff04",
   "metadata": {
    "execution": {
     "iopub.execute_input": "2023-04-27T11:51:27.976184Z",
     "iopub.status.busy": "2023-04-27T11:51:27.975733Z",
     "iopub.status.idle": "2023-04-27T11:51:27.987416Z",
     "shell.execute_reply": "2023-04-27T11:51:27.985703Z"
    },
    "papermill": {
     "duration": 0.051195,
     "end_time": "2023-04-27T11:51:27.990351",
     "exception": false,
     "start_time": "2023-04-27T11:51:27.939156",
     "status": "completed"
    },
    "tags": []
   },
   "outputs": [],
   "source": [
    "merged_df.to_csv(\"Day_3_Submisson_1.csv\",index=False)"
   ]
  },
  {
   "cell_type": "code",
   "execution_count": null,
   "id": "2ad341bd",
   "metadata": {
    "papermill": {
     "duration": 0.032647,
     "end_time": "2023-04-27T11:51:28.119729",
     "exception": false,
     "start_time": "2023-04-27T11:51:28.087082",
     "status": "completed"
    },
    "tags": []
   },
   "outputs": [],
   "source": []
  },
  {
   "cell_type": "code",
   "execution_count": null,
   "id": "4c38dcde",
   "metadata": {
    "papermill": {
     "duration": 0.030901,
     "end_time": "2023-04-27T11:51:28.183638",
     "exception": false,
     "start_time": "2023-04-27T11:51:28.152737",
     "status": "completed"
    },
    "tags": []
   },
   "outputs": [],
   "source": []
  },
  {
   "cell_type": "code",
   "execution_count": null,
   "id": "7edd4bfe",
   "metadata": {
    "papermill": {
     "duration": 0.034017,
     "end_time": "2023-04-27T11:51:28.248082",
     "exception": false,
     "start_time": "2023-04-27T11:51:28.214065",
     "status": "completed"
    },
    "tags": []
   },
   "outputs": [],
   "source": []
  },
  {
   "cell_type": "code",
   "execution_count": null,
   "id": "76a3eed4",
   "metadata": {
    "papermill": {
     "duration": 0.030272,
     "end_time": "2023-04-27T11:51:28.309870",
     "exception": false,
     "start_time": "2023-04-27T11:51:28.279598",
     "status": "completed"
    },
    "tags": []
   },
   "outputs": [],
   "source": []
  }
 ],
 "metadata": {
  "kernelspec": {
   "display_name": "Python 3 (ipykernel)",
   "language": "python",
   "name": "python3"
  },
  "language_info": {
   "codemirror_mode": {
    "name": "ipython",
    "version": 3
   },
   "file_extension": ".py",
   "mimetype": "text/x-python",
   "name": "python",
   "nbconvert_exporter": "python",
   "pygments_lexer": "ipython3",
   "version": "3.10.8"
  },
  "papermill": {
   "default_parameters": {},
   "duration": 138.755768,
   "end_time": "2023-04-27T11:51:29.366893",
   "environment_variables": {},
   "exception": null,
   "input_path": "__notebook__.ipynb",
   "output_path": "__notebook__.ipynb",
   "parameters": {},
   "start_time": "2023-04-27T11:49:10.611125",
   "version": "2.4.0"
  }
 },
 "nbformat": 4,
 "nbformat_minor": 5
}
